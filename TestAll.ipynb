{
 "cells": [
  {
   "cell_type": "code",
   "execution_count": null,
   "id": "053456f6",
   "metadata": {},
   "outputs": [],
   "source": [
    "import imbrium\n",
    "import pandas as pd\n",
    "print(imbrium.__version__)"
   ]
  },
  {
   "cell_type": "code",
   "execution_count": null,
   "id": "95ce476a",
   "metadata": {},
   "outputs": [],
   "source": [
    "from imbrium.predictors.univarstandard import *"
   ]
  },
  {
   "cell_type": "code",
   "execution_count": null,
   "id": "9880c648",
   "metadata": {},
   "outputs": [],
   "source": [
    "data = pd.read_csv('example_dataset/CaliforniaHousing.csv')\n",
    "data = data['target']"
   ]
  },
  {
   "cell_type": "markdown",
   "id": "d195024a",
   "metadata": {},
   "source": [
    "## UnivarMultiStep"
   ]
  },
  {
   "cell_type": "code",
   "execution_count": null,
   "id": "09148103",
   "metadata": {},
   "outputs": [],
   "source": [
    "predictor1 = BasicMultStepUniVar(steps_past =  5, steps_future = 10, data = data, scale = '')\n",
    "predictor1.create_mlp(optimizer= 'adam', loss= 'mean_squared_error', metrics = 'mean_squared_error', layer_config = {'layer0': (25, 'relu'), 'layer1': (5,'relu'), 'layer2': (25, 'relu')})\n",
    "predictor1.fit_model(epochs = 7, show_progress= 1, validation_split = 0.20, batch_size = 10, monitor='val_loss', patience=1, min_delta = 0, verbose = 1)\n",
    "predictor1.show_performance()\n",
    "predictor1.predict(data.tail(5))\n",
    "predictor1.model_blueprint()"
   ]
  },
  {
   "cell_type": "code",
   "execution_count": null,
   "id": "fd46ad6d",
   "metadata": {},
   "outputs": [],
   "source": [
    "predictor2 = BasicMultStepUniVar(steps_past =  5, steps_future = 10, data = data, scale = 'normalize')\n",
    "predictor2.create_rnn(optimizer = 'adam', loss = 'mean_squared_error', metrics = 'mean_squared_error', layer_config = {'layer0': (20, 'relu'), 'layer1': (25,'relu'), 'layer2': (5, 'relu')})\n",
    "predictor2.fit_model(epochs = 7, show_progress= 1, validation_split = 0.20, batch_size = 10, monitor='val_loss', patience=1, min_delta = 0, verbose = 1)\n",
    "predictor2.show_performance()\n",
    "predictor2.predict(data.tail(5))\n",
    "predictor2.model_blueprint()"
   ]
  },
  {
   "cell_type": "code",
   "execution_count": null,
   "id": "43222c96",
   "metadata": {},
   "outputs": [],
   "source": [
    "predictor3 = BasicMultStepUniVar(steps_past =  5, steps_future = 10, data = data, scale = 'standard')\n",
    "predictor3.create_lstm(optimizer = 'adam', loss = 'mean_squared_error', metrics = 'mean_squared_error', layer_config = {'layer0': (20, 'relu'), 'layer1': (25,'relu'), 'layer2': (5, 'relu')})\n",
    "predictor3.fit_model(epochs = 10, show_progress= 1, validation_split = 0.20, batch_size = 10)\n",
    "predictor3.show_performance()\n",
    "predictor3.predict(data.tail(5))\n",
    "predictor3.model_blueprint()"
   ]
  },
  {
   "cell_type": "code",
   "execution_count": null,
   "id": "bacd94a6",
   "metadata": {},
   "outputs": [],
   "source": [
    "predictor4 = BasicMultStepUniVar(steps_past =  5, steps_future = 10, data = data, scale = 'minmax')\n",
    "predictor4.create_gru(optimizer = 'adam', loss = 'mean_squared_error', metrics = 'mean_squared_error', layer_config = {'layer0': (20, 'relu'), 'layer1': (25,'relu'), 'layer2': (5, 'relu')})\n",
    "predictor4.fit_model(epochs = 2, show_progress= 1, validation_split = 0.20, batch_size = 10)\n",
    "predictor4.show_performance()\n",
    "predictor4.predict(data.tail(5))\n",
    "predictor4.model_blueprint()"
   ]
  },
  {
   "cell_type": "code",
   "execution_count": null,
   "id": "24620d03",
   "metadata": {},
   "outputs": [],
   "source": [
    "predictor5 = BasicMultStepUniVar(steps_past =  5, steps_future = 10, data = data, scale = '')\n",
    "predictor5.create_cnn(optimizer = 'adam', loss = 'mean_squared_error', metrics = 'mean_squared_error', layer_config = {'layer0': (8, 1, 'relu'), 'layer1': (4, 1, 'relu'), 'layer2': (2), 'layer3': (5, 'relu')})\n",
    "predictor5.fit_model(epochs = 2, show_progress= 1, validation_split = 0.20, batch_size = 10)\n",
    "predictor5.show_performance()\n",
    "predictor5.predict(data.tail(5))\n",
    "predictor5.model_blueprint()"
   ]
  },
  {
   "cell_type": "code",
   "execution_count": null,
   "id": "ebf305cb",
   "metadata": {},
   "outputs": [],
   "source": [
    "predictor6 = BasicMultStepUniVar(steps_past =  5, steps_future = 10, data = data, scale = 'standard')\n",
    "predictor6.create_birnn(optimizer = 'adam', loss = 'mean_squared_error', metrics = 'mean_squared_error', layer_config = {'layer0': (15, 'relu'), 'layer1': (5, 'relu')})\n",
    "predictor6.fit_model(epochs = 2, show_progress= 1, validation_split = 0.20, batch_size = 10)\n",
    "predictor6.show_performance()\n",
    "predictor6.predict(data.tail(5))\n",
    "predictor6.model_blueprint()"
   ]
  },
  {
   "cell_type": "code",
   "execution_count": null,
   "id": "2852b4be",
   "metadata": {},
   "outputs": [],
   "source": [
    "predictor7 = BasicMultStepUniVar(steps_past =  5, steps_future = 10, data = data, scale = 'minmax')\n",
    "predictor7.create_bilstm(optimizer = 'adam', loss = 'mean_squared_error', metrics = 'mean_squared_error', layer_config = {'layer0': (15, 'relu'), 'layer1': (5, 'relu')})\n",
    "predictor7.fit_model(epochs = 7, show_progress= 1, validation_split = 0.20, batch_size = 10, monitor='val_loss', patience=1, min_delta = 0, verbose = 1)\n",
    "predictor7.show_performance()\n",
    "predictor7.predict(data.tail(5))\n",
    "predictor7.model_blueprint()"
   ]
  },
  {
   "cell_type": "code",
   "execution_count": null,
   "id": "436822cf",
   "metadata": {},
   "outputs": [],
   "source": [
    "predictor8 = BasicMultStepUniVar(steps_past =  5, steps_future = 10, data = data, scale = 'maxabs')\n",
    "predictor8.create_bigru(optimizer = 'adam', loss = 'mean_squared_error', metrics = 'mean_squared_error', layer_config = {'layer0': (15, 'relu'), 'layer1': (5, 'relu')})\n",
    "predictor8.fit_model(epochs = 2, show_progress= 1, validation_split = 0.20, batch_size = 10)\n",
    "predictor8.show_performance()\n",
    "predictor8.predict(data.tail(5))\n",
    "predictor8.model_blueprint()"
   ]
  },
  {
   "cell_type": "code",
   "execution_count": null,
   "id": "9193be6a",
   "metadata": {},
   "outputs": [],
   "source": [
    "predictor9 = BasicMultStepUniVar(steps_past =  5, steps_future = 10, data = data, scale = 'normalize')\n",
    "predictor9.create_encdec_rnn(optimizer = 'adam', loss = 'mean_squared_error', metrics = 'mean_squared_error', layer_config = {'layer0': (50, 'relu'), 'layer1': (5, 'relu'), 'layer2': (5, 'relu'), 'layer3': (1, 'relu')})\n",
    "predictor9.fit_model(epochs = 2, show_progress= 1, validation_split = 0.20, batch_size = 10)\n",
    "predictor9.show_performance()\n",
    "predictor9.predict(data.tail(5))\n",
    "predictor9.model_blueprint()"
   ]
  },
  {
   "cell_type": "code",
   "execution_count": null,
   "id": "d412f513",
   "metadata": {},
   "outputs": [],
   "source": [
    "predictor10 = BasicMultStepUniVar(steps_past =  5, steps_future = 10, data = data, scale = 'normalize')\n",
    "predictor10.create_encdec_lstm(optimizer = 'adam', loss = 'mean_squared_error', metrics = 'mean_squared_error', layer_config = {'layer0': (50, 'relu'), 'layer1': (5, 'relu'), 'layer2': (5, 'relu'), 'layer3': (1, 'relu')})\n",
    "predictor10.fit_model(epochs = 2, show_progress= 1, validation_split = 0.20, batch_size = 10)\n",
    "predictor10.show_performance()\n",
    "predictor10.predict(data.tail(5))\n",
    "predictor10.model_blueprint()"
   ]
  },
  {
   "cell_type": "code",
   "execution_count": null,
   "id": "911eee0b",
   "metadata": {},
   "outputs": [],
   "source": [
    "predictor11 = BasicMultStepUniVar(steps_past =  5, steps_future = 10, data = data, scale = 'normalize')\n",
    "predictor11.create_encdec_cnn(optimizer = 'adam', loss = 'mean_squared_error', metrics = 'mean_squared_error', layer_config = {'layer0': (8, 1, 'relu'), 'layer1': (4, 1, 'relu'), 'layer2': (2), 'layer3': (5, 'relu'), 'layer4': (1, 'relu')})\n",
    "predictor11.fit_model(epochs = 2, show_progress= 1, validation_split = 0.20, batch_size = 10)\n",
    "predictor11.show_performance()\n",
    "predictor11.predict(data.tail(5))\n",
    "predictor11.model_blueprint()"
   ]
  },
  {
   "cell_type": "code",
   "execution_count": null,
   "id": "f9f43efc",
   "metadata": {},
   "outputs": [],
   "source": [
    "predictor12 = BasicMultStepUniVar(steps_past =  5, steps_future = 10, data = data, scale = 'minmax')\n",
    "predictor12.create_encdec_gru(optimizer = 'adam', loss = 'mean_squared_error', metrics = 'mean_squared_error', layer_config = {'layer0': (50, 'relu'), 'layer1': (5, 'relu'), 'layer2': (5, 'relu'), 'layer3': (1, 'relu')})\n",
    "predictor12.fit_model(epochs = 7, show_progress= 1, validation_split = 0.20, batch_size = 10, monitor='val_loss', patience=1, min_delta = 0, verbose = 1)\n",
    "predictor12.show_performance()\n",
    "predictor12.predict(data.tail(5))\n",
    "predictor12.model_blueprint()"
   ]
  },
  {
   "cell_type": "code",
   "execution_count": null,
   "id": "308f2a66",
   "metadata": {},
   "outputs": [],
   "source": [
    "data.tail(5)"
   ]
  },
  {
   "cell_type": "code",
   "execution_count": null,
   "id": "b3577acd",
   "metadata": {},
   "outputs": [],
   "source": [
    "predictor12.save_model()"
   ]
  },
  {
   "cell_type": "code",
   "execution_count": null,
   "id": "f67b841e",
   "metadata": {},
   "outputs": [],
   "source": [
    "load = BasicMultStepUniVar(steps_past =  5, steps_future = 10)"
   ]
  },
  {
   "cell_type": "code",
   "execution_count": null,
   "id": "a26a0034",
   "metadata": {},
   "outputs": [],
   "source": [
    "load.set_model_id('Loaded Model')"
   ]
  },
  {
   "cell_type": "code",
   "execution_count": null,
   "id": "0354c8f7",
   "metadata": {},
   "outputs": [],
   "source": [
    "load.load_model('univarstandard')"
   ]
  },
  {
   "cell_type": "code",
   "execution_count": null,
   "id": "9e9ee4d4",
   "metadata": {},
   "outputs": [],
   "source": [
    "load.predict(data.tail(5))"
   ]
  },
  {
   "cell_type": "code",
   "execution_count": null,
   "id": "35821fde",
   "metadata": {},
   "outputs": [],
   "source": [
    "from imbrium.predictors.univarhybrid import *"
   ]
  },
  {
   "cell_type": "code",
   "execution_count": null,
   "id": "973edbff",
   "metadata": {},
   "outputs": [],
   "source": [
    "predictor1 = HybridMultStepUniVar(sub_seq = 2, steps_past = 10, steps_future = 5, data = data, scale = 'maxabs')\n",
    "predictor1.create_cnnrnn(optimizer= 'adam', loss= 'mean_squared_error', metrics = 'mean_squared_error', layer_config = {'layer0': (8, 1, 'relu'), 'layer1': (4, 1, 'relu'), 'layer2': (2), 'layer3': (25, 'relu'), 'layer4': (10, 'relu')})\n",
    "predictor1.fit_model(epochs = 10, show_progress= 1, validation_split = 0.20, batch_size = 10)\n",
    "predictor1.show_performance()\n",
    "predictor1.predict(data.tail(10))\n",
    "predictor1.model_blueprint()"
   ]
  },
  {
   "cell_type": "code",
   "execution_count": null,
   "id": "c643b6c2",
   "metadata": {},
   "outputs": [],
   "source": [
    "predictor1 = HybridMultStepUniVar(sub_seq = 2, steps_past = 10, steps_future = 5, data = data, scale = 'normalize')\n",
    "predictor1.create_cnnrnn(optimizer= 'adam', loss= 'mean_squared_error', metrics = 'mean_squared_error', layer_config = {'layer0': (8, 1, 'relu'), 'layer1': (4, 1, 'relu'), 'layer2': (2), 'layer3': (25, 'relu'), 'layer4': (10, 'relu')})\n",
    "predictor1.fit_model(epochs = 2, show_progress= 1, validation_split = 0.20, batch_size = 10)\n",
    "predictor1.show_performance()\n",
    "predictor1.predict(data.tail(10))\n",
    "predictor1.model_blueprint()"
   ]
  },
  {
   "cell_type": "code",
   "execution_count": null,
   "id": "f51dbd2f",
   "metadata": {},
   "outputs": [],
   "source": [
    "predictor1 = HybridMultStepUniVar(sub_seq = 2, steps_past = 10, steps_future = 5, data = data, scale = 'standard')\n",
    "predictor1.create_cnnlstm(optimizer= 'adam', loss= 'mean_squared_error', metrics = 'mean_squared_error', layer_config = {'layer0': (8, 1, 'relu'), 'layer1': (4, 1, 'relu'), 'layer2': (2), 'layer3': (25, 'relu'), 'layer4': (10, 'relu')})\n",
    "predictor1.fit_model(epochs = 7, show_progress= 1, validation_split = 0.20, batch_size = 10, monitor='val_loss', patience=1, min_delta = 0, verbose = 1)\n",
    "predictor1.show_performance()\n",
    "predictor1.predict(data.tail(10))\n",
    "predictor1.model_blueprint()"
   ]
  },
  {
   "cell_type": "code",
   "execution_count": null,
   "id": "b3f0ef96",
   "metadata": {},
   "outputs": [],
   "source": [
    "predictor1 = HybridMultStepUniVar(sub_seq = 2, steps_past = 10, steps_future = 5, data = data, scale = 'minmax')\n",
    "predictor1.create_cnngru(optimizer= 'adam', loss= 'mean_squared_error', metrics = 'mean_squared_error', layer_config = {'layer0': (8, 1, 'relu'), 'layer1': (4, 1, 'relu'), 'layer2': (2), 'layer3': (25, 'relu'), 'layer4': (10, 'relu')})\n",
    "predictor1.fit_model(epochs = 2, show_progress= 1, validation_split = 0.20, batch_size = 10)\n",
    "predictor1.show_performance()\n",
    "predictor1.predict(data.tail(10))\n",
    "predictor1.model_blueprint()"
   ]
  },
  {
   "cell_type": "code",
   "execution_count": null,
   "id": "05d4c353",
   "metadata": {},
   "outputs": [],
   "source": [
    "predictor1 = HybridMultStepUniVar(sub_seq = 2, steps_past = 10, steps_future = 5, data = data, scale = 'normalize')\n",
    "predictor1.create_cnnbirnn(optimizer= 'adam', loss= 'mean_squared_error', metrics = 'mean_squared_error', layer_config = {'layer0': (8, 1, 'relu'), 'layer1': (4, 1, 'relu'), 'layer2': (2), 'layer3': (25, 'relu'), 'layer4': (10, 'relu')})\n",
    "predictor1.fit_model(epochs = 2, show_progress= 1, validation_split = 0.20, batch_size = 10)\n",
    "predictor1.show_performance()\n",
    "predictor1.predict(data.tail(10))\n",
    "predictor1.model_blueprint()"
   ]
  },
  {
   "cell_type": "code",
   "execution_count": null,
   "id": "f858b5c3",
   "metadata": {},
   "outputs": [],
   "source": [
    "predictor1 = HybridMultStepUniVar(sub_seq = 2, steps_past = 10, steps_future = 5, data = data, scale = 'normalize')\n",
    "predictor1.create_cnnbilstm(optimizer= 'adam', loss= 'mean_squared_error', metrics = 'mean_squared_error', layer_config = {'layer0': (8, 1, 'relu'), 'layer1': (4, 1, 'relu'), 'layer2': (2), 'layer3': (25, 'relu'), 'layer4': (10, 'relu')})\n",
    "predictor1.fit_model(epochs = 2, show_progress= 1, validation_split = 0.20, batch_size = 10)\n",
    "predictor1.show_performance()\n",
    "predictor1.predict(data.tail(10))\n",
    "predictor1.model_blueprint()"
   ]
  },
  {
   "cell_type": "code",
   "execution_count": null,
   "id": "b4a7520b",
   "metadata": {},
   "outputs": [],
   "source": [
    "predictor1 = HybridMultStepUniVar(sub_seq = 2, steps_past = 10, steps_future = 5, data = data, scale = 'normalize')\n",
    "predictor1.create_cnnbigru(optimizer= 'adam', loss= 'mean_squared_error', metrics = 'mean_squared_error', layer_config = {'layer0': (8, 1, 'relu'), 'layer1': (4, 1, 'relu'), 'layer2': (2), 'layer3': (25, 'relu'), 'layer4': (10, 'relu')})\n",
    "predictor1.fit_model(epochs = 7, show_progress= 1, validation_split = 0.20, batch_size = 10, monitor='val_loss', patience=1, min_delta = 0, verbose = 1)\n",
    "predictor1.show_performance()\n",
    "predictor1.predict(data.tail(10))\n",
    "predictor1.model_blueprint()"
   ]
  },
  {
   "cell_type": "code",
   "execution_count": null,
   "id": "2e5566fc",
   "metadata": {},
   "outputs": [],
   "source": [
    "predictor1.save_model()"
   ]
  },
  {
   "cell_type": "code",
   "execution_count": null,
   "id": "fb0f96a2",
   "metadata": {},
   "outputs": [],
   "source": [
    "load = HybridMultStepUniVar(sub_seq = 2, steps_past =  10, steps_future = 5)"
   ]
  },
  {
   "cell_type": "code",
   "execution_count": null,
   "id": "0dd74b74",
   "metadata": {},
   "outputs": [],
   "source": [
    "load.set_model_id('Loaded Model')"
   ]
  },
  {
   "cell_type": "code",
   "execution_count": null,
   "id": "50da5e75",
   "metadata": {},
   "outputs": [],
   "source": [
    "load.load_model('univarhybrid')"
   ]
  },
  {
   "cell_type": "code",
   "execution_count": null,
   "id": "90377080",
   "metadata": {},
   "outputs": [],
   "source": [
    "load.predict(data.tail(10))"
   ]
  },
  {
   "cell_type": "markdown",
   "id": "6e7cb949",
   "metadata": {},
   "source": [
    "## MultiVarMultiStep"
   ]
  },
  {
   "cell_type": "code",
   "execution_count": null,
   "id": "4ecc907f",
   "metadata": {},
   "outputs": [],
   "source": [
    "from imbrium.predictors.multivarstandard import *"
   ]
  },
  {
   "cell_type": "code",
   "execution_count": null,
   "id": "7422a391",
   "metadata": {},
   "outputs": [],
   "source": [
    "data = pd.read_csv('example_dataset/CaliforniaHousing.csv')"
   ]
  },
  {
   "cell_type": "code",
   "execution_count": null,
   "id": "74c699c9",
   "metadata": {},
   "outputs": [],
   "source": [
    "predictor1 = BasicMultStepMultVar(steps_past =  5, steps_future = 10, data = data, features = ['target', 'target', 'HouseAge', 'AveRooms', 'AveBedrms'], scale = '')\n",
    "#predictor1.get_X_input\n",
    "predictor1.create_mlp(optimizer= 'adam', loss= 'mean_squared_error', metrics = 'mean_squared_error', layer_config = {'layer0': (5, 'relu'), 'layer1': (5,'relu'), 'layer2': (5, 'relu')})\n",
    "predictor1.fit_model(epochs = 7, show_progress= 1, validation_split = 0.20, batch_size = 10, monitor='val_loss', patience=1, min_delta = 0, verbose = 1)\n",
    "predictor1.show_performance()\n",
    "predictor1.predict(data[['target', 'HouseAge', 'AveRooms', 'AveBedrms']].tail(5))\n",
    "predictor1.model_blueprint()"
   ]
  },
  {
   "cell_type": "code",
   "execution_count": null,
   "id": "141ff4f7",
   "metadata": {},
   "outputs": [],
   "source": [
    "predictor1 = BasicMultStepMultVar(steps_past =  5, steps_future = 10, data = data, features = ['target', 'target', 'HouseAge', 'AveRooms', 'AveBedrms'], scale = 'normalize')\n",
    "predictor1.create_rnn(optimizer= 'adam', loss= 'mean_squared_error', metrics = 'mean_squared_error', layer_config = {'layer0': (5, 'relu'), 'layer1': (5,'relu'), 'layer2': (5, 'relu')})\n",
    "predictor1.fit_model(epochs = 10, show_progress= 1, validation_split = 0.20, batch_size = 10)\n",
    "predictor1.show_performance()\n",
    "predictor1.predict(data[['target', 'HouseAge', 'AveRooms', 'AveBedrms']].tail(5))\n",
    "predictor1.model_blueprint()"
   ]
  },
  {
   "cell_type": "code",
   "execution_count": null,
   "id": "292dadeb",
   "metadata": {},
   "outputs": [],
   "source": [
    "predictor1 = BasicMultStepMultVar(steps_past =  5, steps_future = 10, data = data, features = ['target', 'target', 'HouseAge', 'AveRooms', 'AveBedrms'], scale = 'standard')\n",
    "predictor1.create_lstm(optimizer= 'adam', loss= 'mean_squared_error', metrics = 'mean_squared_error', layer_config = {'layer0': (5, 'relu'), 'layer1': (5,'relu'), 'layer2': (5, 'relu')})\n",
    "predictor1.fit_model(epochs = 7, show_progress= 1, validation_split = 0.20, batch_size = 10, monitor='val_loss', patience=1, min_delta = 0, verbose = 1)\n",
    "predictor1.show_performance()\n",
    "predictor1.predict(data[['target', 'HouseAge', 'AveRooms', 'AveBedrms']].tail(5))\n",
    "predictor1.model_blueprint()"
   ]
  },
  {
   "cell_type": "code",
   "execution_count": null,
   "id": "0d6436e2",
   "metadata": {},
   "outputs": [],
   "source": [
    "from imbrium.predictors.univarhybrid import HybridMultStepUniVar\n",
    "\n",
    "predictor = HybridMultStepUniVar(sub_seq = 2, steps_past = 10, steps_future = 5,\n",
    "                                  data = data, scale = 'minmax')\n",
    "\n",
    "predictor.create_cnnbilstm(optimizer= 'adam', loss= 'mean_squared_error',\n",
    "                            metrics = 'mean_squared_error'\n",
    "                           )\n",
    "\n",
    "predictor.fit_model(epochs = 2, show_progress= 1, validation_split = 0.20, batch_size = 10)\n",
    "\n",
    "predictor.predict(data.tail(10))"
   ]
  },
  {
   "cell_type": "code",
   "execution_count": null,
   "id": "2a4d7e24",
   "metadata": {},
   "outputs": [],
   "source": [
    "predictor1 = BasicMultStepMultVar(steps_past =  5, steps_future = 10, data = data, features = ['target', 'target', 'HouseAge', 'AveRooms', 'AveBedrms'], scale = 'minmax')\n",
    "predictor1.create_cnn(optimizer= 'adam', loss= 'mean_squared_error', metrics = 'mean_squared_error', layer_config = {'layer0': (64, 1, 'relu'), 'layer1': (32, 1, 'relu'), 'layer2': (2), 'layer3': (50, 'relu')})\n",
    "predictor1.fit_model(epochs = 2, show_progress= 1, validation_split = 0.20, batch_size = 10)\n",
    "predictor1.show_performance()\n",
    "predictor1.predict(data[['target', 'HouseAge', 'AveRooms', 'AveBedrms']].tail(5))\n",
    "predictor1.model_blueprint()"
   ]
  },
  {
   "cell_type": "code",
   "execution_count": null,
   "id": "26c29d56",
   "metadata": {},
   "outputs": [],
   "source": [
    "predictor1 = BasicMultStepMultVar(steps_past =  5, steps_future = 10, data = data, features = ['target', 'target', 'HouseAge', 'AveRooms', 'AveBedrms'], scale = 'maxabs')\n",
    "predictor1.create_gru(optimizer= 'adam', loss= 'mean_squared_error', metrics = 'mean_squared_error', layer_config = {'layer0': (5, 'relu'), 'layer1': (5,'relu'), 'layer2': (5, 'relu')})\n",
    "predictor1.fit_model(epochs = 2, show_progress= 1, validation_split = 0.20, batch_size = 10)\n",
    "predictor1.show_performance()\n",
    "predictor1.predict(data[['target', 'HouseAge', 'AveRooms', 'AveBedrms']].tail(5))\n",
    "predictor1.model_blueprint()"
   ]
  },
  {
   "cell_type": "code",
   "execution_count": null,
   "id": "dffe2c60",
   "metadata": {},
   "outputs": [],
   "source": [
    "predictor1 = BasicMultStepMultVar(steps_past =  5, steps_future = 10, data = data, features = ['target', 'target', 'HouseAge', 'AveRooms', 'AveBedrms'], scale = 'normalize')\n",
    "predictor1.create_birnn(optimizer= 'adam', loss= 'mean_squared_error', metrics = 'mean_squared_error', layer_config = {'layer0': (5, 'relu'), 'layer1': (5, 'relu')})\n",
    "predictor1.fit_model(epochs = 2, show_progress= 1, validation_split = 0.20, batch_size = 10)\n",
    "predictor1.show_performance()\n",
    "predictor1.predict(data[['target', 'HouseAge', 'AveRooms', 'AveBedrms']].tail(5))\n",
    "predictor1.model_blueprint()"
   ]
  },
  {
   "cell_type": "code",
   "execution_count": null,
   "id": "9ef3dd1d",
   "metadata": {},
   "outputs": [],
   "source": [
    "predictor1 = BasicMultStepMultVar(steps_past =  5, steps_future = 10, data = data, features = ['target', 'target', 'HouseAge', 'AveRooms', 'AveBedrms'], scale = 'normalize')\n",
    "predictor1.create_bilstm(optimizer= 'adam', loss= 'mean_squared_error', metrics = 'mean_squared_error', layer_config = {'layer0': (5, 'relu'), 'layer1': (5, 'relu')})\n",
    "predictor1.fit_model(epochs = 2, show_progress= 1, validation_split = 0.20, batch_size = 10)\n",
    "predictor1.show_performance()\n",
    "predictor1.predict(data[['target', 'HouseAge', 'AveRooms', 'AveBedrms']].tail(5))\n",
    "predictor1.model_blueprint()"
   ]
  },
  {
   "cell_type": "code",
   "execution_count": null,
   "id": "10a2466d",
   "metadata": {},
   "outputs": [],
   "source": [
    "predictor1 = BasicMultStepMultVar(steps_past =  5, steps_future = 10, data = data, features = ['target', 'target', 'HouseAge', 'AveRooms', 'AveBedrms'], scale = 'normalize')\n",
    "predictor1.create_bigru(optimizer= 'adam', loss= 'mean_squared_error', metrics = 'mean_squared_error', layer_config = {'layer0': (5, 'relu'), 'layer1': (5, 'relu')})\n",
    "predictor1.fit_model(epochs = 7, show_progress= 1, validation_split = 0.20, batch_size = 10, monitor='val_loss', patience=1, min_delta = 0, verbose = 1)\n",
    "predictor1.show_performance()\n",
    "predictor1.predict(data[['target', 'HouseAge', 'AveRooms', 'AveBedrms']].tail(5))\n",
    "predictor1.model_blueprint()"
   ]
  },
  {
   "cell_type": "code",
   "execution_count": null,
   "id": "ccdbe007",
   "metadata": {},
   "outputs": [],
   "source": [
    "predictor9 = BasicMultStepMultVar(steps_past =  5, steps_future = 10, data = data, features = ['target', 'target', 'HouseAge', 'AveRooms', 'AveBedrms'], scale = 'normalize')\n",
    "predictor9.create_encdec_rnn(optimizer = 'adam', loss = 'mean_squared_error', metrics = 'mean_squared_error', layer_config = {'layer0': (5, 'relu'), 'layer1': (5, 'relu'), 'layer2': (5, 'relu'), 'layer3': (100, 'relu')})\n",
    "predictor9.fit_model(epochs = 7, show_progress= 1, validation_split = 0.20, batch_size = 10, monitor='val_loss', patience=1, min_delta = 0, verbose = 1)\n",
    "predictor9.show_performance()\n",
    "predictor9.predict(data[['target', 'HouseAge', 'AveRooms', 'AveBedrms']].tail(5))\n",
    "predictor9.model_blueprint()"
   ]
  },
  {
   "cell_type": "code",
   "execution_count": null,
   "id": "6f363774",
   "metadata": {},
   "outputs": [],
   "source": [
    "predictor10 = BasicMultStepMultVar(steps_past =  5, steps_future = 10, data = data, features = ['target', 'target', 'HouseAge', 'AveRooms', 'AveBedrms'], scale = 'normalize')\n",
    "predictor10.create_encdec_lstm(optimizer = 'adam', loss = 'mean_squared_error', metrics = 'mean_squared_error', layer_config = {'layer0': (5, 'relu'), 'layer1': (5, 'relu'), 'layer2': (5, 'relu'), 'layer3': (100, 'relu')})\n",
    "predictor10.fit_model(epochs = 10, show_progress= 1, validation_split = 0.20, batch_size = 10)\n",
    "predictor10.show_performance()\n",
    "predictor10.predict(data[['target', 'HouseAge', 'AveRooms', 'AveBedrms']].tail(5))\n",
    "predictor10.model_blueprint()"
   ]
  },
  {
   "cell_type": "code",
   "execution_count": null,
   "id": "5695e9e3",
   "metadata": {},
   "outputs": [],
   "source": [
    "predictor11 = BasicMultStepMultVar(steps_past =  5, steps_future = 10, data = data, features = ['target', 'target', 'HouseAge', 'AveRooms', 'AveBedrms'], scale = 'normalize')\n",
    "predictor11.create_encdec_cnn(optimizer = 'adam', loss = 'mean_squared_error', metrics = 'mean_squared_error', layer_config = {'layer0': (8, 1, 'relu'), 'layer1': (4, 1, 'relu'), 'layer2': (2), 'layer3': (5, 'relu'), 'layer4': (10, 'relu')})\n",
    "predictor11.fit_model(epochs = 2, show_progress= 1, validation_split = 0.20, batch_size = 10)\n",
    "predictor11.show_performance()\n",
    "predictor11.predict(data[['target', 'HouseAge', 'AveRooms', 'AveBedrms']].tail(5))\n",
    "predictor11.model_blueprint()"
   ]
  },
  {
   "cell_type": "code",
   "execution_count": null,
   "id": "de5496f6",
   "metadata": {},
   "outputs": [],
   "source": [
    "predictor12 = BasicMultStepMultVar(steps_past =  5, steps_future = 10, data = data, features = ['target', 'target', 'HouseAge', 'AveRooms', 'AveBedrms'], scale = 'normalize')\n",
    "predictor12.create_encdec_gru(optimizer = 'adam', loss = 'mean_squared_error', metrics = 'mean_squared_error', layer_config = {'layer0': (5, 'relu'), 'layer1': (5, 'relu'), 'layer2': (5, 'relu'), 'layer3': (100, 'relu')})\n",
    "predictor12.fit_model(epochs = 7, show_progress= 1, validation_split = 0.20, batch_size = 10, monitor='val_loss', patience=1, min_delta = 0, verbose = 1)\n",
    "predictor12.show_performance()\n",
    "predictor12.predict(data[['target', 'HouseAge', 'AveRooms', 'AveBedrms']].tail(5))\n",
    "predictor12.model_blueprint()"
   ]
  },
  {
   "cell_type": "code",
   "execution_count": null,
   "id": "15f9930e",
   "metadata": {},
   "outputs": [],
   "source": [
    "predictor1.save_model()"
   ]
  },
  {
   "cell_type": "code",
   "execution_count": null,
   "id": "68bd4a24",
   "metadata": {},
   "outputs": [],
   "source": [
    "load = BasicMultStepMultVar(steps_past =  5, steps_future = 10, data = data, features = ['target', 'target', 'HouseAge', 'AveRooms', 'AveBedrms'], scale = 'normalize')"
   ]
  },
  {
   "cell_type": "code",
   "execution_count": null,
   "id": "e860e0f4",
   "metadata": {},
   "outputs": [],
   "source": [
    "load.set_model_id('Loaded Model')"
   ]
  },
  {
   "cell_type": "code",
   "execution_count": null,
   "id": "13f7273e",
   "metadata": {},
   "outputs": [],
   "source": [
    "load.load_model('multivarstandard')"
   ]
  },
  {
   "cell_type": "code",
   "execution_count": null,
   "id": "b04f95c2",
   "metadata": {},
   "outputs": [],
   "source": [
    "load.predict(data[['target', 'HouseAge', 'AveRooms', 'AveBedrms']].tail(5))"
   ]
  },
  {
   "cell_type": "code",
   "execution_count": null,
   "id": "0691e553",
   "metadata": {},
   "outputs": [],
   "source": [
    "from imbrium.predictors.multivarhybrid import HybridMultStepMultVar"
   ]
  },
  {
   "cell_type": "code",
   "execution_count": null,
   "id": "2a1cc9c4",
   "metadata": {},
   "outputs": [],
   "source": [
    "predictor1 = HybridMultStepMultVar(sub_seq = 2, steps_past = 10, steps_future = 5, data = data,features = ['target', 'target', 'HouseAge', 'AveRooms', 'AveBedrms'], scale = 'normalize')\n",
    "#predictor1.get_X_input\n",
    "predictor1.create_cnnrnn(optimizer= 'adam', loss= 'mean_squared_error', metrics = 'mean_squared_error', layer_config = {'layer0': (8, 1, 'relu'), 'layer1': (4, 1, 'relu'), 'layer2': (2), 'layer3': (5, 'relu'), 'layer4': (5, 'relu')})\n",
    "predictor1.fit_model(epochs = 3, show_progress= 1, validation_split = 0.20, batch_size = 10, monitor='val_loss', patience=1, min_delta = 0, verbose = 1)\n",
    "predictor1.show_performance()\n",
    "predictor1.predict(data[['target', 'HouseAge', 'AveRooms', 'AveBedrms']].tail(10))\n",
    "predictor1.model_blueprint()"
   ]
  },
  {
   "cell_type": "code",
   "execution_count": null,
   "id": "56a3cf97",
   "metadata": {},
   "outputs": [],
   "source": [
    "predictor1 = HybridMultStepMultVar(sub_seq = 2, steps_past = 10, steps_future = 5, data = data,features = ['target', 'target', 'HouseAge', 'AveRooms', 'AveBedrms'])\n",
    "predictor1.create_cnnlstm(optimizer= 'adam', loss= 'mean_squared_error', metrics = 'mean_squared_error', layer_config = {'layer0': (8, 1, 'relu'), 'layer1': (4, 1, 'relu'), 'layer2': (2), 'layer3': (5, 'relu'), 'layer4': (5, 'relu')})\n",
    "predictor1.fit_model(epochs = 2, show_progress= 1, validation_split = 0.20, batch_size = 10)\n",
    "predictor1.show_performance()\n",
    "predictor1.predict(data[['target', 'HouseAge', 'AveRooms', 'AveBedrms']].tail(10))\n",
    "predictor1.model_blueprint()"
   ]
  },
  {
   "cell_type": "code",
   "execution_count": null,
   "id": "a7b6b376",
   "metadata": {},
   "outputs": [],
   "source": [
    "predictor1 = HybridMultStepMultVar(sub_seq = 2, steps_past = 10, steps_future = 5, data = data,features = ['target', 'target', 'HouseAge', 'AveRooms', 'AveBedrms'], scale = 'normalize')\n",
    "predictor1.create_cnngru(optimizer= 'adam', loss= 'mean_squared_error', metrics = 'mean_squared_error', layer_config = {'layer0': (8, 1, 'relu'), 'layer1': (4, 1, 'relu'), 'layer2': (2), 'layer3': (5, 'relu'), 'layer4': (5, 'relu')})\n",
    "predictor1.fit_model(epochs = 10, show_progress= 1, validation_split = 0.20, batch_size = 10)\n",
    "predictor1.show_performance()\n",
    "predictor1.predict(data[['target', 'HouseAge', 'AveRooms', 'AveBedrms']].tail(10))\n",
    "predictor1.model_blueprint()"
   ]
  },
  {
   "cell_type": "code",
   "execution_count": null,
   "id": "f96ab563",
   "metadata": {},
   "outputs": [],
   "source": [
    "predictor1 = HybridMultStepMultVar(sub_seq = 2, steps_past = 10, steps_future = 5, data = data,features = ['target', 'target', 'HouseAge', 'AveRooms', 'AveBedrms'], scale = 'normalize')\n",
    "predictor1.create_cnnbirnn(optimizer= 'adam', loss= 'mean_squared_error', metrics = 'mean_squared_error', layer_config = {'layer0': (8, 1, 'relu'), 'layer1': (4, 1, 'relu'), 'layer2': (2), 'layer3': (5, 'relu'), 'layer4': (5, 'relu')})\n",
    "predictor1.fit_model(epochs = 2, show_progress= 1, validation_split = 0.20, batch_size = 10)\n",
    "predictor1.show_performance()\n",
    "predictor1.predict(data[['target', 'HouseAge', 'AveRooms', 'AveBedrms']].tail(10))\n",
    "predictor1.model_blueprint()"
   ]
  },
  {
   "cell_type": "code",
   "execution_count": null,
   "id": "af047dd8",
   "metadata": {},
   "outputs": [],
   "source": [
    "predictor1 = HybridMultStepMultVar(sub_seq = 2, steps_past = 10, steps_future = 5, data = data,features = ['target', 'target', 'HouseAge', 'AveRooms', 'AveBedrms'], scale = 'normalize')\n",
    "predictor1.create_cnnbilstm(optimizer= 'adam', loss= 'mean_squared_error', metrics = 'mean_squared_error', layer_config = {'layer0': (8, 1, 'relu'), 'layer1': (4, 1, 'relu'), 'layer2': (2), 'layer3': (5, 'relu'), 'layer4': (5, 'relu')})\n",
    "predictor1.fit_model(epochs = 2, show_progress= 1, validation_split = 0.20, batch_size = 10)\n",
    "predictor1.show_performance()\n",
    "predictor1.predict(data[['target', 'HouseAge', 'AveRooms', 'AveBedrms']].tail(10))\n",
    "predictor1.model_blueprint()"
   ]
  },
  {
   "cell_type": "code",
   "execution_count": null,
   "id": "1274a3b0",
   "metadata": {},
   "outputs": [],
   "source": [
    "predictor1 = HybridMultStepMultVar(sub_seq = 2, steps_past = 10, steps_future = 5, data = data,features = ['target','target', 'HouseAge', 'AveRooms', 'AveBedrms'], scale = 'normalize')\n",
    "predictor1.create_cnnbigru(optimizer= 'adam', loss= 'mean_squared_error', metrics = 'mean_squared_error', layer_config = {'layer0': (8, 1, 'relu'), 'layer1': (4, 1, 'relu'), 'layer2': (2), 'layer3': (5, 'relu'), 'layer4': (5, 'relu')})\n",
    "predictor1.fit_model(epochs = 7, show_progress= 1, validation_split = 0.20, batch_size = 10, monitor='val_loss', patience=1, min_delta = 0, verbose = 1)\n",
    "predictor1.show_performance()\n",
    "predictor1.predict(data[['target', 'HouseAge', 'AveRooms', 'AveBedrms']].tail(10))\n",
    "predictor1.model_blueprint()"
   ]
  },
  {
   "cell_type": "code",
   "execution_count": null,
   "id": "14e7f869",
   "metadata": {},
   "outputs": [],
   "source": [
    "predictor1.save_model()"
   ]
  },
  {
   "cell_type": "code",
   "execution_count": null,
   "id": "0f790a79",
   "metadata": {},
   "outputs": [],
   "source": [
    "load = HybridMultStepMultVar(sub_seq = 2, steps_past =  10, steps_future = 5, data = data, features = ['target', 'target', 'HouseAge', 'AveRooms', 'AveBedrms'], scale = 'normalize')"
   ]
  },
  {
   "cell_type": "code",
   "execution_count": null,
   "id": "62352b24",
   "metadata": {},
   "outputs": [],
   "source": [
    "load.set_model_id('Loaded Model')"
   ]
  },
  {
   "cell_type": "code",
   "execution_count": null,
   "id": "a114743b",
   "metadata": {},
   "outputs": [],
   "source": [
    "load.load_model('multivarhybrid')"
   ]
  },
  {
   "cell_type": "code",
   "execution_count": null,
   "id": "99572fb4",
   "metadata": {},
   "outputs": [],
   "source": [
    "load.predict(data[['target', 'HouseAge', 'AveRooms', 'AveBedrms']].tail(10))"
   ]
  }
 ],
 "metadata": {
  "kernelspec": {
   "display_name": "Python 3 (ipykernel)",
   "language": "python",
   "name": "python3"
  },
  "language_info": {
   "codemirror_mode": {
    "name": "ipython",
    "version": 3
   },
   "file_extension": ".py",
   "mimetype": "text/x-python",
   "name": "python",
   "nbconvert_exporter": "python",
   "pygments_lexer": "ipython3",
   "version": "3.7.13"
  }
 },
 "nbformat": 4,
 "nbformat_minor": 5
}
