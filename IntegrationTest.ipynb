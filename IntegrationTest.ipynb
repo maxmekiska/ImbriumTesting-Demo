{
 "cells": [
  {
   "cell_type": "markdown",
   "id": "c85856d3-9fa6-4675-8740-fc6b671bfb45",
   "metadata": {},
   "source": [
    "# `imbrium` integration testing"
   ]
  },
  {
   "cell_type": "code",
   "execution_count": null,
   "id": "160e1442-3ae2-40a2-bb41-7ed44cdb2463",
   "metadata": {},
   "outputs": [],
   "source": [
    "%load_ext tensorboard"
   ]
  },
  {
   "cell_type": "code",
   "execution_count": null,
   "id": "78882399",
   "metadata": {},
   "outputs": [],
   "source": [
    "%tensorboard --logdir logs/fit"
   ]
  },
  {
   "cell_type": "code",
   "execution_count": null,
   "id": "8055a852-1f57-4706-ae51-6b4af5574201",
   "metadata": {},
   "outputs": [],
   "source": [
    "import os\n",
    "os.environ[\"KERAS_BACKEND\"] = \"torch\""
   ]
  },
  {
   "cell_type": "code",
   "execution_count": null,
   "id": "053456f6",
   "metadata": {},
   "outputs": [],
   "source": [
    "import imbrium\n",
    "import pandas as pd\n",
    "import numpy as np\n",
    "from sklearn.preprocessing import MinMaxScaler, StandardScaler\n",
    "\n",
    "imbrium.__version__"
   ]
  },
  {
   "cell_type": "code",
   "execution_count": null,
   "id": "3096e884",
   "metadata": {},
   "outputs": [],
   "source": [
    "# if you use tensorboard within a jupyter notebook and get an error: \n",
    "# delete files in:  C:\\Users\\<UserName>\\AppData\\Local\\Temp\\.tensorboard-info\n",
    "# %load_ext tensorboard"
   ]
  },
  {
   "cell_type": "code",
   "execution_count": null,
   "id": "00686259-4459-4cef-ad39-4cb2cc254aff",
   "metadata": {},
   "outputs": [],
   "source": [
    "example_data = pd.read_csv('example_dataset/AirQualityUCI.csv', delimiter=';')\n",
    "example_data.head()"
   ]
  },
  {
   "cell_type": "code",
   "execution_count": null,
   "id": "9880c648",
   "metadata": {},
   "outputs": [],
   "source": [
    "example_data = example_data[['CO(GT)', 'PT08.S1(CO)', 'NMHC(GT)', 'C6H6(GT)', 'PT08.S2(NMHC)']]"
   ]
  },
  {
   "cell_type": "code",
   "execution_count": null,
   "id": "d91f6fc9-a380-4f40-bcaf-a94ba2796a84",
   "metadata": {},
   "outputs": [],
   "source": [
    "example_data.isna().sum()"
   ]
  },
  {
   "cell_type": "code",
   "execution_count": null,
   "id": "201e56aa-2bf4-45a1-bcad-6f4dd4d4b3c1",
   "metadata": {},
   "outputs": [],
   "source": [
    "example_data = example_data.dropna()"
   ]
  },
  {
   "cell_type": "code",
   "execution_count": null,
   "id": "e524cedf-f5ba-4fde-a6d4-0806b494628c",
   "metadata": {},
   "outputs": [],
   "source": [
    "example_data.notna().sum()"
   ]
  },
  {
   "cell_type": "code",
   "execution_count": null,
   "id": "42695e0d-0838-4d79-91e0-7f2a63d91d74",
   "metadata": {},
   "outputs": [],
   "source": [
    "example_data = example_data.replace(\",\", \".\", regex = True).astype(\"float\")"
   ]
  },
  {
   "cell_type": "code",
   "execution_count": null,
   "id": "780deca2-ac69-4365-8d27-8a636baedc3b",
   "metadata": {},
   "outputs": [],
   "source": [
    "uni_var_data_example = pd.DataFrame(example_data['PT08.S1(CO)'])"
   ]
  },
  {
   "cell_type": "code",
   "execution_count": null,
   "id": "c267a618-bf73-4097-948c-988d8530ce2d",
   "metadata": {},
   "outputs": [],
   "source": [
    "uni_var_data_example.plot()"
   ]
  },
  {
   "cell_type": "code",
   "execution_count": null,
   "id": "47350fcb-68f0-4262-a46e-66adbb7b3252",
   "metadata": {},
   "outputs": [],
   "source": [
    "scaler = StandardScaler()\n",
    "\n",
    "# Fit and transform the data using the scaler\n",
    "normalized_uni_var_data_example = pd.DataFrame(scaler.fit_transform(uni_var_data_example))"
   ]
  },
  {
   "cell_type": "code",
   "execution_count": null,
   "id": "7d84702f-dc6c-4ab7-8c93-359381a820e8",
   "metadata": {},
   "outputs": [],
   "source": [
    "normalized_uni_var_data_example.plot()"
   ]
  },
  {
   "cell_type": "code",
   "execution_count": null,
   "id": "7e4157bc-1553-49fa-8a1a-9efec553251c",
   "metadata": {},
   "outputs": [],
   "source": [
    "normalized_uni_var_data_example = np.array(normalized_uni_var_data_example)\n",
    "normalized_uni_var_data_example"
   ]
  },
  {
   "cell_type": "markdown",
   "id": "d195024a",
   "metadata": {},
   "source": [
    "## 1. Pure Univariate Models - `PureUni` Class"
   ]
  },
  {
   "cell_type": "code",
   "execution_count": null,
   "id": "9cd9a183-98f4-411f-95d5-8d32a8e2bb26",
   "metadata": {},
   "outputs": [],
   "source": [
    "from imbrium import PureUni"
   ]
  },
  {
   "cell_type": "code",
   "execution_count": null,
   "id": "c885ca27-d50d-4f3d-8e32-d4cbba25459c",
   "metadata": {},
   "outputs": [],
   "source": [
    "layer_config = {\n",
    "   \"layer0\": {\"config\": {\"neurons\": 300, \"activation\": \"relu\", \"regularization\": 0.01, \"dropout\": 0.2}},\n",
    "   \"layer1\": {\"config\": {\"neurons\": 150, \"activation\": \"relu\", \"regularization\": 0.01, \"dropout\": 0.2}},\n",
    "   \"layer2\": {\"config\": {\"neurons\": 100, \"activation\": \"relu\", \"regularization\": 0.0}},\n",
    "\n",
    "}"
   ]
  },
  {
   "cell_type": "code",
   "execution_count": null,
   "id": "09148103",
   "metadata": {},
   "outputs": [],
   "source": [
    "predictor = PureUni( target = normalized_uni_var_data_example)\n",
    "predictor.create_mlp(\n",
    "                      steps_past =  20,\n",
    "                      steps_future = 5,\n",
    "                      optimizer= 'adam',\n",
    "                      loss= 'mean_squared_error',\n",
    "                      metrics = 'mean_squared_error',\n",
    "                      dense_block_one = 1,\n",
    "                      dense_block_two = 1,\n",
    "                      dense_block_three = 1,\n",
    "                      layer_config = layer_config\n",
    "                     )"
   ]
  },
  {
   "cell_type": "code",
   "execution_count": null,
   "id": "5ffebf9d-1077-41b8-8f47-0683a6e4a7cf",
   "metadata": {},
   "outputs": [],
   "source": [
    "predictor.fit_model(\n",
    "                     epochs = 5,\n",
    "                     show_progress= 1,\n",
    "                     validation_split = 0.20,\n",
    "                     board = False\n",
    "                    )"
   ]
  },
  {
   "cell_type": "code",
   "execution_count": null,
   "id": "49ee0df2-0351-4c29-9fee-dd1d66d1169d",
   "metadata": {},
   "outputs": [],
   "source": [
    "predictor.get_target_shape"
   ]
  },
  {
   "cell_type": "code",
   "execution_count": null,
   "id": "10aa1073-80ec-4569-8d3f-04afcdbf1d5d",
   "metadata": {},
   "outputs": [],
   "source": [
    "predictor.show_performance().history"
   ]
  },
  {
   "cell_type": "code",
   "execution_count": null,
   "id": "0a998712-2054-4824-8fd1-04ca604735df",
   "metadata": {},
   "outputs": [],
   "source": [
    "predictor.predict(normalized_uni_var_data_example[-20:])"
   ]
  },
  {
   "cell_type": "code",
   "execution_count": null,
   "id": "6ff144a0-3e5f-469a-b601-c7e34304ff5a",
   "metadata": {},
   "outputs": [],
   "source": [
    "predictor.model_blueprint()"
   ]
  },
  {
   "cell_type": "code",
   "execution_count": null,
   "id": "71eebf34-3d27-4f1c-939c-f883387594c2",
   "metadata": {},
   "outputs": [],
   "source": [
    "predictor = PureUni( target = normalized_uni_var_data_example)"
   ]
  },
  {
   "cell_type": "code",
   "execution_count": null,
   "id": "fd41ceb2",
   "metadata": {},
   "outputs": [],
   "source": [
    "predictor.create_fit_mlp(\n",
    "        steps_past = 10,\n",
    "        steps_future = 20,\n",
    "        optimizer = \"adam\",\n",
    "        optimizer_args = None,\n",
    "        loss = \"mean_squared_error\",\n",
    "        metrics = \"mean_squared_error\",\n",
    "        dense_block_one = 1,\n",
    "        dense_block_two = 1,\n",
    "        dense_block_three  = 1,\n",
    "        epochs = 10,\n",
    "        show_progress  = 1,\n",
    "        validation_split  = 0.20,\n",
    "        board = False,\n",
    "        monitor='val_loss',\n",
    "        patience=1,\n",
    "        min_delta = 0,\n",
    "        verbose = 1\n",
    ")"
   ]
  },
  {
   "cell_type": "code",
   "execution_count": null,
   "id": "932917b2-e31c-4e51-9dd3-8a06fe6e64ae",
   "metadata": {},
   "outputs": [],
   "source": [
    "predictor.show_performance().history"
   ]
  },
  {
   "cell_type": "code",
   "execution_count": null,
   "id": "44a221f2-bae6-4b51-8611-b1f411695aac",
   "metadata": {},
   "outputs": [],
   "source": [
    "predictor.get_target"
   ]
  },
  {
   "cell_type": "code",
   "execution_count": null,
   "id": "db425c82-bd4a-4a42-b00c-30ac0a379d23",
   "metadata": {},
   "outputs": [],
   "source": [
    "predictor.get_target_shape"
   ]
  },
  {
   "cell_type": "code",
   "execution_count": null,
   "id": "a28891e6-83f9-4cca-a53b-fa291dc4592c",
   "metadata": {},
   "outputs": [],
   "source": [
    "predictor.get_X_input_shape"
   ]
  },
  {
   "cell_type": "code",
   "execution_count": null,
   "id": "d0f45790-2e0a-42dc-9a6e-4330a55e0569",
   "metadata": {},
   "outputs": [],
   "source": [
    "predictor.get_y_input_shape"
   ]
  },
  {
   "cell_type": "code",
   "execution_count": null,
   "id": "c5536b69-92c9-4e1f-bcf1-b0471ee65356",
   "metadata": {},
   "outputs": [],
   "source": [
    "predictor.predict(normalized_uni_var_data_example[-10:])"
   ]
  },
  {
   "cell_type": "code",
   "execution_count": null,
   "id": "6d683b3e-59e8-4933-93ac-0ccd77445be5",
   "metadata": {},
   "outputs": [],
   "source": [
    "predictor.model_blueprint()"
   ]
  },
  {
   "cell_type": "code",
   "execution_count": null,
   "id": "fd46ad6d",
   "metadata": {},
   "outputs": [],
   "source": [
    "predictor = PureUni(target = normalized_uni_var_data_example)\n",
    "\n",
    "predictor.create_rnn(\n",
    "                      steps_past =  5,\n",
    "                      steps_future = 10,\n",
    "                      optimizer = 'adam', \n",
    "                      loss = 'mean_squared_error', \n",
    "                      metrics = 'mean_squared_error',\n",
    "                      rnn_block_one  = 1,\n",
    "                      rnn_block_two  = 1,\n",
    "                      rnn_block_three  = 1,\n",
    "                      layer_config = layer_config\n",
    "                     )\n",
    "\n",
    "predictor.fit_model(\n",
    "                     epochs = 7,\n",
    "                     show_progress= 1,\n",
    "                     validation_split = 0.20,\n",
    "                     monitor='val_loss',\n",
    "                     patience=1,\n",
    "                     min_delta = 0,\n",
    "                     verbose = 1\n",
    "                    )"
   ]
  },
  {
   "cell_type": "code",
   "execution_count": null,
   "id": "d18397d1-234b-4c3a-965c-7a3083d86022",
   "metadata": {},
   "outputs": [],
   "source": [
    "predictor.show_performance()"
   ]
  },
  {
   "cell_type": "code",
   "execution_count": null,
   "id": "4125ad14-d512-4c48-8f2b-c4faa52225e8",
   "metadata": {},
   "outputs": [],
   "source": [
    "predictor.predict(normalized_uni_var_data_example[-5:])"
   ]
  },
  {
   "cell_type": "code",
   "execution_count": null,
   "id": "eb1deb3e-3bca-46c8-b8f2-12f657093ccd",
   "metadata": {},
   "outputs": [],
   "source": [
    "predictor.model_blueprint()"
   ]
  },
  {
   "cell_type": "code",
   "execution_count": null,
   "id": "b16eed7b",
   "metadata": {},
   "outputs": [],
   "source": [
    "predictor.create_fit_rnn(steps_past = 3, steps_future = 3, epochs=1)"
   ]
  },
  {
   "cell_type": "code",
   "execution_count": null,
   "id": "fa64d5ae-01a1-4fc2-b939-bd420ea61c54",
   "metadata": {},
   "outputs": [],
   "source": [
    "predictor.predict(normalized_uni_var_data_example[-3:])"
   ]
  },
  {
   "cell_type": "code",
   "execution_count": null,
   "id": "43222c96",
   "metadata": {},
   "outputs": [],
   "source": [
    "predictor = PureUni(target = normalized_uni_var_data_example)\n",
    "\n",
    "predictor.create_lstm(\n",
    "                       steps_past =  5,\n",
    "                       steps_future = 10,\n",
    "                       optimizer = 'adam',\n",
    "                       loss = 'mean_squared_error',\n",
    "                       metrics = 'mean_squared_error',\n",
    "                       layer_config = layer_config\n",
    "                      )\n",
    "\n",
    "predictor.fit_model(\n",
    "                     epochs = 5,\n",
    "                     show_progress= 1,\n",
    "                     validation_split = 0.20\n",
    "                    )"
   ]
  },
  {
   "cell_type": "code",
   "execution_count": null,
   "id": "a4a5155b-6c8a-41cd-8a6e-832605986b26",
   "metadata": {},
   "outputs": [],
   "source": [
    "predictor.show_performance()"
   ]
  },
  {
   "cell_type": "code",
   "execution_count": null,
   "id": "32db3565-dbe3-4231-9912-2d3324404dea",
   "metadata": {},
   "outputs": [],
   "source": [
    "predictor.predict(normalized_uni_var_data_example[-5:])"
   ]
  },
  {
   "cell_type": "code",
   "execution_count": null,
   "id": "00409213-d546-4221-a62a-fdf69eba3fdf",
   "metadata": {},
   "outputs": [],
   "source": [
    "predictor.model_blueprint()"
   ]
  },
  {
   "cell_type": "code",
   "execution_count": null,
   "id": "62b78fb7",
   "metadata": {},
   "outputs": [],
   "source": [
    "predictor.show_performance()"
   ]
  },
  {
   "cell_type": "code",
   "execution_count": null,
   "id": "a0ec72cc",
   "metadata": {},
   "outputs": [],
   "source": [
    "predictor.create_fit_lstm(steps_past = 1, steps_future = 1, epochs=1)"
   ]
  },
  {
   "cell_type": "code",
   "execution_count": null,
   "id": "f51f2bb8-4434-4a44-8331-4a2d12af4351",
   "metadata": {},
   "outputs": [],
   "source": [
    "predictor.predict(normalized_uni_var_data_example[-1:])"
   ]
  },
  {
   "cell_type": "code",
   "execution_count": null,
   "id": "bacd94a6",
   "metadata": {},
   "outputs": [],
   "source": [
    "predictor = PureUni(target = normalized_uni_var_data_example)\n",
    "\n",
    "predictor.create_gru(\n",
    "                      steps_past =  5,\n",
    "                      steps_future = 10, \n",
    "                      optimizer = 'adam',\n",
    "                      loss = 'mean_squared_error',\n",
    "                      metrics = 'mean_squared_error',\n",
    "                      layer_config = layer_config\n",
    "                     )\n",
    "predictor.fit_model(\n",
    "                     epochs = 2,\n",
    "                     show_progress= 1,\n",
    "                     validation_split = 0.20\n",
    "                    )"
   ]
  },
  {
   "cell_type": "code",
   "execution_count": null,
   "id": "c8173c4c-fc31-44b8-ae27-cf304b16c932",
   "metadata": {},
   "outputs": [],
   "source": [
    "predictor.show_performance()"
   ]
  },
  {
   "cell_type": "code",
   "execution_count": null,
   "id": "f97a6975-90d9-4b2f-866c-57aaa2cb9d93",
   "metadata": {},
   "outputs": [],
   "source": [
    "predictor.predict(normalized_uni_var_data_example[-5:])"
   ]
  },
  {
   "cell_type": "code",
   "execution_count": null,
   "id": "680cc453-bdb3-4c76-8f2b-afbce7ad94f8",
   "metadata": {},
   "outputs": [],
   "source": [
    "predictor.model_blueprint()"
   ]
  },
  {
   "cell_type": "code",
   "execution_count": null,
   "id": "cb3baa3d",
   "metadata": {},
   "outputs": [],
   "source": [
    "predictor.create_fit_gru(steps_past = 3, steps_future = 20, epochs=1)"
   ]
  },
  {
   "cell_type": "code",
   "execution_count": null,
   "id": "46fc32cd-95d8-4088-b40e-e839c64211b5",
   "metadata": {},
   "outputs": [],
   "source": [
    "predictor.predict(normalized_uni_var_data_example[-3:])"
   ]
  },
  {
   "cell_type": "code",
   "execution_count": null,
   "id": "b355a3f2-8f8e-45b7-9d5b-71772a78aae0",
   "metadata": {},
   "outputs": [],
   "source": [
    "layer_config_cnn = {\n",
    "   \"layer0\": {\"config\": {\"filters\": 64, \"kernel_size\": 2, \"activation\": \"relu\", \"regularization\": 0.0, \"dropout\": 0.0}},\n",
    "   \"layer1\": {\"config\": {\"filters\": 100, \"kernel_size\": 2, \"activation\": \"relu\", \"regularization\": 0.0, \"dropout\": 0.0}},\n",
    "   \"layer2\": {\"config\": {\"pool_size\": 4}},\n",
    "   \"layer3\": {\"config\": {\"neurons\": 100, \"activation\": \"relu\", \"regularization\": 0.0}},\n",
    "\n",
    "}"
   ]
  },
  {
   "cell_type": "code",
   "execution_count": null,
   "id": "24620d03",
   "metadata": {},
   "outputs": [],
   "source": [
    "predictor = PureUni(target = normalized_uni_var_data_example)\n",
    "\n",
    "predictor.create_cnn(\n",
    "                      steps_past =  16,\n",
    "                      steps_future = 10,\n",
    "                      optimizer = 'adam',\n",
    "                      loss = 'mean_squared_error',\n",
    "                      metrics = 'mean_squared_error',\n",
    "                      layer_config = layer_config_cnn\n",
    "                     )\n",
    "\n",
    "predictor.fit_model(\n",
    "                     epochs = 2,\n",
    "                     show_progress= 1,\n",
    "                     validation_split = 0.20\n",
    "                    )"
   ]
  },
  {
   "cell_type": "code",
   "execution_count": null,
   "id": "dcbca588-4d11-497a-a56a-52cd9a4b7d0b",
   "metadata": {},
   "outputs": [],
   "source": [
    "predictor.get_target_shape"
   ]
  },
  {
   "cell_type": "code",
   "execution_count": null,
   "id": "1687b1d4-3886-4cbc-872f-094a25550f12",
   "metadata": {},
   "outputs": [],
   "source": [
    "predictor.show_performance()"
   ]
  },
  {
   "cell_type": "code",
   "execution_count": null,
   "id": "3151304a-75df-4469-863e-27fae71343af",
   "metadata": {},
   "outputs": [],
   "source": [
    "predictor.predict(normalized_uni_var_data_example[-16:])"
   ]
  },
  {
   "cell_type": "code",
   "execution_count": null,
   "id": "d977d5fc-b840-4be1-be3a-3c2bcad4fd28",
   "metadata": {},
   "outputs": [],
   "source": [
    "predictor.model_blueprint()"
   ]
  },
  {
   "cell_type": "code",
   "execution_count": null,
   "id": "a68b069e",
   "metadata": {},
   "outputs": [],
   "source": [
    "predictor.create_fit_cnn(steps_past = 8, steps_future = 10, epochs=1)"
   ]
  },
  {
   "cell_type": "code",
   "execution_count": null,
   "id": "e3acffe7-e64a-4997-817a-a0ed19fec524",
   "metadata": {},
   "outputs": [],
   "source": [
    "predictor.get_target_shape"
   ]
  },
  {
   "cell_type": "code",
   "execution_count": null,
   "id": "72225907-569e-4097-801b-001b7bd06154",
   "metadata": {},
   "outputs": [],
   "source": [
    "predictor.predict(normalized_uni_var_data_example[-8:])"
   ]
  },
  {
   "cell_type": "code",
   "execution_count": null,
   "id": "7b6b6ba6-dd8a-4f40-acbe-052ef35d7fa0",
   "metadata": {},
   "outputs": [],
   "source": [
    "layer_config_bi = {\n",
    "   \"layer0\": {\"config\": {\"neurons\": 50, \"activation\": \"relu\", \"regularization\": 0.0, \"dropout\": 0.0}},\n",
    "   \"layer1\": {\"config\": {\"neurons\": 50, \"activation\": \"relu\", \"regularization\": 0.0}},\n",
    "}"
   ]
  },
  {
   "cell_type": "code",
   "execution_count": null,
   "id": "ebf305cb",
   "metadata": {},
   "outputs": [],
   "source": [
    "predictor = PureUni(target = normalized_uni_var_data_example)\n",
    "\n",
    "predictor.create_birnn(\n",
    "                        steps_past =  5,\n",
    "                        steps_future = 10,\n",
    "                        optimizer = 'adam',\n",
    "                        loss = 'mean_squared_error',\n",
    "                        metrics = 'mean_squared_error',\n",
    "                        layer_config = layer_config_bi\n",
    "                       )\n",
    "predictor.fit_model(\n",
    "                     epochs = 2,\n",
    "                     show_progress= 1, \n",
    "                     validation_split = 0.20\n",
    "                    )"
   ]
  },
  {
   "cell_type": "code",
   "execution_count": null,
   "id": "4acebf62-4a71-4205-8af3-46595ac16b06",
   "metadata": {},
   "outputs": [],
   "source": [
    "predictor.get_target_shape"
   ]
  },
  {
   "cell_type": "code",
   "execution_count": null,
   "id": "a5aa3edb-90f7-44cb-b3d2-671fb36592c5",
   "metadata": {},
   "outputs": [],
   "source": [
    "predictor.show_performance()"
   ]
  },
  {
   "cell_type": "code",
   "execution_count": null,
   "id": "b463c3d4-9799-451c-b861-26a0432d8acb",
   "metadata": {},
   "outputs": [],
   "source": [
    "predictor.predict(normalized_uni_var_data_example[-5:])"
   ]
  },
  {
   "cell_type": "code",
   "execution_count": null,
   "id": "185168d9-e7e9-4310-ae5f-fece2ac757d4",
   "metadata": {},
   "outputs": [],
   "source": [
    "predictor.model_blueprint()"
   ]
  },
  {
   "cell_type": "code",
   "execution_count": null,
   "id": "dee3408b",
   "metadata": {},
   "outputs": [],
   "source": [
    "predictor.create_fit_birnn(steps_past = 10, steps_future = 3, epochs=1)"
   ]
  },
  {
   "cell_type": "code",
   "execution_count": null,
   "id": "e50656df-44b3-4195-94bf-d72d0e7b4947",
   "metadata": {},
   "outputs": [],
   "source": [
    "predictor.get_target_shape"
   ]
  },
  {
   "cell_type": "code",
   "execution_count": null,
   "id": "5078887e-42e2-4ce6-bd47-9cc6a1b66ca4",
   "metadata": {},
   "outputs": [],
   "source": [
    "predictor.predict(normalized_uni_var_data_example[-10:])"
   ]
  },
  {
   "cell_type": "code",
   "execution_count": null,
   "id": "2852b4be",
   "metadata": {},
   "outputs": [],
   "source": [
    "predictor = PureUni(target = normalized_uni_var_data_example)\n",
    "\n",
    "predictor.create_bilstm(\n",
    "                         steps_past =  5,\n",
    "                         steps_future = 10,\n",
    "                         optimizer = 'adam',\n",
    "                         loss = 'mean_squared_error',\n",
    "                         metrics = 'mean_squared_error',\n",
    "                         layer_config = layer_config_bi\n",
    "                        )\n",
    "predictor.fit_model(\n",
    "                     epochs = 7,\n",
    "                     show_progress= 1,\n",
    "                     validation_split = 0.20,\n",
    "                     monitor='val_loss',\n",
    "                     patience=1,\n",
    "                     min_delta = 0,\n",
    "                     verbose = 1\n",
    "                    )"
   ]
  },
  {
   "cell_type": "code",
   "execution_count": null,
   "id": "47d01010-62d3-480c-bf62-9680fca33094",
   "metadata": {},
   "outputs": [],
   "source": [
    "predictor.show_performance()"
   ]
  },
  {
   "cell_type": "code",
   "execution_count": null,
   "id": "33dea9fe-0ca3-4bc7-8c26-026082b5f5fe",
   "metadata": {},
   "outputs": [],
   "source": [
    "predictor.predict(normalized_uni_var_data_example[-5:])"
   ]
  },
  {
   "cell_type": "code",
   "execution_count": null,
   "id": "0b3b5cce-055e-4bc6-91b7-ee4a1c5d16c2",
   "metadata": {},
   "outputs": [],
   "source": [
    "predictor.model_blueprint()"
   ]
  },
  {
   "cell_type": "code",
   "execution_count": null,
   "id": "d1bd80cd",
   "metadata": {},
   "outputs": [],
   "source": [
    "predictor.create_fit_bilstm(steps_past = 10, steps_future = 2, epochs=1)"
   ]
  },
  {
   "cell_type": "code",
   "execution_count": null,
   "id": "6820a3bd-e8d8-41c2-ba63-ebc0a61a69d2",
   "metadata": {},
   "outputs": [],
   "source": [
    "predictor.predict(normalized_uni_var_data_example[-10:])"
   ]
  },
  {
   "cell_type": "code",
   "execution_count": null,
   "id": "436822cf",
   "metadata": {},
   "outputs": [],
   "source": [
    "predictor = PureUni(target = normalized_uni_var_data_example)\n",
    "\n",
    "predictor.create_bigru(\n",
    "                        steps_past =  5,\n",
    "                        steps_future = 10,\n",
    "                        optimizer = 'adam',\n",
    "                        loss = 'mean_squared_error',\n",
    "                        metrics = 'mean_squared_error',\n",
    "                        layer_config = layer_config_bi\n",
    "                       )\n",
    "predictor.fit_model(\n",
    "                     epochs = 2,\n",
    "                     show_progress= 1,\n",
    "                     validation_split = 0.20\n",
    "                    )"
   ]
  },
  {
   "cell_type": "code",
   "execution_count": null,
   "id": "42aaec6d-1e6c-48cd-9212-302ea57e7088",
   "metadata": {},
   "outputs": [],
   "source": [
    "predictor.show_performance()"
   ]
  },
  {
   "cell_type": "code",
   "execution_count": null,
   "id": "811dddbc-6115-467d-a775-d3fbf90a052c",
   "metadata": {},
   "outputs": [],
   "source": [
    "predictor.predict(normalized_uni_var_data_example[-5:])"
   ]
  },
  {
   "cell_type": "code",
   "execution_count": null,
   "id": "ed8ba358-d49a-4f8f-ab1d-08cd2a470916",
   "metadata": {},
   "outputs": [],
   "source": [
    "predictor.model_blueprint()"
   ]
  },
  {
   "cell_type": "code",
   "execution_count": null,
   "id": "edf8ddea",
   "metadata": {},
   "outputs": [],
   "source": [
    "predictor.create_fit_bigru(steps_past = 10, steps_future = 2, epochs=1)"
   ]
  },
  {
   "cell_type": "code",
   "execution_count": null,
   "id": "fa11e0c4-83f8-44f7-872a-8d86c08d82ad",
   "metadata": {},
   "outputs": [],
   "source": [
    "predictor.predict(normalized_uni_var_data_example[-10:])"
   ]
  },
  {
   "cell_type": "code",
   "execution_count": null,
   "id": "b3577acd",
   "metadata": {},
   "outputs": [],
   "source": [
    "predictor.freeze(\"test1.keras\")"
   ]
  },
  {
   "cell_type": "code",
   "execution_count": null,
   "id": "f67b841e",
   "metadata": {},
   "outputs": [],
   "source": [
    "load = PureUni()"
   ]
  },
  {
   "cell_type": "code",
   "execution_count": null,
   "id": "a26a0034",
   "metadata": {},
   "outputs": [],
   "source": [
    "load.set_model_id('Loaded Model')"
   ]
  },
  {
   "cell_type": "code",
   "execution_count": null,
   "id": "0354c8f7",
   "metadata": {},
   "outputs": [],
   "source": [
    "load.retrieve('test1.keras')"
   ]
  },
  {
   "cell_type": "code",
   "execution_count": null,
   "id": "9e9ee4d4",
   "metadata": {},
   "outputs": [],
   "source": [
    "load.predict(normalized_uni_var_data_example[-10:])"
   ]
  },
  {
   "cell_type": "code",
   "execution_count": null,
   "id": "b93cbfc1-1db6-4db8-8119-9e85fccad6bc",
   "metadata": {},
   "outputs": [],
   "source": [
    "layer_config_bi_flex = {\n",
    "   \"layer0\": {\"config\": {\"neurons\": 150, \"activation\": \"relu\", \"regularization\": 0.02, \"dropout\": 0.2}},\n",
    "    \"layer1\": {\"config\": {\"neurons\": 100, \"activation\": \"relu\", \"regularization\": 0.02, \"dropout\": 0.2}},\n",
    "    \"layer2\": {\"config\": {\"neurons\": 50, \"activation\": \"relu\", \"regularization\": 0.002, \"dropout\": 0.2}},\n",
    "    \"layer3\": {\"config\": {\"neurons\": 25, \"activation\": \"relu\", \"regularization\": 0.0, \"dropout\": 0.2}},\n",
    "   \"layer4\": {\"config\": {\"neurons\": 10, \"activation\": \"relu\", \"regularization\": 0.0}},\n",
    "}"
   ]
  },
  {
   "cell_type": "code",
   "execution_count": null,
   "id": "ffc05fb7-209e-4e2e-989d-d09a57805729",
   "metadata": {},
   "outputs": [],
   "source": [
    "predictor_bi_lstm_flex = PureUni(target = normalized_uni_var_data_example)"
   ]
  },
  {
   "cell_type": "code",
   "execution_count": null,
   "id": "16e1d1a2-690e-4a51-9bb9-1c4f973d5f11",
   "metadata": {},
   "outputs": [],
   "source": [
    "predictor_bi_lstm_flex.create_fit_bilstm(\n",
    "        steps_past =  5,\n",
    "        steps_future = 10,\n",
    "        optimizer  = \"adam\",\n",
    "        optimizer_args  = None,\n",
    "        loss = \"mean_squared_error\",\n",
    "        metrics = \"mean_squared_error\",\n",
    "        bilstm_block_one = 3,\n",
    "        lstm_block_one = 2,\n",
    "        layer_config =  layer_config_bi_flex,\n",
    "        epochs  = 3,\n",
    "        show_progress = 1,\n",
    "        validation_split  = 0.20,\n",
    "        board = False,\n",
    ")"
   ]
  },
  {
   "cell_type": "code",
   "execution_count": null,
   "id": "b19a91da-53f8-407d-9a8f-e5f8804fded0",
   "metadata": {},
   "outputs": [],
   "source": [
    "predictor_bi_lstm_flex.model_blueprint()"
   ]
  },
  {
   "cell_type": "code",
   "execution_count": null,
   "id": "e1def615-86e6-48b6-9531-a13e250144bd",
   "metadata": {},
   "outputs": [],
   "source": [
    "predictor_bi_lstm_flex.predict(normalized_uni_var_data_example[-5:])"
   ]
  },
  {
   "cell_type": "markdown",
   "id": "de935475",
   "metadata": {},
   "source": [
    "## 2. Hybrid Univariate Models - `HybridUni` Class"
   ]
  },
  {
   "cell_type": "code",
   "execution_count": null,
   "id": "35821fde",
   "metadata": {},
   "outputs": [],
   "source": [
    "from imbrium import HybridUni"
   ]
  },
  {
   "cell_type": "code",
   "execution_count": null,
   "id": "f2cd10be-27eb-42db-b2a6-d7b05c582067",
   "metadata": {},
   "outputs": [],
   "source": [
    "layer_config_cnn_hybrid = {\n",
    "            \"layer0\": {\n",
    "                \"config\": {\n",
    "                    \"filters\": 64,\n",
    "                    \"kernel_size\": 1,\n",
    "                    \"activation\": \"relu\",\n",
    "                    \"regularization\": 0.0,\n",
    "                    \"dropout\": 0.0,\n",
    "                }\n",
    "            },\n",
    "            \"layer1\": {\n",
    "                \"config\": {\n",
    "                    \"filters\": 32,\n",
    "                    \"kernel_size\": 1,\n",
    "                    \"activation\": \"relu\",\n",
    "                    \"regularization\": 0.0,\n",
    "                    \"dropout\": 0.0,\n",
    "                }\n",
    "            },\n",
    "            \"layer2\": {\n",
    "                \"config\": {\n",
    "                    \"pool_size\": 2,\n",
    "                }\n",
    "            },\n",
    "            \"layer3\": {\n",
    "                \"config\": {\n",
    "                    \"neurons\": 32,\n",
    "                    \"activation\": \"relu\",\n",
    "                    \"regularization\": 0.0,\n",
    "                    \"dropout\": 0.0,\n",
    "                }\n",
    "            },\n",
    "            \"layer4\": {\n",
    "                \"config\": {\n",
    "                    \"neurons\": 32,\n",
    "                    \"activation\": \"relu\",\n",
    "                    \"regularization\": 0.0,\n",
    "                }\n",
    "            },\n",
    "        }"
   ]
  },
  {
   "cell_type": "code",
   "execution_count": null,
   "id": "973edbff",
   "metadata": {},
   "outputs": [],
   "source": [
    "predictor = HybridUni(target = normalized_uni_var_data_example)\n",
    "\n",
    "predictor.create_cnnrnn(\n",
    "                         sub_seq = 2,\n",
    "                         steps_past = 10,\n",
    "                         steps_future = 5,\n",
    "                         optimizer= 'adam',\n",
    "                         loss= 'mean_squared_error',\n",
    "                         metrics = 'mean_squared_error', \n",
    "                         conv_block_one = 1,\n",
    "                         conv_block_two = 1,\n",
    "                         rnn_block_one = 1,\n",
    "                         rnn_block_two = 1,\n",
    "                         layer_config = layer_config_cnn_hybrid\n",
    "                        )\n",
    "predictor.fit_model(\n",
    "                     epochs = 3,\n",
    "                     show_progress= 1,\n",
    "                     validation_split = 0.20,\n",
    "                     board = True\n",
    "                     )"
   ]
  },
  {
   "cell_type": "code",
   "execution_count": null,
   "id": "ee89559e-a80b-4474-b69c-861f79b9fee3",
   "metadata": {},
   "outputs": [],
   "source": [
    "predictor.get_target_shape"
   ]
  },
  {
   "cell_type": "code",
   "execution_count": null,
   "id": "bf27391d-7a30-4644-bb48-8856a250cf6f",
   "metadata": {},
   "outputs": [],
   "source": [
    "predictor.show_performance().history"
   ]
  },
  {
   "cell_type": "code",
   "execution_count": null,
   "id": "cd1edd6b-82f7-4b96-aee8-28970232643f",
   "metadata": {},
   "outputs": [],
   "source": [
    "predictor.predict(normalized_uni_var_data_example[-10:])"
   ]
  },
  {
   "cell_type": "code",
   "execution_count": null,
   "id": "1e586ec6-4ef1-4ecd-8307-7646338dcb75",
   "metadata": {},
   "outputs": [],
   "source": [
    "predictor.model_blueprint()"
   ]
  },
  {
   "cell_type": "code",
   "execution_count": null,
   "id": "7101762d",
   "metadata": {},
   "outputs": [],
   "source": [
    "predictor.create_fit_cnnrnn(epochs=1, sub_seq=2, steps_past=20, steps_future=5)"
   ]
  },
  {
   "cell_type": "code",
   "execution_count": null,
   "id": "5f13af63-5e71-4f3c-a3fc-31bc4d7f3244",
   "metadata": {},
   "outputs": [],
   "source": [
    "predictor.show_performance().history"
   ]
  },
  {
   "cell_type": "code",
   "execution_count": null,
   "id": "ca70b5e0-6bf3-4a5b-9064-aaf6b9531fbe",
   "metadata": {},
   "outputs": [],
   "source": [
    "predictor.predict(normalized_uni_var_data_example[-20:])"
   ]
  },
  {
   "cell_type": "code",
   "execution_count": null,
   "id": "cc4c229c-b54d-4616-b079-22105883f188",
   "metadata": {},
   "outputs": [],
   "source": [
    "predictor.get_target_shape"
   ]
  },
  {
   "cell_type": "code",
   "execution_count": null,
   "id": "f51dbd2f",
   "metadata": {},
   "outputs": [],
   "source": [
    "predictor = HybridUni(target = normalized_uni_var_data_example)\n",
    "\n",
    "predictor.create_cnnlstm(\n",
    "                          sub_seq = 8,\n",
    "                          steps_past = 16,\n",
    "                          steps_future = 8, \n",
    "                          optimizer= 'adam',\n",
    "                          loss= 'mean_squared_error',\n",
    "                          metrics = 'mean_squared_error',\n",
    "                          layer_config = layer_config_cnn_hybrid\n",
    "                         )\n",
    "predictor.fit_model(\n",
    "                     epochs = 7,\n",
    "                     show_progress= 1,\n",
    "                     validation_split = 0.20,\n",
    "                     monitor='val_loss',\n",
    "                     patience=1,\n",
    "                     min_delta = 0,\n",
    "                     verbose = 1\n",
    "                    )"
   ]
  },
  {
   "cell_type": "code",
   "execution_count": null,
   "id": "22544f84-8252-4aa9-a519-0f29c46ab5a7",
   "metadata": {},
   "outputs": [],
   "source": [
    "predictor.show_performance()"
   ]
  },
  {
   "cell_type": "code",
   "execution_count": null,
   "id": "ab02fe0f-6eda-4dcb-896d-141515ed2c0a",
   "metadata": {},
   "outputs": [],
   "source": [
    "predictor.predict(normalized_uni_var_data_example[-16:])"
   ]
  },
  {
   "cell_type": "code",
   "execution_count": null,
   "id": "aa6db30d-f5b9-4ae8-9715-1ba2abb6c4e6",
   "metadata": {},
   "outputs": [],
   "source": [
    "predictor.model_blueprint()"
   ]
  },
  {
   "cell_type": "code",
   "execution_count": null,
   "id": "18e13244",
   "metadata": {},
   "outputs": [],
   "source": [
    "predictor.create_fit_cnnlstm(sub_seq = 2, steps_past = 10, steps_future = 5,epochs=1)"
   ]
  },
  {
   "cell_type": "code",
   "execution_count": null,
   "id": "b3f0ef96",
   "metadata": {},
   "outputs": [],
   "source": [
    "predictor = HybridUni(target = normalized_uni_var_data_example)\n",
    "\n",
    "predictor.create_cnngru(\n",
    "                         sub_seq = 2,\n",
    "                         steps_past = 10,\n",
    "                         steps_future = 5, \n",
    "                         optimizer= 'adam',\n",
    "                         loss= 'mean_squared_error',\n",
    "                         metrics = 'mean_squared_error',\n",
    "                         layer_config = layer_config_cnn_hybrid\n",
    "                        )\n",
    "predictor.fit_model(\n",
    "                     epochs = 5,\n",
    "                     show_progress= 1,\n",
    "                     validation_split = 0.20\n",
    "                    )"
   ]
  },
  {
   "cell_type": "code",
   "execution_count": null,
   "id": "1d203a36-81aa-4457-ac39-b5ad7f98eaa0",
   "metadata": {},
   "outputs": [],
   "source": [
    "predictor.show_performance()"
   ]
  },
  {
   "cell_type": "code",
   "execution_count": null,
   "id": "eafba8e2-f66f-44aa-ac6a-f0d2b20c62e2",
   "metadata": {},
   "outputs": [],
   "source": [
    "predictor.predict(normalized_uni_var_data_example[-10:])"
   ]
  },
  {
   "cell_type": "code",
   "execution_count": null,
   "id": "90c02e65-508f-4a28-ac3c-5c3ad215dd97",
   "metadata": {},
   "outputs": [],
   "source": [
    "predictor.model_blueprint()"
   ]
  },
  {
   "cell_type": "code",
   "execution_count": null,
   "id": "03cfbcd4",
   "metadata": {},
   "outputs": [],
   "source": [
    "predictor.create_fit_cnngru(sub_seq = 2, steps_past = 10, steps_future = 5, epochs=1)"
   ]
  },
  {
   "cell_type": "code",
   "execution_count": null,
   "id": "7ea9132f-3b10-4525-8112-5bda859978fe",
   "metadata": {},
   "outputs": [],
   "source": [
    "layer_config_bicnn_hybrid = {\n",
    "            \"layer0\": {\n",
    "                \"config\": {\n",
    "                    \"filters\": 64,\n",
    "                    \"kernel_size\": 1,\n",
    "                    \"activation\": \"relu\",\n",
    "                    \"regularization\": 0.0,\n",
    "                    \"dropout\": 0.0,\n",
    "                }\n",
    "            },\n",
    "            \"layer1\": {\n",
    "                \"config\": {\n",
    "                    \"filters\": 32,\n",
    "                    \"kernel_size\": 1,\n",
    "                    \"activation\": \"relu\",\n",
    "                    \"regularization\": 0.0,\n",
    "                    \"dropout\": 0.0,\n",
    "                }\n",
    "            },\n",
    "            \"layer2\": {\n",
    "                \"config\": {\n",
    "                    \"pool_size\": 2,\n",
    "                }\n",
    "            },\n",
    "            \"layer3\": {\n",
    "                \"config\": {\n",
    "                    \"neurons\": 32,\n",
    "                    \"activation\": \"relu\",\n",
    "                    \"regularization\": 0.0,\n",
    "                    \"dropout\": 0.0,\n",
    "                }\n",
    "            },\n",
    "            \"layer4\": {\n",
    "                \"config\": {\n",
    "                    \"neurons\": 32,\n",
    "                    \"activation\": \"relu\",\n",
    "                    \"regularization\": 0.0,\n",
    "                }\n",
    "            },\n",
    "        }"
   ]
  },
  {
   "cell_type": "code",
   "execution_count": null,
   "id": "05d4c353",
   "metadata": {},
   "outputs": [],
   "source": [
    "predictor = HybridUni(target = normalized_uni_var_data_example)\n",
    "\n",
    "predictor.create_cnnbirnn(\n",
    "                           sub_seq = 2,\n",
    "                           steps_past = 10,\n",
    "                           steps_future = 5, \n",
    "                           optimizer= 'adam',\n",
    "                           loss= 'mean_squared_error',\n",
    "                           metrics = 'mean_squared_error',\n",
    "                           layer_config =  layer_config_bicnn_hybrid\n",
    "                          )\n",
    "predictor.fit_model(\n",
    "                     epochs = 2,\n",
    "                     show_progress= 1,\n",
    "                     validation_split = 0.20\n",
    "                    )"
   ]
  },
  {
   "cell_type": "code",
   "execution_count": null,
   "id": "6b502d9a-bc83-4000-a40f-18eeca0619dc",
   "metadata": {},
   "outputs": [],
   "source": [
    "predictor.show_performance()"
   ]
  },
  {
   "cell_type": "code",
   "execution_count": null,
   "id": "20688736-22cb-4360-94f4-eb838c03742c",
   "metadata": {},
   "outputs": [],
   "source": [
    "predictor.predict(normalized_uni_var_data_example[-10:])"
   ]
  },
  {
   "cell_type": "code",
   "execution_count": null,
   "id": "e902e255-ce50-432d-87a6-6e04a6e6c1b6",
   "metadata": {},
   "outputs": [],
   "source": [
    "predictor.model_blueprint()"
   ]
  },
  {
   "cell_type": "code",
   "execution_count": null,
   "id": "a1984cce",
   "metadata": {},
   "outputs": [],
   "source": [
    "predictor.create_fit_cnnbirnn(sub_seq = 2, steps_past = 10, steps_future = 5, epochs=1)"
   ]
  },
  {
   "cell_type": "code",
   "execution_count": null,
   "id": "f858b5c3",
   "metadata": {},
   "outputs": [],
   "source": [
    "predictor = HybridUni( target = normalized_uni_var_data_example)\n",
    "\n",
    "predictor.create_cnnbilstm(\n",
    "                            sub_seq = 2,\n",
    "                            steps_past = 10,\n",
    "                            steps_future = 5,\n",
    "                            optimizer= 'adam',\n",
    "                            loss= 'mean_squared_error',\n",
    "                            metrics = 'mean_squared_error',\n",
    "                            layer_config = layer_config_bicnn_hybrid\n",
    "                           )\n",
    "predictor.fit_model(\n",
    "                     epochs = 2,\n",
    "                     show_progress= 1,\n",
    "                     validation_split = 0.20\n",
    "                    )"
   ]
  },
  {
   "cell_type": "code",
   "execution_count": null,
   "id": "7f1a2142-4531-4922-938c-a21fd3dd0682",
   "metadata": {},
   "outputs": [],
   "source": [
    "predictor.show_performance()"
   ]
  },
  {
   "cell_type": "code",
   "execution_count": null,
   "id": "7aec746c-85a8-45ea-8b91-f3df3bfde406",
   "metadata": {},
   "outputs": [],
   "source": [
    "predictor.predict(normalized_uni_var_data_example[-10:])"
   ]
  },
  {
   "cell_type": "code",
   "execution_count": null,
   "id": "cee26757-b545-4e12-ba4f-9e9afab3735c",
   "metadata": {},
   "outputs": [],
   "source": [
    "predictor.model_blueprint()"
   ]
  },
  {
   "cell_type": "code",
   "execution_count": null,
   "id": "985f7e5f",
   "metadata": {},
   "outputs": [],
   "source": [
    "predictor.create_fit_cnnbilstm(sub_seq = 2, steps_past = 10, steps_future = 5, epochs=1)"
   ]
  },
  {
   "cell_type": "code",
   "execution_count": null,
   "id": "b4a7520b",
   "metadata": {},
   "outputs": [],
   "source": [
    "predictor = HybridUni(target = normalized_uni_var_data_example)\n",
    "\n",
    "predictor.create_cnnbigru(\n",
    "                           sub_seq = 2,\n",
    "                           steps_past = 10,\n",
    "                           steps_future = 5,\n",
    "                           optimizer= 'adam',\n",
    "                           loss= 'mean_squared_error',\n",
    "                           metrics = 'mean_squared_error',\n",
    "                           layer_config = layer_config_bicnn_hybrid\n",
    "                          )\n",
    "predictor.fit_model(\n",
    "                     epochs = 7,\n",
    "                     show_progress= 1,\n",
    "                     validation_split = 0.20,\n",
    "                     monitor='val_loss',\n",
    "                     patience=1,\n",
    "                     min_delta = 0,\n",
    "                     verbose = 1\n",
    "                    )"
   ]
  },
  {
   "cell_type": "code",
   "execution_count": null,
   "id": "04b0ca60-98cf-44ea-a97a-079f23434aae",
   "metadata": {},
   "outputs": [],
   "source": [
    "predictor.show_performance()"
   ]
  },
  {
   "cell_type": "code",
   "execution_count": null,
   "id": "b3603b45-b391-4fa8-9286-18a750cbae6c",
   "metadata": {},
   "outputs": [],
   "source": [
    "predictor.predict(normalized_uni_var_data_example[-10:])"
   ]
  },
  {
   "cell_type": "code",
   "execution_count": null,
   "id": "a3465643-2894-42ab-badb-274cffd97854",
   "metadata": {},
   "outputs": [],
   "source": [
    "predictor.model_blueprint()"
   ]
  },
  {
   "cell_type": "code",
   "execution_count": null,
   "id": "2f4e4653",
   "metadata": {},
   "outputs": [],
   "source": [
    "predictor.create_fit_cnnbigru(sub_seq = 2, steps_past = 10, steps_future = 5, epochs=1)"
   ]
  },
  {
   "cell_type": "code",
   "execution_count": null,
   "id": "2e5566fc",
   "metadata": {},
   "outputs": [],
   "source": [
    "predictor.freeze(\"test2.keras\")"
   ]
  },
  {
   "cell_type": "code",
   "execution_count": null,
   "id": "fb0f96a2",
   "metadata": {},
   "outputs": [],
   "source": [
    "load = HybridUni()"
   ]
  },
  {
   "cell_type": "code",
   "execution_count": null,
   "id": "0dd74b74",
   "metadata": {},
   "outputs": [],
   "source": [
    "load.set_model_id('Loaded Model')"
   ]
  },
  {
   "cell_type": "code",
   "execution_count": null,
   "id": "50da5e75",
   "metadata": {},
   "outputs": [],
   "source": [
    "load.retrieve('test2.keras')"
   ]
  },
  {
   "cell_type": "code",
   "execution_count": null,
   "id": "90377080",
   "metadata": {},
   "outputs": [],
   "source": [
    "load.predict(normalized_uni_var_data_example[-10:], sub_seq=2, steps_past=10, steps_future = 5) # account for load model"
   ]
  },
  {
   "cell_type": "code",
   "execution_count": null,
   "id": "5c69ff97-5417-413c-851d-108b86dcfd83",
   "metadata": {},
   "outputs": [],
   "source": [
    "layer_config_bicnn_hybrid_flex = {\n",
    "            \"layer0\": {\n",
    "                \"config\": {\n",
    "                    \"filters\": 64,\n",
    "                    \"kernel_size\": 1,\n",
    "                    \"activation\": \"relu\",\n",
    "                    \"regularization\": 0.0,\n",
    "                    \"dropout\": 0.0,\n",
    "                }\n",
    "            },\n",
    "            \"layer1\": {\n",
    "                \"config\": {\n",
    "                    \"filters\": 32,\n",
    "                    \"kernel_size\": 1,\n",
    "                    \"activation\": \"relu\",\n",
    "                    \"regularization\": 0.0,\n",
    "                    \"dropout\": 0.0,\n",
    "                }\n",
    "            },\n",
    "            \"layer2\": {\n",
    "                \"config\": {\n",
    "                    \"filters\": 16,\n",
    "                    \"kernel_size\": 1,\n",
    "                    \"activation\": \"relu\",\n",
    "                    \"regularization\": 0.0,\n",
    "                    \"dropout\": 0.0,\n",
    "                }\n",
    "            },\n",
    "            \"layer3\": {\n",
    "                \"config\": {\n",
    "                    \"pool_size\": 2,\n",
    "                }\n",
    "            },\n",
    "            \"layer4\": {\n",
    "                \"config\": {\n",
    "                    \"neurons\": 100,\n",
    "                    \"activation\": \"relu\",\n",
    "                    \"regularization\": 0.002,\n",
    "                    \"dropout\": 0.0,\n",
    "                }\n",
    "            },\n",
    "            \"layer5\": {\n",
    "                \"config\": {\n",
    "                    \"neurons\": 50,\n",
    "                    \"activation\": \"relu\",\n",
    "                    \"regularization\": 0.002,\n",
    "                    \"dropout\": 0.0,\n",
    "                }\n",
    "            },\n",
    "            \"layer6\": {\n",
    "                \"config\": {\n",
    "                    \"neurons\": 32,\n",
    "                    \"activation\": \"relu\",\n",
    "                    \"regularization\": 0.0,\n",
    "                }\n",
    "            },\n",
    "        }"
   ]
  },
  {
   "cell_type": "code",
   "execution_count": null,
   "id": "dbd4e220-46a5-4293-8a4a-8d4391b8dee2",
   "metadata": {},
   "outputs": [],
   "source": [
    "cnnbilstm_flex = HybridUni(target = normalized_uni_var_data_example)"
   ]
  },
  {
   "cell_type": "code",
   "execution_count": null,
   "id": "52adbefa-85ce-4b88-844e-18caae2257f9",
   "metadata": {},
   "outputs": [],
   "source": [
    "cnnbilstm_flex.create_fit_cnnbilstm(\n",
    "        sub_seq = 2,\n",
    "        steps_past = 10,\n",
    "        steps_future = 5,\n",
    "        optimizer = \"adamax\",\n",
    "        optimizer_args = None,\n",
    "        epochs = 3,\n",
    "        loss = \"mean_squared_error\",\n",
    "        metrics = \"mean_squared_error\",\n",
    "        conv_block_one = 2,\n",
    "        conv_block_two = 1,\n",
    "        bilstm_block_one = 2,\n",
    "        lstm_block_one = 1,\n",
    "        layer_config = layer_config_bicnn_hybrid_flex\n",
    ")"
   ]
  },
  {
   "cell_type": "code",
   "execution_count": null,
   "id": "fee400cf-fa6b-452c-9941-c5a70284e431",
   "metadata": {},
   "outputs": [],
   "source": [
    "cnnbilstm_flex.model_blueprint()"
   ]
  },
  {
   "cell_type": "code",
   "execution_count": null,
   "id": "917c706b-5975-43ab-8bf2-88e49e10220b",
   "metadata": {},
   "outputs": [],
   "source": [
    "cnnbilstm_flex.predict(normalized_uni_var_data_example[-10:])"
   ]
  },
  {
   "cell_type": "markdown",
   "id": "6e7cb949",
   "metadata": {},
   "source": [
    "## 3. Pure Multivariate Models - `PureMulti` Class"
   ]
  },
  {
   "cell_type": "code",
   "execution_count": null,
   "id": "4ecc907f",
   "metadata": {},
   "outputs": [],
   "source": [
    "from imbrium import PureMulti"
   ]
  },
  {
   "cell_type": "code",
   "execution_count": null,
   "id": "dbbd4b7b-ffa9-4a18-97ad-235952ed68c3",
   "metadata": {},
   "outputs": [],
   "source": [
    "target = np.array(example_data['PT08.S1(CO)']).reshape(-1, 1)"
   ]
  },
  {
   "cell_type": "code",
   "execution_count": null,
   "id": "f1530371-692a-4cb9-8591-149f3792258c",
   "metadata": {},
   "outputs": [],
   "source": [
    "features = example_data[['CO(GT)', 'NMHC(GT)', 'C6H6(GT)', 'PT08.S2(NMHC)']]"
   ]
  },
  {
   "cell_type": "code",
   "execution_count": null,
   "id": "7422a391",
   "metadata": {},
   "outputs": [],
   "source": [
    "feature_scaler = MinMaxScaler()\n",
    "target_scaler = MinMaxScaler()\n",
    "\n",
    "# Scale the features and target separately\n",
    "scaled_features = feature_scaler.fit_transform(features)\n",
    "scaled_target = target_scaler.fit_transform(target)"
   ]
  },
  {
   "cell_type": "code",
   "execution_count": null,
   "id": "395a0a63-d292-43ca-8174-ad77df43673b",
   "metadata": {},
   "outputs": [],
   "source": [
    "layer_config_multi =  {\n",
    "            \"layer0\": {\n",
    "                \"config\": {\n",
    "                    \"neurons\": 50,\n",
    "                    \"activation\": \"relu\",\n",
    "                    \"regularization\": 0.0,\n",
    "                    \"dropout\": 0.0,\n",
    "                }\n",
    "            },\n",
    "            \"layer1\": {\n",
    "                \"config\": {\n",
    "                    \"neurons\": 50,\n",
    "                    \"activation\": \"relu\",\n",
    "                    \"regularization\": 0.0,\n",
    "                    \"dropout\": 0.0,\n",
    "                }\n",
    "            },\n",
    "            \"layer2\": {\n",
    "                \"config\": {\"neurons\": 50, \"activation\": \"relu\", \"regularization\": 0.0}\n",
    "            },\n",
    "        }"
   ]
  },
  {
   "cell_type": "code",
   "execution_count": null,
   "id": "74c699c9",
   "metadata": {},
   "outputs": [],
   "source": [
    "predictor = PureMulti(target = scaled_target, features = scaled_features)\n",
    "\n",
    "predictor.create_mlp(\n",
    "                      steps_past =  5, \n",
    "                      steps_future = 10,\n",
    "                      optimizer= 'adam',\n",
    "                      loss= 'mean_squared_error',\n",
    "                      metrics = 'mean_squared_error',\n",
    "                      layer_config = layer_config_multi\n",
    "                     )\n",
    "predictor.fit_model(\n",
    "                     epochs = 7,\n",
    "                     show_progress= 1,\n",
    "                     validation_split = 0.20,\n",
    "                     monitor='val_loss',\n",
    "                     patience=1,\n",
    "                     min_delta = 0,\n",
    "                     verbose = 1,\n",
    "                     board = True\n",
    "                    )"
   ]
  },
  {
   "cell_type": "code",
   "execution_count": null,
   "id": "d69dd6c4-58f1-4a5a-9953-f02c9003352a",
   "metadata": {},
   "outputs": [],
   "source": [
    "predictor.get_target_shape"
   ]
  },
  {
   "cell_type": "code",
   "execution_count": null,
   "id": "f8c78526-5044-4964-8d9d-6dc7cae2331c",
   "metadata": {},
   "outputs": [],
   "source": [
    "predictor.show_performance().history"
   ]
  },
  {
   "cell_type": "code",
   "execution_count": null,
   "id": "619b62c8-3088-4578-94a1-5710ca3d0a43",
   "metadata": {},
   "outputs": [],
   "source": [
    "predictor.predict(scaled_features[-5:])"
   ]
  },
  {
   "cell_type": "code",
   "execution_count": null,
   "id": "f8bb265b-f0f8-42ff-9bf2-f0d738f50ce5",
   "metadata": {},
   "outputs": [],
   "source": [
    "predictor.model_blueprint()"
   ]
  },
  {
   "cell_type": "code",
   "execution_count": null,
   "id": "f115a06f-2dee-4518-b42d-c372a6659d52",
   "metadata": {},
   "outputs": [],
   "source": [
    "predictor.create_fit_mlp(epochs =3, steps_past =  10, steps_future = 10)"
   ]
  },
  {
   "cell_type": "code",
   "execution_count": null,
   "id": "98bace7d-11b9-428a-8edc-7e27eaff254e",
   "metadata": {},
   "outputs": [],
   "source": [
    "predictor.get_target_shape"
   ]
  },
  {
   "cell_type": "code",
   "execution_count": null,
   "id": "f599236d-b315-4787-ac1c-ca3abdf8e5fc",
   "metadata": {},
   "outputs": [],
   "source": [
    "predictor.predict(scaled_features[-10:])"
   ]
  },
  {
   "cell_type": "code",
   "execution_count": null,
   "id": "6196d250",
   "metadata": {},
   "outputs": [],
   "source": [
    "predictor.show_performance()"
   ]
  },
  {
   "cell_type": "code",
   "execution_count": null,
   "id": "141ff4f7",
   "metadata": {},
   "outputs": [],
   "source": [
    "predictor = PureMulti(target = scaled_target, features = scaled_features)\n",
    "\n",
    "predictor.create_rnn(\n",
    "                      steps_past =  5,\n",
    "                      steps_future = 10, \n",
    "                      optimizer= 'adam',\n",
    "                      loss= 'mean_squared_error',\n",
    "                      metrics = 'mean_squared_error',\n",
    "                      layer_config = layer_config_multi\n",
    "                     )\n",
    "predictor.fit_model(epochs = 10,\n",
    "                     show_progress= 1,\n",
    "                     validation_split = 0.20\n",
    "                    )"
   ]
  },
  {
   "cell_type": "code",
   "execution_count": null,
   "id": "91ecdad4-a931-49d9-91bd-884bc393ee21",
   "metadata": {},
   "outputs": [],
   "source": [
    "predictor.show_performance()"
   ]
  },
  {
   "cell_type": "code",
   "execution_count": null,
   "id": "cfc0f127-53df-4632-a044-ccde1a5b1ec9",
   "metadata": {},
   "outputs": [],
   "source": [
    "predictor.predict(scaled_features[-5:])"
   ]
  },
  {
   "cell_type": "code",
   "execution_count": null,
   "id": "9b022c6f-5531-4dfb-adb6-647b5f9bf222",
   "metadata": {},
   "outputs": [],
   "source": [
    "predictor.model_blueprint()"
   ]
  },
  {
   "cell_type": "code",
   "execution_count": null,
   "id": "5e86fbc1",
   "metadata": {},
   "outputs": [],
   "source": [
    "predictor.create_fit_rnn(steps_past =  5, steps_future = 10, epochs = 1)"
   ]
  },
  {
   "cell_type": "code",
   "execution_count": null,
   "id": "292dadeb",
   "metadata": {},
   "outputs": [],
   "source": [
    "predictor = PureMulti(target = scaled_target, features = scaled_features)\n",
    "\n",
    "predictor.create_lstm(\n",
    "                       steps_past =  5,\n",
    "                       steps_future = 10, \n",
    "                       optimizer= 'adam',\n",
    "                       loss= 'mean_squared_error',\n",
    "                       metrics = 'mean_squared_error',\n",
    "                       layer_config = layer_config_multi\n",
    "                      )\n",
    "predictor.fit_model(\n",
    "                     epochs = 7,\n",
    "                     show_progress= 1,\n",
    "                     validation_split = 0.20,\n",
    "                     monitor='val_loss',\n",
    "                     patience=1,\n",
    "                     min_delta = 0,\n",
    "                     verbose = 1\n",
    "                    )"
   ]
  },
  {
   "cell_type": "code",
   "execution_count": null,
   "id": "23e769b1-e603-4d45-b001-34134464373c",
   "metadata": {},
   "outputs": [],
   "source": [
    "predictor.show_performance()"
   ]
  },
  {
   "cell_type": "code",
   "execution_count": null,
   "id": "ce68f66e-d65b-465d-b520-a9cf5cc31d60",
   "metadata": {},
   "outputs": [],
   "source": [
    "predictor.predict(scaled_features[-5:])"
   ]
  },
  {
   "cell_type": "code",
   "execution_count": null,
   "id": "7464988c-de41-4dc7-9f98-1fee879381b1",
   "metadata": {},
   "outputs": [],
   "source": [
    "predictor.model_blueprint()"
   ]
  },
  {
   "cell_type": "code",
   "execution_count": null,
   "id": "8b559358",
   "metadata": {},
   "outputs": [],
   "source": [
    "predictor.create_fit_lstm(steps_past =  5, steps_future = 10, epochs = 1)"
   ]
  },
  {
   "cell_type": "code",
   "execution_count": null,
   "id": "223a8c57-1f0d-45e9-8808-5d97a6238dc0",
   "metadata": {},
   "outputs": [],
   "source": [
    "layer_config_multi_cnn = {\n",
    "            \"layer0\": {\n",
    "                \"config\": {\n",
    "                    \"filters\": 64,\n",
    "                    \"kernel_size\": 1,\n",
    "                    \"activation\": \"relu\",\n",
    "                    \"regularization\": 0.0,\n",
    "                    \"dropout\": 0.0,\n",
    "                }\n",
    "            },\n",
    "            \"layer1\": {\n",
    "                \"config\": {\n",
    "                    \"filters\": 32,\n",
    "                    \"kernel_size\": 1,\n",
    "                    \"activation\": \"relu\",\n",
    "                    \"regularization\": 0.0,\n",
    "                    \"dropout\": 0.0,\n",
    "                }\n",
    "            },\n",
    "            \"layer2\": {\n",
    "                \"config\": {\n",
    "                    \"pool_size\": 2,\n",
    "                }\n",
    "            },\n",
    "            \"layer3\": {\n",
    "                \"config\": {\n",
    "                    \"neurons\": 32,\n",
    "                    \"activation\": \"relu\",\n",
    "                    \"regularization\": 0.0,\n",
    "                }\n",
    "            },\n",
    "        }"
   ]
  },
  {
   "cell_type": "code",
   "execution_count": null,
   "id": "2a4d7e24",
   "metadata": {},
   "outputs": [],
   "source": [
    "predictor = PureMulti( target = scaled_target, features = scaled_features)\n",
    "\n",
    "predictor.create_cnn(\n",
    "                      steps_past =  5,\n",
    "                      steps_future = 10,\n",
    "                      optimizer= 'adam',\n",
    "                      loss= 'mean_squared_error',\n",
    "                      metrics = 'mean_squared_error',\n",
    "                      layer_config = layer_config_multi_cnn\n",
    "                     )\n",
    "predictor.fit_model(\n",
    "                     epochs = 2,\n",
    "                     show_progress= 1,\n",
    "                     validation_split = 0.20\n",
    "                    )"
   ]
  },
  {
   "cell_type": "code",
   "execution_count": null,
   "id": "1a58b43e-11a3-4ca0-8b39-c90bed79b0ea",
   "metadata": {},
   "outputs": [],
   "source": [
    "predictor.show_performance()"
   ]
  },
  {
   "cell_type": "code",
   "execution_count": null,
   "id": "a5bdc48c-4a85-451d-9ddf-c9f52f50f01e",
   "metadata": {},
   "outputs": [],
   "source": [
    "predictor.predict(scaled_features[-5:])"
   ]
  },
  {
   "cell_type": "code",
   "execution_count": null,
   "id": "8bf49ab6-4bae-48d0-9d54-d0fa2aec4fde",
   "metadata": {},
   "outputs": [],
   "source": [
    "predictor.model_blueprint()"
   ]
  },
  {
   "cell_type": "code",
   "execution_count": null,
   "id": "d8c4e22e",
   "metadata": {},
   "outputs": [],
   "source": [
    "predictor.create_fit_cnn(steps_past =  5, steps_future = 10, epochs = 1)"
   ]
  },
  {
   "cell_type": "code",
   "execution_count": null,
   "id": "26c29d56",
   "metadata": {},
   "outputs": [],
   "source": [
    "predictor = PureMulti( target = scaled_target, features = scaled_features)\n",
    "\n",
    "predictor.create_gru(\n",
    "                      steps_past =  5,\n",
    "                      steps_future = 10,\n",
    "                      optimizer= 'adam',\n",
    "                      loss= 'mean_squared_error',\n",
    "                      metrics = 'mean_squared_error', \n",
    "                      layer_config = layer_config_multi\n",
    "                     )\n",
    "predictor.fit_model(epochs = 2,\n",
    "                     show_progress= 1,\n",
    "                     validation_split = 0.20\n",
    "                    )"
   ]
  },
  {
   "cell_type": "code",
   "execution_count": null,
   "id": "5fb008dc-8a46-4531-a540-cd05e877b5db",
   "metadata": {},
   "outputs": [],
   "source": [
    "predictor.show_performance()"
   ]
  },
  {
   "cell_type": "code",
   "execution_count": null,
   "id": "4a863d41-8e88-4185-b7c1-a2e3506796bd",
   "metadata": {},
   "outputs": [],
   "source": [
    "predictor.predict(scaled_features[-5:])"
   ]
  },
  {
   "cell_type": "code",
   "execution_count": null,
   "id": "5f16f75d-ff7f-4e0f-9b98-969c974348be",
   "metadata": {},
   "outputs": [],
   "source": [
    "predictor.model_blueprint()"
   ]
  },
  {
   "cell_type": "code",
   "execution_count": null,
   "id": "9fda0f86",
   "metadata": {},
   "outputs": [],
   "source": [
    "predictor.create_fit_gru(steps_past =  5, steps_future = 10, epochs = 1)"
   ]
  },
  {
   "cell_type": "code",
   "execution_count": null,
   "id": "2ff13e82-8019-4600-8175-59a80b964cd0",
   "metadata": {},
   "outputs": [],
   "source": [
    "layer_config_bi_multi = {\n",
    "            \"layer0\": {\n",
    "                \"config\": {\n",
    "                    \"neurons\": 50,\n",
    "                    \"activation\": \"relu\",\n",
    "                    \"regularization\": 0.0,\n",
    "                    \"dropout\": 0.0,\n",
    "                }\n",
    "            },\n",
    "            \"layer1\": {\n",
    "                \"config\": {\n",
    "                    \"neurons\": 50,\n",
    "                    \"activation\": \"relu\",\n",
    "                    \"regularization\": 0.0,\n",
    "                }\n",
    "            },\n",
    "        }"
   ]
  },
  {
   "cell_type": "code",
   "execution_count": null,
   "id": "dffe2c60",
   "metadata": {},
   "outputs": [],
   "source": [
    "predictor = PureMulti(target = scaled_target, features = scaled_features)\n",
    "\n",
    "predictor.create_birnn(\n",
    "                        steps_past =  5,\n",
    "                        steps_future = 10, \n",
    "                        optimizer= 'adam',\n",
    "                        loss= 'mean_squared_error',\n",
    "                        metrics = 'mean_squared_error',\n",
    "                        layer_config = layer_config_bi_multi\n",
    "                       )\n",
    "predictor.fit_model(\n",
    "                     epochs = 2,\n",
    "                     show_progress= 1,\n",
    "                     validation_split = 0.20\n",
    "                    )"
   ]
  },
  {
   "cell_type": "code",
   "execution_count": null,
   "id": "de7cd6e8-ad03-45aa-88c4-5919cea673bb",
   "metadata": {},
   "outputs": [],
   "source": [
    "predictor.show_performance()"
   ]
  },
  {
   "cell_type": "code",
   "execution_count": null,
   "id": "ca35ee4b-0390-42c7-93f6-2515176068c3",
   "metadata": {},
   "outputs": [],
   "source": [
    "predictor.predict(scaled_features[-5:])"
   ]
  },
  {
   "cell_type": "code",
   "execution_count": null,
   "id": "4fbdc3c7-ca7a-446c-bb75-78befbf181ed",
   "metadata": {},
   "outputs": [],
   "source": [
    "predictor.model_blueprint()"
   ]
  },
  {
   "cell_type": "code",
   "execution_count": null,
   "id": "965a1aa2",
   "metadata": {},
   "outputs": [],
   "source": [
    "predictor.create_fit_birnn(steps_past =  5, steps_future = 10, epochs = 1)"
   ]
  },
  {
   "cell_type": "code",
   "execution_count": null,
   "id": "9ef3dd1d",
   "metadata": {},
   "outputs": [],
   "source": [
    "predictor = PureMulti( target = scaled_target, features = scaled_features)\n",
    "\n",
    "predictor.create_bilstm(\n",
    "                         steps_past =  3,\n",
    "                         steps_future = 10,\n",
    "                         optimizer= 'adam',\n",
    "                         loss= 'mean_squared_error',\n",
    "                         metrics = 'mean_squared_error',\n",
    "                         layer_config = layer_config_bi_multi\n",
    "                        )\n",
    "predictor.fit_model(\n",
    "                     epochs = 2,\n",
    "                     show_progress= 1,\n",
    "                     validation_split = 0.20\n",
    "                    )"
   ]
  },
  {
   "cell_type": "code",
   "execution_count": null,
   "id": "8c1b3627-b667-4cf3-b56f-bcbfa906a81f",
   "metadata": {},
   "outputs": [],
   "source": [
    "predictor.show_performance()"
   ]
  },
  {
   "cell_type": "code",
   "execution_count": null,
   "id": "ace5d823-70f9-42e3-a533-a284cb856d99",
   "metadata": {},
   "outputs": [],
   "source": [
    "predictor.predict(scaled_features[-3:])"
   ]
  },
  {
   "cell_type": "code",
   "execution_count": null,
   "id": "d571ce4e-50b7-4f5c-9187-be38cd169da1",
   "metadata": {},
   "outputs": [],
   "source": [
    "predictor.model_blueprint()"
   ]
  },
  {
   "cell_type": "code",
   "execution_count": null,
   "id": "220a27bf",
   "metadata": {},
   "outputs": [],
   "source": [
    "predictor.create_fit_bilstm(steps_past = 3, steps_future = 3, epochs = 1)"
   ]
  },
  {
   "cell_type": "code",
   "execution_count": null,
   "id": "10a2466d",
   "metadata": {},
   "outputs": [],
   "source": [
    "predictor = PureMulti(target = scaled_target, features = scaled_features)\n",
    "\n",
    "predictor.create_bigru(\n",
    "                        steps_past =  5,\n",
    "                        steps_future = 10,\n",
    "                        optimizer= 'adam',\n",
    "                        loss= 'mean_squared_error',\n",
    "                        metrics = 'mean_squared_error',\n",
    "                        layer_config = layer_config_bi_multi\n",
    "                       )\n",
    "predictor.fit_model(\n",
    "                     epochs = 7,\n",
    "                     show_progress= 1,\n",
    "                     validation_split = 0.20,\n",
    "                     monitor='val_loss',\n",
    "                     patience=1,\n",
    "                     min_delta = 0,\n",
    "                     verbose = 1\n",
    "                    )"
   ]
  },
  {
   "cell_type": "code",
   "execution_count": null,
   "id": "7d833af1-c7da-4023-855d-7b050a79f472",
   "metadata": {},
   "outputs": [],
   "source": [
    "predictor.show_performance()"
   ]
  },
  {
   "cell_type": "code",
   "execution_count": null,
   "id": "aca57733-4eb1-4d89-9094-de4a51351f3a",
   "metadata": {},
   "outputs": [],
   "source": [
    "predictor.predict(scaled_features[-5:])"
   ]
  },
  {
   "cell_type": "code",
   "execution_count": null,
   "id": "56a0fa40-9757-44a0-8b5f-313009ff2ea6",
   "metadata": {},
   "outputs": [],
   "source": [
    "predictor.model_blueprint()"
   ]
  },
  {
   "cell_type": "code",
   "execution_count": null,
   "id": "75b73383",
   "metadata": {},
   "outputs": [],
   "source": [
    "predictor.create_fit_bigru(steps_past =  5, steps_future = 10, epochs = 1)"
   ]
  },
  {
   "cell_type": "code",
   "execution_count": null,
   "id": "c9d3f62d-5cd5-40cf-9fb1-0114d6ac0b92",
   "metadata": {},
   "outputs": [],
   "source": [
    "predictor.predict(scaled_features[-5:])"
   ]
  },
  {
   "cell_type": "code",
   "execution_count": null,
   "id": "15f9930e",
   "metadata": {},
   "outputs": [],
   "source": [
    "predictor.freeze(\"test3.keras\")"
   ]
  },
  {
   "cell_type": "code",
   "execution_count": null,
   "id": "68bd4a24",
   "metadata": {},
   "outputs": [],
   "source": [
    "load = PureMulti()"
   ]
  },
  {
   "cell_type": "code",
   "execution_count": null,
   "id": "e860e0f4",
   "metadata": {},
   "outputs": [],
   "source": [
    "load.set_model_id('Loaded Model')"
   ]
  },
  {
   "cell_type": "code",
   "execution_count": null,
   "id": "13f7273e",
   "metadata": {},
   "outputs": [],
   "source": [
    "load.retrieve('test3.keras')"
   ]
  },
  {
   "cell_type": "code",
   "execution_count": null,
   "id": "b04f95c2",
   "metadata": {},
   "outputs": [],
   "source": [
    "load.predict(scaled_features[-10:])"
   ]
  },
  {
   "cell_type": "code",
   "execution_count": null,
   "id": "afa7f69b-391a-48e9-9bd5-afafb6809a10",
   "metadata": {},
   "outputs": [],
   "source": [
    "layer_config_bi_multi_flex = {\n",
    "            \"layer0\": {\n",
    "                \"config\": {\n",
    "                    \"neurons\": 100,\n",
    "                    \"activation\": \"relu\",\n",
    "                    \"regularization\": 0.02,\n",
    "                    \"dropout\": 0.1,\n",
    "                }\n",
    "            },\n",
    "            \"layer1\": {\n",
    "                \"config\": {\n",
    "                    \"neurons\": 50,\n",
    "                    \"activation\": \"relu\",\n",
    "                    \"regularization\": 0.02,\n",
    "                    \"dropout\": 0.1,\n",
    "                }\n",
    "            },\n",
    "            \"layer2\": {\n",
    "                \"config\": {\n",
    "                    \"neurons\": 25,\n",
    "                    \"activation\": \"relu\",\n",
    "                    \"regularization\": 0.0,\n",
    "                    \"dropout\": 0.0,\n",
    "                }\n",
    "            },\n",
    "            \"layer3\": {\n",
    "                \"config\": {\n",
    "                    \"neurons\": 10,\n",
    "                    \"activation\": \"relu\",\n",
    "                    \"regularization\": 0.0,\n",
    "                }\n",
    "            },\n",
    "        }"
   ]
  },
  {
   "cell_type": "code",
   "execution_count": null,
   "id": "2e632d06-c4cd-4f1d-b891-894f58dbe82b",
   "metadata": {},
   "outputs": [],
   "source": [
    "multibigruflex = PureMulti(target = scaled_target, features = scaled_features)"
   ]
  },
  {
   "cell_type": "code",
   "execution_count": null,
   "id": "7e5695be-7b80-4bf6-aa58-9ccde3be56d7",
   "metadata": {},
   "outputs": [],
   "source": [
    "multibigruflex.create_fit_bigru(\n",
    "        steps_past =  5,\n",
    "        steps_future = 10, \n",
    "        optimizer = \"adam\",\n",
    "        optimizer_args = None,\n",
    "        loss = \"mean_squared_error\",\n",
    "        metrics = \"mean_squared_error\",\n",
    "        bigru_block_one = 3,\n",
    "        gru_block_one = 1,\n",
    "        layer_config = layer_config_bi_multi_flex, \n",
    "        epochs = 3,\n",
    "        show_progress = 1,\n",
    "        validation_split = 0.20,\n",
    "        board = False\n",
    ")"
   ]
  },
  {
   "cell_type": "code",
   "execution_count": null,
   "id": "54cde543-b3d0-4453-a75e-712cf6453a85",
   "metadata": {},
   "outputs": [],
   "source": [
    "multibigruflex.model_blueprint()"
   ]
  },
  {
   "cell_type": "code",
   "execution_count": null,
   "id": "73c8a6a5-f3f2-4afc-8991-c90c8f8d384e",
   "metadata": {},
   "outputs": [],
   "source": [
    "multibigruflex.predict(scaled_features[-5:])"
   ]
  },
  {
   "cell_type": "markdown",
   "id": "2f584c78-ac95-4b33-95fb-830f2bdee9f6",
   "metadata": {},
   "source": [
    "## 4. Hybrid Multivariate Models - `HybridMulti` Class"
   ]
  },
  {
   "cell_type": "code",
   "execution_count": null,
   "id": "0691e553",
   "metadata": {},
   "outputs": [],
   "source": [
    "from imbrium import HybridMulti"
   ]
  },
  {
   "cell_type": "code",
   "execution_count": null,
   "id": "7b14bd96-87c2-4aec-81b0-10fd8b957ab8",
   "metadata": {},
   "outputs": [],
   "source": [
    "multi_hybrid_layer_config = {\n",
    "            \"layer0\": {\n",
    "                \"config\": {\n",
    "                    \"filters\": 64,\n",
    "                    \"kernel_size\": 1,\n",
    "                    \"activation\": \"relu\",\n",
    "                    \"regularization\": 0.0,\n",
    "                    \"dropout\": 0.0,\n",
    "                }\n",
    "            },\n",
    "            \"layer1\": {\n",
    "                \"config\": {\n",
    "                    \"filters\": 32,\n",
    "                    \"kernel_size\": 1,\n",
    "                    \"activation\": \"relu\",\n",
    "                    \"regularization\": 0.0,\n",
    "                    \"dropout\": 0.0,\n",
    "                }\n",
    "            },\n",
    "            \"layer2\": {\n",
    "                \"config\": {\n",
    "                    \"pool_size\": 2,\n",
    "                }\n",
    "            },\n",
    "            \"layer3\": {\n",
    "                \"config\": {\n",
    "                    \"neurons\": 32,\n",
    "                    \"activation\": \"relu\",\n",
    "                    \"regularization\": 0.0,\n",
    "                    \"dropout\": 0.0,\n",
    "                }\n",
    "            },\n",
    "            \"layer4\": {\n",
    "                \"config\": {\n",
    "                    \"neurons\": 32,\n",
    "                    \"activation\": \"relu\",\n",
    "                    \"regularization\": 0.0,\n",
    "                }\n",
    "            },\n",
    "        }"
   ]
  },
  {
   "cell_type": "code",
   "execution_count": null,
   "id": "2a1cc9c4",
   "metadata": {},
   "outputs": [],
   "source": [
    "predictor = HybridMulti(target = scaled_target, features = scaled_features)\n",
    "\n",
    "predictor.create_cnnrnn(\n",
    "                         sub_seq = 2,\n",
    "                         steps_past = 10,\n",
    "                         steps_future = 5,\n",
    "                         optimizer= 'adam',\n",
    "                         loss= 'mean_squared_error',\n",
    "                         metrics = 'mean_squared_error',\n",
    "                         layer_config = multi_hybrid_layer_config\n",
    "                        )\n",
    "predictor.fit_model(\n",
    "                     epochs = 3,\n",
    "                     show_progress= 1,\n",
    "                     validation_split = 0.20,\n",
    "                     monitor='val_loss',\n",
    "                     patience=1,\n",
    "                     min_delta = 0,\n",
    "                     verbose = 1,\n",
    "                     board = True\n",
    "                    )"
   ]
  },
  {
   "cell_type": "code",
   "execution_count": null,
   "id": "db92aa7f-f585-4724-b88e-9d43f459a8e3",
   "metadata": {},
   "outputs": [],
   "source": [
    "predictor.show_performance()"
   ]
  },
  {
   "cell_type": "code",
   "execution_count": null,
   "id": "e259b34a-8abb-4f14-a520-6e09ae7e267e",
   "metadata": {},
   "outputs": [],
   "source": [
    "predictor.predict(scaled_features[-10:])"
   ]
  },
  {
   "cell_type": "code",
   "execution_count": null,
   "id": "c47219e2-fadf-45a0-8008-6f89a8db49d2",
   "metadata": {},
   "outputs": [],
   "source": [
    "predictor.model_blueprint()"
   ]
  },
  {
   "cell_type": "code",
   "execution_count": null,
   "id": "1ed8a10d",
   "metadata": {},
   "outputs": [],
   "source": [
    "predictor.show_performance()"
   ]
  },
  {
   "cell_type": "code",
   "execution_count": null,
   "id": "8d8cb7da",
   "metadata": {},
   "outputs": [],
   "source": [
    "predictor.create_fit_cnnrnn(epochs=3, sub_seq=2, steps_past=20, steps_future=4)"
   ]
  },
  {
   "cell_type": "code",
   "execution_count": null,
   "id": "1b60acda-dbf6-4bf6-8f83-1c8cd9990752",
   "metadata": {},
   "outputs": [],
   "source": [
    "predictor.predict(scaled_features[-20:])"
   ]
  },
  {
   "cell_type": "code",
   "execution_count": null,
   "id": "abfbb52a-6d3e-4204-be57-f09148f313dd",
   "metadata": {},
   "outputs": [],
   "source": [
    "predictor.get_target_shape"
   ]
  },
  {
   "cell_type": "code",
   "execution_count": null,
   "id": "56a3cf97",
   "metadata": {},
   "outputs": [],
   "source": [
    "predictor = HybridMulti( target = scaled_target, features = scaled_features)\n",
    "\n",
    "predictor.create_cnnlstm(\n",
    "                          sub_seq = 2,\n",
    "                          steps_past = 10,\n",
    "                          steps_future = 5,\n",
    "                          optimizer= 'adam',\n",
    "                          loss= 'mean_squared_error',\n",
    "                          metrics = 'mean_squared_error',\n",
    "                          layer_config = multi_hybrid_layer_config\n",
    "                         )\n",
    "predictor.fit_model(\n",
    "                     epochs = 2,\n",
    "                     show_progress= 1,\n",
    "                     validation_split = 0.20\n",
    "                    )"
   ]
  },
  {
   "cell_type": "code",
   "execution_count": null,
   "id": "3f658dda-ddb1-4f64-86b1-f18f2fe0ab54",
   "metadata": {},
   "outputs": [],
   "source": [
    "predictor.show_performance()"
   ]
  },
  {
   "cell_type": "code",
   "execution_count": null,
   "id": "b9cbad8e-693d-49cc-99af-076e93643262",
   "metadata": {},
   "outputs": [],
   "source": [
    "predictor.predict(scaled_features[-10:])"
   ]
  },
  {
   "cell_type": "code",
   "execution_count": null,
   "id": "3ed9b0ae-a88c-4eb5-959f-1905062abe92",
   "metadata": {},
   "outputs": [],
   "source": [
    "predictor.model_blueprint()"
   ]
  },
  {
   "cell_type": "code",
   "execution_count": null,
   "id": "77de788b",
   "metadata": {},
   "outputs": [],
   "source": [
    "predictor.create_fit_cnnlstm(sub_seq = 2, steps_past = 10, steps_future = 5, epochs=1)"
   ]
  },
  {
   "cell_type": "code",
   "execution_count": null,
   "id": "a7b6b376",
   "metadata": {},
   "outputs": [],
   "source": [
    "predictor = HybridMulti(target = scaled_target, features = scaled_features)\n",
    "\n",
    "predictor.create_cnngru(\n",
    "                         sub_seq = 2,\n",
    "                         steps_past = 10,\n",
    "                         steps_future = 15,\n",
    "                         optimizer= 'adam',\n",
    "                         loss= 'mean_squared_error',\n",
    "                         metrics = 'mean_squared_error',\n",
    "                         layer_config = multi_hybrid_layer_config\n",
    "                        )\n",
    "predictor.fit_model(\n",
    "                     epochs = 10,\n",
    "                     show_progress= 1,\n",
    "                     validation_split = 0.20\n",
    "                    )"
   ]
  },
  {
   "cell_type": "code",
   "execution_count": null,
   "id": "f36d8b5c-8eb1-401e-a430-5c27e34d054e",
   "metadata": {},
   "outputs": [],
   "source": [
    "predictor.show_performance()"
   ]
  },
  {
   "cell_type": "code",
   "execution_count": null,
   "id": "209ab3b9-687a-4e01-a367-4a76cf800a26",
   "metadata": {},
   "outputs": [],
   "source": [
    "predictor.predict(scaled_features[-10:])"
   ]
  },
  {
   "cell_type": "code",
   "execution_count": null,
   "id": "26da48bd-36e6-41ad-ae41-6ebef64297ad",
   "metadata": {},
   "outputs": [],
   "source": [
    "predictor.model_blueprint()"
   ]
  },
  {
   "cell_type": "code",
   "execution_count": null,
   "id": "a47f0011",
   "metadata": {},
   "outputs": [],
   "source": [
    "predictor.create_fit_cnngru(sub_seq = 2, steps_past = 10, steps_future = 15, epochs=1)"
   ]
  },
  {
   "cell_type": "code",
   "execution_count": null,
   "id": "f96ab563",
   "metadata": {},
   "outputs": [],
   "source": [
    "predictor = HybridMulti(target = scaled_target, features = scaled_features)\n",
    "\n",
    "predictor.create_cnnbirnn(\n",
    "                           sub_seq = 2,\n",
    "                           steps_past = 10,\n",
    "                           steps_future = 5,\n",
    "                           optimizer= 'adam',\n",
    "                           loss= 'mean_squared_error',\n",
    "                           metrics = 'mean_squared_error',\n",
    "                           layer_config = multi_hybrid_layer_config)\n",
    "predictor.fit_model(\n",
    "                     epochs = 2,\n",
    "                     show_progress= 1,\n",
    "                     validation_split = 0.20\n",
    "                    )"
   ]
  },
  {
   "cell_type": "code",
   "execution_count": null,
   "id": "c797a32e-4fbf-4bef-b31a-52f2ef2d093f",
   "metadata": {},
   "outputs": [],
   "source": [
    "predictor.show_performance()"
   ]
  },
  {
   "cell_type": "code",
   "execution_count": null,
   "id": "e50a9139-9fbc-4782-9364-3e1831c27925",
   "metadata": {},
   "outputs": [],
   "source": [
    "predictor.predict(scaled_features[-10:])"
   ]
  },
  {
   "cell_type": "code",
   "execution_count": null,
   "id": "c55ffd34-39bf-4a71-95fc-cba8db012954",
   "metadata": {},
   "outputs": [],
   "source": [
    "predictor.model_blueprint()"
   ]
  },
  {
   "cell_type": "code",
   "execution_count": null,
   "id": "577e765f",
   "metadata": {},
   "outputs": [],
   "source": [
    "predictor.create_fit_cnnbirnn(sub_seq = 2, steps_past = 10, steps_future = 5, epochs=1)"
   ]
  },
  {
   "cell_type": "code",
   "execution_count": null,
   "id": "af047dd8",
   "metadata": {},
   "outputs": [],
   "source": [
    "predictor = HybridMulti( target = scaled_target, features = scaled_features)\n",
    "\n",
    "predictor.create_cnnbilstm(\n",
    "                            sub_seq = 2,\n",
    "                            steps_past = 10,\n",
    "                            steps_future = 5,\n",
    "                            optimizer= 'adam',\n",
    "                            loss= 'mean_squared_error',\n",
    "                            metrics = 'mean_squared_error',\n",
    "                            layer_config = multi_hybrid_layer_config\n",
    "                            )\n",
    "predictor.fit_model(\n",
    "                     epochs = 2,\n",
    "                     show_progress= 1,\n",
    "                     validation_split = 0.20\n",
    "                    )"
   ]
  },
  {
   "cell_type": "code",
   "execution_count": null,
   "id": "7aa6b203-0bf7-483b-8d3e-1265a44ada68",
   "metadata": {},
   "outputs": [],
   "source": [
    "predictor.show_performance()"
   ]
  },
  {
   "cell_type": "code",
   "execution_count": null,
   "id": "8b210086-96bb-4475-a2da-b4c188b16e83",
   "metadata": {},
   "outputs": [],
   "source": [
    "predictor.predict(scaled_features[-10:])"
   ]
  },
  {
   "cell_type": "code",
   "execution_count": null,
   "id": "75b76cfb-d3e4-4163-98a8-9dd213eeee7d",
   "metadata": {},
   "outputs": [],
   "source": [
    "predictor.model_blueprint()"
   ]
  },
  {
   "cell_type": "code",
   "execution_count": null,
   "id": "5588bcbe",
   "metadata": {},
   "outputs": [],
   "source": [
    "predictor.create_fit_cnnbilstm(sub_seq = 2, steps_past = 10, steps_future = 3, epochs=1)"
   ]
  },
  {
   "cell_type": "code",
   "execution_count": null,
   "id": "1274a3b0",
   "metadata": {},
   "outputs": [],
   "source": [
    "predictor = HybridMulti(target = scaled_target, features = scaled_features)\n",
    "\n",
    "predictor.create_cnnbigru(\n",
    "                           sub_seq = 2,\n",
    "                           steps_past = 10,\n",
    "                           steps_future = 5,\n",
    "                           optimizer= 'adam',\n",
    "                           loss= 'mean_squared_error',\n",
    "                           metrics = 'mean_squared_error',\n",
    "                           layer_config = multi_hybrid_layer_config\n",
    "                          )\n",
    "predictor.fit_model(epochs = 7,\n",
    "                     show_progress= 1,\n",
    "                     validation_split = 0.20,\n",
    "                     monitor='val_loss',\n",
    "                     patience=1,\n",
    "                     min_delta = 0,\n",
    "                     verbose = 1\n",
    "                    )"
   ]
  },
  {
   "cell_type": "code",
   "execution_count": null,
   "id": "0d819aa8-4eb7-40d0-ab6a-b33655de83e5",
   "metadata": {},
   "outputs": [],
   "source": [
    "predictor.show_performance()"
   ]
  },
  {
   "cell_type": "code",
   "execution_count": null,
   "id": "0ac2a6ba-06c6-4234-9980-75872c61b6b4",
   "metadata": {},
   "outputs": [],
   "source": [
    "predictor.predict(scaled_features[-10:])"
   ]
  },
  {
   "cell_type": "code",
   "execution_count": null,
   "id": "09bf7755-6346-4b7f-b2b4-79ea1ec76c3d",
   "metadata": {},
   "outputs": [],
   "source": [
    "predictor.model_blueprint()"
   ]
  },
  {
   "cell_type": "code",
   "execution_count": null,
   "id": "c21de320",
   "metadata": {},
   "outputs": [],
   "source": [
    "predictor.create_fit_cnnbigru(sub_seq = 2, steps_past = 10, steps_future = 5, epochs=1)"
   ]
  },
  {
   "cell_type": "code",
   "execution_count": null,
   "id": "14e7f869",
   "metadata": {},
   "outputs": [],
   "source": [
    "predictor.freeze(\"test4.keras\")"
   ]
  },
  {
   "cell_type": "code",
   "execution_count": null,
   "id": "0f790a79",
   "metadata": {},
   "outputs": [],
   "source": [
    "load = HybridMulti()"
   ]
  },
  {
   "cell_type": "code",
   "execution_count": null,
   "id": "62352b24",
   "metadata": {},
   "outputs": [],
   "source": [
    "load.set_model_id('Loaded Model')"
   ]
  },
  {
   "cell_type": "code",
   "execution_count": null,
   "id": "a114743b",
   "metadata": {},
   "outputs": [],
   "source": [
    "load.retrieve('test4.keras')"
   ]
  },
  {
   "cell_type": "code",
   "execution_count": null,
   "id": "99572fb4",
   "metadata": {},
   "outputs": [],
   "source": [
    "load.predict(scaled_features[-10:], sub_seq=2, steps_past=10, steps_future=4)"
   ]
  },
  {
   "cell_type": "code",
   "execution_count": null,
   "id": "ffa3bbb3-54c6-455d-af4b-4c710f41d984",
   "metadata": {},
   "outputs": [],
   "source": [
    "layer_config_cnnbigru_flex = {\n",
    "            \"layer0\": {\n",
    "                \"config\": {\n",
    "                    \"filters\": 64,\n",
    "                    \"kernel_size\": 1,\n",
    "                    \"activation\": \"relu\",\n",
    "                    \"regularization\": 0.0,\n",
    "                    \"dropout\": 0.0,\n",
    "                }\n",
    "            },\n",
    "            \"layer1\": {\n",
    "                \"config\": {\n",
    "                    \"filters\": 32,\n",
    "                    \"kernel_size\": 1,\n",
    "                    \"activation\": \"relu\",\n",
    "                    \"regularization\": 0.0,\n",
    "                    \"dropout\": 0.0,\n",
    "                }\n",
    "            },\n",
    "            \"layer2\": {\n",
    "                \"config\": {\n",
    "                    \"pool_size\": 2,\n",
    "                }\n",
    "            },\n",
    "            \"layer3\": {\n",
    "                \"config\": {\n",
    "                    \"neurons\": 32,\n",
    "                    \"activation\": \"relu\",\n",
    "                    \"regularization\": 0.02,\n",
    "                    \"dropout\": 0.0,\n",
    "                }\n",
    "            },\n",
    "            \"layer4\": {\n",
    "                \"config\": {\n",
    "                    \"neurons\": 16,\n",
    "                    \"activation\": \"relu\",\n",
    "                    \"regularization\": 0.02,\n",
    "                    \"dropout\": 0.0,\n",
    "                }\n",
    "            },\n",
    "            \"layer5\": {\n",
    "                \"config\": {\n",
    "                    \"neurons\": 32,\n",
    "                    \"activation\": \"relu\",\n",
    "                    \"regularization\": 0.0,\n",
    "                }\n",
    "            },\n",
    "        }"
   ]
  },
  {
   "cell_type": "code",
   "execution_count": null,
   "id": "5c05759d-ca9e-4c22-af3d-5e67b02db4c4",
   "metadata": {},
   "outputs": [],
   "source": [
    "multicnnbigruflex = HybridMulti(target = scaled_target, features = scaled_features)"
   ]
  },
  {
   "cell_type": "code",
   "execution_count": null,
   "id": "d69d11ad-a6c8-4b9a-8509-3521a2feba0a",
   "metadata": {},
   "outputs": [],
   "source": [
    "multicnnbigruflex.create_fit_cnnbigru(\n",
    "        sub_seq = 2,\n",
    "        steps_past = 10,\n",
    "        steps_future = 5,\n",
    "        optimizer = \"adam\",\n",
    "        optimizer_args = None,\n",
    "        loss = \"mean_squared_error\",\n",
    "        metrics = \"mean_squared_error\",\n",
    "        conv_block_one = 1,\n",
    "        conv_block_two = 1,\n",
    "        bigru_block_one = 2,\n",
    "        gru_block_one = 1,\n",
    "        layer_config = layer_config_cnnbigru_flex,\n",
    "        epochs = 3,\n",
    "        show_progress = 1,\n",
    "        validation_split = 0.20,\n",
    "        board = False,\n",
    ")"
   ]
  },
  {
   "cell_type": "code",
   "execution_count": null,
   "id": "3796d51a-18f2-45b8-89b0-404329c88cee",
   "metadata": {},
   "outputs": [],
   "source": [
    "multicnnbigruflex.model_blueprint()"
   ]
  },
  {
   "cell_type": "code",
   "execution_count": null,
   "id": "13499f67-0749-4320-9834-1bcd987ab8b8",
   "metadata": {},
   "outputs": [],
   "source": [
    "multicnnbigruflex.predict(scaled_features[-10:])"
   ]
  },
  {
   "cell_type": "markdown",
   "id": "b90b2764-7ef1-4baf-a00f-4c1882b4bddf",
   "metadata": {},
   "source": [
    "## `imbrium` v2.1.0 and Hyper Parameter Optimization with `optuna`"
   ]
  },
  {
   "cell_type": "code",
   "execution_count": null,
   "id": "33038a9b-dc5f-4eda-8134-15a3e5c60321",
   "metadata": {},
   "outputs": [],
   "source": [
    "import optuna\n",
    "\n",
    "predictor_instance = PureMulti(target = scaled_target, features = scaled_features)\n",
    "\n",
    "\n",
    "def objective(trial):\n",
    "\n",
    "    steps_past = trial.suggest_int('steps_past', 1, 30)\n",
    "    steps_future = trial.suggest_int('steps_future', 1, 30)\n",
    "    \n",
    "    \n",
    "    metric_value = predictor_instance.create_fit_mlp(\n",
    "        steps_past =  steps_past,\n",
    "        steps_future = steps_future,\n",
    "        loss='mean_squared_error',\n",
    "        metrics='mean_squared_error',\n",
    "        epochs=3,\n",
    "        show_progress=1,\n",
    "        validation_split=0.20,\n",
    "        board=False,\n",
    "        monitor='val_loss',\n",
    "        patience=1,\n",
    "        min_delta=0,\n",
    "        verbose=1\n",
    "    )\n",
    "\n",
    "    return metric_value\n",
    "\n",
    "study = optuna.create_study(direction='minimize')  \n",
    "study.optimize(objective, n_trials=10) "
   ]
  }
 ],
 "metadata": {
  "kernelspec": {
   "display_name": "Python 3 (ipykernel)",
   "language": "python",
   "name": "python3"
  },
  "language_info": {
   "codemirror_mode": {
    "name": "ipython",
    "version": 3
   },
   "file_extension": ".py",
   "mimetype": "text/x-python",
   "name": "python",
   "nbconvert_exporter": "python",
   "pygments_lexer": "ipython3",
   "version": "3.8.3"
  }
 },
 "nbformat": 4,
 "nbformat_minor": 5
}
