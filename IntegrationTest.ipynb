{
 "cells": [
  {
   "cell_type": "code",
   "execution_count": null,
   "id": "160e1442-3ae2-40a2-bb41-7ed44cdb2463",
   "metadata": {},
   "outputs": [],
   "source": [
    "%load_ext tensorboard"
   ]
  },
  {
   "cell_type": "code",
   "execution_count": null,
   "id": "78882399",
   "metadata": {},
   "outputs": [],
   "source": [
    "%tensorboard --logdir logs/fit"
   ]
  },
  {
   "cell_type": "code",
   "execution_count": null,
   "id": "8055a852-1f57-4706-ae51-6b4af5574201",
   "metadata": {},
   "outputs": [],
   "source": [
    "import os\n",
    "os.environ[\"KERAS_BACKEND\"] = \"torch\""
   ]
  },
  {
   "cell_type": "code",
   "execution_count": null,
   "id": "053456f6",
   "metadata": {},
   "outputs": [],
   "source": [
    "import imbrium\n",
    "import pandas as pd\n",
    "import numpy as np\n",
    "from sklearn.preprocessing import MinMaxScaler, StandardScaler\n",
    "\n",
    "imbrium.__version__"
   ]
  },
  {
   "cell_type": "code",
   "execution_count": null,
   "id": "3096e884",
   "metadata": {},
   "outputs": [],
   "source": [
    "# delete files in:  C:\\Users\\<UserName>\\AppData\\Local\\Temp\\.tensorboard-info\n",
    "#%load_ext tensorboard"
   ]
  },
  {
   "cell_type": "code",
   "execution_count": null,
   "id": "95ce476a",
   "metadata": {},
   "outputs": [],
   "source": [
    "from imbrium import PureUni"
   ]
  },
  {
   "cell_type": "code",
   "execution_count": null,
   "id": "00686259-4459-4cef-ad39-4cb2cc254aff",
   "metadata": {},
   "outputs": [],
   "source": [
    "example_data = pd.read_csv('example_dataset/AirQualityUCI.csv', delimiter=';')\n",
    "example_data.head()"
   ]
  },
  {
   "cell_type": "code",
   "execution_count": null,
   "id": "9880c648",
   "metadata": {},
   "outputs": [],
   "source": [
    "example_data = example_data[['CO(GT)', 'PT08.S1(CO)', 'NMHC(GT)', 'C6H6(GT)', 'PT08.S2(NMHC)']]"
   ]
  },
  {
   "cell_type": "code",
   "execution_count": null,
   "id": "d91f6fc9-a380-4f40-bcaf-a94ba2796a84",
   "metadata": {},
   "outputs": [],
   "source": [
    "example_data.isna().sum()"
   ]
  },
  {
   "cell_type": "code",
   "execution_count": null,
   "id": "201e56aa-2bf4-45a1-bcad-6f4dd4d4b3c1",
   "metadata": {},
   "outputs": [],
   "source": [
    "example_data = example_data.dropna()"
   ]
  },
  {
   "cell_type": "code",
   "execution_count": null,
   "id": "e524cedf-f5ba-4fde-a6d4-0806b494628c",
   "metadata": {},
   "outputs": [],
   "source": [
    "example_data.notna().sum()"
   ]
  },
  {
   "cell_type": "code",
   "execution_count": null,
   "id": "42695e0d-0838-4d79-91e0-7f2a63d91d74",
   "metadata": {},
   "outputs": [],
   "source": [
    "example_data = example_data.replace(\",\", \".\", regex = True).astype(\"float\")"
   ]
  },
  {
   "cell_type": "code",
   "execution_count": null,
   "id": "780deca2-ac69-4365-8d27-8a636baedc3b",
   "metadata": {},
   "outputs": [],
   "source": [
    "uni_var_data_example = pd.DataFrame(example_data['PT08.S1(CO)'])"
   ]
  },
  {
   "cell_type": "code",
   "execution_count": null,
   "id": "c267a618-bf73-4097-948c-988d8530ce2d",
   "metadata": {},
   "outputs": [],
   "source": [
    "uni_var_data_example.plot()"
   ]
  },
  {
   "cell_type": "code",
   "execution_count": null,
   "id": "47350fcb-68f0-4262-a46e-66adbb7b3252",
   "metadata": {},
   "outputs": [],
   "source": [
    "scaler = StandardScaler()\n",
    "\n",
    "# Fit and transform the data using the scaler\n",
    "normalized_uni_var_data_example = pd.DataFrame(scaler.fit_transform(uni_var_data_example))"
   ]
  },
  {
   "cell_type": "code",
   "execution_count": null,
   "id": "7d84702f-dc6c-4ab7-8c93-359381a820e8",
   "metadata": {},
   "outputs": [],
   "source": [
    "normalized_uni_var_data_example.plot()"
   ]
  },
  {
   "cell_type": "code",
   "execution_count": null,
   "id": "7e4157bc-1553-49fa-8a1a-9efec553251c",
   "metadata": {},
   "outputs": [],
   "source": [
    "normalized_uni_var_data_example = np.array(normalized_uni_var_data_example)\n",
    "normalized_uni_var_data_example"
   ]
  },
  {
   "cell_type": "markdown",
   "id": "d195024a",
   "metadata": {},
   "source": [
    "## UnivarMultiStep"
   ]
  },
  {
   "cell_type": "code",
   "execution_count": null,
   "id": "c885ca27-d50d-4f3d-8e32-d4cbba25459c",
   "metadata": {},
   "outputs": [],
   "source": [
    "layer_config = {\n",
    "   \"layer0\": {\"config\": {\"neurons\": 300, \"activation\": \"relu\", \"regularization\": 0.01, \"dropout\": 0.2}},\n",
    "   \"layer1\": {\"config\": {\"neurons\": 150, \"activation\": \"relu\", \"regularization\": 0.01, \"dropout\": 0.2}},\n",
    "   \"layer2\": {\"config\": {\"neurons\": 100, \"activation\": \"relu\", \"regularization\": 0.0}},\n",
    "\n",
    "}"
   ]
  },
  {
   "cell_type": "code",
   "execution_count": null,
   "id": "09148103",
   "metadata": {},
   "outputs": [],
   "source": [
    "predictor1 = PureUni(steps_past =  100, steps_future = 5, target = normalized_uni_var_data_example)\n",
    "\n",
    "predictor1.create_mlp(\n",
    "                      optimizer= 'adam',\n",
    "                      loss= 'mean_squared_error',\n",
    "                      metrics = 'mean_squared_error',\n",
    "                      dense_block_one = 1,\n",
    "                      dense_block_two = 1,\n",
    "                      dense_block_three = 1,\n",
    "                      layer_config = layer_config\n",
    "                     )"
   ]
  },
  {
   "cell_type": "code",
   "execution_count": null,
   "id": "5ffebf9d-1077-41b8-8f47-0683a6e4a7cf",
   "metadata": {},
   "outputs": [],
   "source": [
    "predictor1.fit_model(\n",
    "                     epochs = 5,\n",
    "                     show_progress= 1,\n",
    "                     validation_split = 0.20,\n",
    "                     board = False\n",
    "                    )"
   ]
  },
  {
   "cell_type": "code",
   "execution_count": null,
   "id": "10aa1073-80ec-4569-8d3f-04afcdbf1d5d",
   "metadata": {},
   "outputs": [],
   "source": [
    "predictor1.show_performance().history"
   ]
  },
  {
   "cell_type": "code",
   "execution_count": null,
   "id": "0a998712-2054-4824-8fd1-04ca604735df",
   "metadata": {},
   "outputs": [],
   "source": [
    "predictor1.predict(normalized_uni_var_data_example[-100:])"
   ]
  },
  {
   "cell_type": "code",
   "execution_count": null,
   "id": "6ff144a0-3e5f-469a-b601-c7e34304ff5a",
   "metadata": {},
   "outputs": [],
   "source": [
    "predictor1.model_blueprint()"
   ]
  },
  {
   "cell_type": "code",
   "execution_count": null,
   "id": "fd41ceb2",
   "metadata": {},
   "outputs": [],
   "source": [
    "predictor1.create_fit_mlp(epochs=1)"
   ]
  },
  {
   "cell_type": "code",
   "execution_count": null,
   "id": "fd46ad6d",
   "metadata": {},
   "outputs": [],
   "source": [
    "predictor2 = PureUni(steps_past =  5, steps_future = 10, target = normalized_uni_var_data_example)\n",
    "\n",
    "predictor2.create_rnn(\n",
    "                      optimizer = 'adam', \n",
    "                      loss = 'mean_squared_error', \n",
    "                      metrics = 'mean_squared_error',\n",
    "                      layer_config = layer_config\n",
    "                     )\n",
    "\n",
    "predictor2.fit_model(\n",
    "                     epochs = 7,\n",
    "                     show_progress= 1,\n",
    "                     validation_split = 0.20,\n",
    "                     monitor='val_loss',\n",
    "                     patience=1,\n",
    "                     min_delta = 0,\n",
    "                     verbose = 1\n",
    "                    )"
   ]
  },
  {
   "cell_type": "code",
   "execution_count": null,
   "id": "d18397d1-234b-4c3a-965c-7a3083d86022",
   "metadata": {},
   "outputs": [],
   "source": [
    "predictor2.show_performance()"
   ]
  },
  {
   "cell_type": "code",
   "execution_count": null,
   "id": "4125ad14-d512-4c48-8f2b-c4faa52225e8",
   "metadata": {},
   "outputs": [],
   "source": [
    "predictor2.predict(normalized_uni_var_data_example[-5:])"
   ]
  },
  {
   "cell_type": "code",
   "execution_count": null,
   "id": "eb1deb3e-3bca-46c8-b8f2-12f657093ccd",
   "metadata": {},
   "outputs": [],
   "source": [
    "predictor2.model_blueprint()"
   ]
  },
  {
   "cell_type": "code",
   "execution_count": null,
   "id": "b16eed7b",
   "metadata": {},
   "outputs": [],
   "source": [
    "predictor2.create_fit_rnn(epochs=1)"
   ]
  },
  {
   "cell_type": "code",
   "execution_count": null,
   "id": "43222c96",
   "metadata": {},
   "outputs": [],
   "source": [
    "predictor3 = PureUni(steps_past =  5, steps_future = 10, target = normalized_uni_var_data_example)\n",
    "\n",
    "predictor3.create_lstm(\n",
    "                       optimizer = 'adam',\n",
    "                       loss = 'mean_squared_error',\n",
    "                       metrics = 'mean_squared_error',\n",
    "                       layer_config = layer_config\n",
    "                      )\n",
    "\n",
    "predictor3.fit_model(\n",
    "                     epochs = 5,\n",
    "                     show_progress= 1,\n",
    "                     validation_split = 0.20\n",
    "                    )"
   ]
  },
  {
   "cell_type": "code",
   "execution_count": null,
   "id": "a4a5155b-6c8a-41cd-8a6e-832605986b26",
   "metadata": {},
   "outputs": [],
   "source": [
    "predictor3.show_performance()"
   ]
  },
  {
   "cell_type": "code",
   "execution_count": null,
   "id": "32db3565-dbe3-4231-9912-2d3324404dea",
   "metadata": {},
   "outputs": [],
   "source": [
    "predictor3.predict(normalized_uni_var_data_example[-5:])"
   ]
  },
  {
   "cell_type": "code",
   "execution_count": null,
   "id": "00409213-d546-4221-a62a-fdf69eba3fdf",
   "metadata": {},
   "outputs": [],
   "source": [
    "predictor3.model_blueprint()"
   ]
  },
  {
   "cell_type": "code",
   "execution_count": null,
   "id": "62b78fb7",
   "metadata": {},
   "outputs": [],
   "source": [
    "predictor3.show_performance()"
   ]
  },
  {
   "cell_type": "code",
   "execution_count": null,
   "id": "a0ec72cc",
   "metadata": {},
   "outputs": [],
   "source": [
    "predictor3.create_fit_lstm(epochs=1)"
   ]
  },
  {
   "cell_type": "code",
   "execution_count": null,
   "id": "bacd94a6",
   "metadata": {},
   "outputs": [],
   "source": [
    "predictor4 = PureUni(steps_past =  5, steps_future = 10, target = normalized_uni_var_data_example)\n",
    "\n",
    "predictor4.create_gru(\n",
    "                      optimizer = 'adam',\n",
    "                      loss = 'mean_squared_error',\n",
    "                      metrics = 'mean_squared_error',\n",
    "                      layer_config = layer_config\n",
    "                     )\n",
    "predictor4.fit_model(\n",
    "                     epochs = 2,\n",
    "                     show_progress= 1,\n",
    "                     validation_split = 0.20\n",
    "                    )"
   ]
  },
  {
   "cell_type": "code",
   "execution_count": null,
   "id": "c8173c4c-fc31-44b8-ae27-cf304b16c932",
   "metadata": {},
   "outputs": [],
   "source": [
    "predictor4.show_performance()"
   ]
  },
  {
   "cell_type": "code",
   "execution_count": null,
   "id": "f97a6975-90d9-4b2f-866c-57aaa2cb9d93",
   "metadata": {},
   "outputs": [],
   "source": [
    "predictor4.predict(normalized_uni_var_data_example[-5:])"
   ]
  },
  {
   "cell_type": "code",
   "execution_count": null,
   "id": "680cc453-bdb3-4c76-8f2b-afbce7ad94f8",
   "metadata": {},
   "outputs": [],
   "source": [
    "predictor4.model_blueprint()"
   ]
  },
  {
   "cell_type": "code",
   "execution_count": null,
   "id": "cb3baa3d",
   "metadata": {},
   "outputs": [],
   "source": [
    "predictor4.create_fit_gru(epochs=1)"
   ]
  },
  {
   "cell_type": "code",
   "execution_count": null,
   "id": "b355a3f2-8f8e-45b7-9d5b-71772a78aae0",
   "metadata": {},
   "outputs": [],
   "source": [
    "layer_config_cnn = {\n",
    "   \"layer0\": {\"config\": {\"filters\": 64, \"kernel_size\": 2, \"activation\": \"relu\", \"regularization\": 0.0, \"dropout\": 0.0}},\n",
    "   \"layer1\": {\"config\": {\"filters\": 100, \"kernel_size\": 2, \"activation\": \"relu\", \"regularization\": 0.0, \"dropout\": 0.0}},\n",
    "   \"layer2\": {\"config\": {\"pool_size\": 4}},\n",
    "   \"layer3\": {\"config\": {\"neurons\": 100, \"activation\": \"relu\", \"regularization\": 0.0}},\n",
    "\n",
    "}"
   ]
  },
  {
   "cell_type": "code",
   "execution_count": null,
   "id": "24620d03",
   "metadata": {},
   "outputs": [],
   "source": [
    "predictor5 = PureUni(steps_past =  16, steps_future = 10, target = normalized_uni_var_data_example)\n",
    "\n",
    "predictor5.create_cnn(\n",
    "                      optimizer = 'adam',\n",
    "                      loss = 'mean_squared_error',\n",
    "                      metrics = 'mean_squared_error',\n",
    "                      layer_config = layer_config_cnn\n",
    "                     )\n",
    "\n",
    "predictor5.fit_model(\n",
    "                     epochs = 2,\n",
    "                     show_progress= 1,\n",
    "                     validation_split = 0.20\n",
    "                    )"
   ]
  },
  {
   "cell_type": "code",
   "execution_count": null,
   "id": "1687b1d4-3886-4cbc-872f-094a25550f12",
   "metadata": {},
   "outputs": [],
   "source": [
    "predictor5.show_performance()"
   ]
  },
  {
   "cell_type": "code",
   "execution_count": null,
   "id": "3151304a-75df-4469-863e-27fae71343af",
   "metadata": {},
   "outputs": [],
   "source": [
    "predictor5.predict(normalized_uni_var_data_example[-16:])"
   ]
  },
  {
   "cell_type": "code",
   "execution_count": null,
   "id": "d977d5fc-b840-4be1-be3a-3c2bcad4fd28",
   "metadata": {},
   "outputs": [],
   "source": [
    "predictor5.model_blueprint()"
   ]
  },
  {
   "cell_type": "code",
   "execution_count": null,
   "id": "a68b069e",
   "metadata": {},
   "outputs": [],
   "source": [
    "predictor5.create_fit_cnn(epochs=1)"
   ]
  },
  {
   "cell_type": "code",
   "execution_count": null,
   "id": "7b6b6ba6-dd8a-4f40-acbe-052ef35d7fa0",
   "metadata": {},
   "outputs": [],
   "source": [
    "layer_config_bi = {\n",
    "   \"layer0\": {\"config\": {\"neurons\": 50, \"activation\": \"relu\", \"regularization\": 0.0, \"dropout\": 0.0}},\n",
    "   \"layer1\": {\"config\": {\"neurons\": 50, \"activation\": \"relu\", \"regularization\": 0.0}},\n",
    "}"
   ]
  },
  {
   "cell_type": "code",
   "execution_count": null,
   "id": "ebf305cb",
   "metadata": {},
   "outputs": [],
   "source": [
    "predictor6 = PureUni(steps_past =  5, steps_future = 10, target = normalized_uni_var_data_example)\n",
    "\n",
    "predictor6.create_birnn(\n",
    "                        optimizer = 'adam',\n",
    "                        loss = 'mean_squared_error',\n",
    "                        metrics = 'mean_squared_error',\n",
    "                        layer_config = layer_config_bi\n",
    "                       )\n",
    "predictor6.fit_model(\n",
    "                     epochs = 2,\n",
    "                     show_progress= 1, \n",
    "                     validation_split = 0.20\n",
    "                    )"
   ]
  },
  {
   "cell_type": "code",
   "execution_count": null,
   "id": "a5aa3edb-90f7-44cb-b3d2-671fb36592c5",
   "metadata": {},
   "outputs": [],
   "source": [
    "predictor6.show_performance()"
   ]
  },
  {
   "cell_type": "code",
   "execution_count": null,
   "id": "b463c3d4-9799-451c-b861-26a0432d8acb",
   "metadata": {},
   "outputs": [],
   "source": [
    "predictor6.predict(normalized_uni_var_data_example[-5:])"
   ]
  },
  {
   "cell_type": "code",
   "execution_count": null,
   "id": "185168d9-e7e9-4310-ae5f-fece2ac757d4",
   "metadata": {},
   "outputs": [],
   "source": [
    "predictor6.model_blueprint()"
   ]
  },
  {
   "cell_type": "code",
   "execution_count": null,
   "id": "dee3408b",
   "metadata": {},
   "outputs": [],
   "source": [
    "predictor6.create_fit_birnn(epochs=1)"
   ]
  },
  {
   "cell_type": "code",
   "execution_count": null,
   "id": "2852b4be",
   "metadata": {},
   "outputs": [],
   "source": [
    "predictor7 = PureUni(steps_past =  5, steps_future = 10, target = normalized_uni_var_data_example)\n",
    "\n",
    "predictor7.create_bilstm(\n",
    "                         optimizer = 'adam',\n",
    "                         loss = 'mean_squared_error',\n",
    "                         metrics = 'mean_squared_error',\n",
    "                         layer_config = layer_config_bi\n",
    "                        )\n",
    "predictor7.fit_model(\n",
    "                     epochs = 7,\n",
    "                     show_progress= 1,\n",
    "                     validation_split = 0.20,\n",
    "                     monitor='val_loss',\n",
    "                     patience=1,\n",
    "                     min_delta = 0,\n",
    "                     verbose = 1\n",
    "                    )"
   ]
  },
  {
   "cell_type": "code",
   "execution_count": null,
   "id": "47d01010-62d3-480c-bf62-9680fca33094",
   "metadata": {},
   "outputs": [],
   "source": [
    "predictor7.show_performance()"
   ]
  },
  {
   "cell_type": "code",
   "execution_count": null,
   "id": "33dea9fe-0ca3-4bc7-8c26-026082b5f5fe",
   "metadata": {},
   "outputs": [],
   "source": [
    "predictor7.predict(normalized_uni_var_data_example[-5:])"
   ]
  },
  {
   "cell_type": "code",
   "execution_count": null,
   "id": "0b3b5cce-055e-4bc6-91b7-ee4a1c5d16c2",
   "metadata": {},
   "outputs": [],
   "source": [
    "predictor7.model_blueprint()"
   ]
  },
  {
   "cell_type": "code",
   "execution_count": null,
   "id": "d1bd80cd",
   "metadata": {},
   "outputs": [],
   "source": [
    "predictor7.create_fit_bilstm(epochs=1)"
   ]
  },
  {
   "cell_type": "code",
   "execution_count": null,
   "id": "436822cf",
   "metadata": {},
   "outputs": [],
   "source": [
    "predictor8 = PureUni(steps_past =  5, steps_future = 10, target = normalized_uni_var_data_example)\n",
    "\n",
    "predictor8.create_bigru(\n",
    "                        optimizer = 'adam',\n",
    "                        loss = 'mean_squared_error',\n",
    "                        metrics = 'mean_squared_error',\n",
    "                        layer_config = layer_config_bi\n",
    "                       )\n",
    "predictor8.fit_model(\n",
    "                     epochs = 2,\n",
    "                     show_progress= 1,\n",
    "                     validation_split = 0.20\n",
    "                    )"
   ]
  },
  {
   "cell_type": "code",
   "execution_count": null,
   "id": "42aaec6d-1e6c-48cd-9212-302ea57e7088",
   "metadata": {},
   "outputs": [],
   "source": [
    "predictor8.show_performance()"
   ]
  },
  {
   "cell_type": "code",
   "execution_count": null,
   "id": "811dddbc-6115-467d-a775-d3fbf90a052c",
   "metadata": {},
   "outputs": [],
   "source": [
    "predictor8.predict(normalized_uni_var_data_example[-5:])"
   ]
  },
  {
   "cell_type": "code",
   "execution_count": null,
   "id": "ed8ba358-d49a-4f8f-ab1d-08cd2a470916",
   "metadata": {},
   "outputs": [],
   "source": [
    "predictor8.model_blueprint()"
   ]
  },
  {
   "cell_type": "code",
   "execution_count": null,
   "id": "edf8ddea",
   "metadata": {},
   "outputs": [],
   "source": [
    "predictor8.create_fit_bigru(epochs=1)"
   ]
  },
  {
   "cell_type": "code",
   "execution_count": null,
   "id": "b3577acd",
   "metadata": {},
   "outputs": [],
   "source": [
    "predictor8.freeze(\"test1.keras\")"
   ]
  },
  {
   "cell_type": "code",
   "execution_count": null,
   "id": "f67b841e",
   "metadata": {},
   "outputs": [],
   "source": [
    "load = PureUni(steps_past =  5, steps_future = 10)"
   ]
  },
  {
   "cell_type": "code",
   "execution_count": null,
   "id": "a26a0034",
   "metadata": {},
   "outputs": [],
   "source": [
    "load.set_model_id('Loaded Model')"
   ]
  },
  {
   "cell_type": "code",
   "execution_count": null,
   "id": "0354c8f7",
   "metadata": {},
   "outputs": [],
   "source": [
    "load.retrieve('test1.keras')"
   ]
  },
  {
   "cell_type": "code",
   "execution_count": null,
   "id": "9e9ee4d4",
   "metadata": {},
   "outputs": [],
   "source": [
    "load.predict(normalized_uni_var_data_example[-5:])"
   ]
  },
  {
   "cell_type": "markdown",
   "id": "de935475",
   "metadata": {},
   "source": [
    "### HybridUni"
   ]
  },
  {
   "cell_type": "code",
   "execution_count": null,
   "id": "35821fde",
   "metadata": {},
   "outputs": [],
   "source": [
    "from imbrium import HybridUni"
   ]
  },
  {
   "cell_type": "code",
   "execution_count": null,
   "id": "f2cd10be-27eb-42db-b2a6-d7b05c582067",
   "metadata": {},
   "outputs": [],
   "source": [
    "layer_config_cnn_hybrid = {\n",
    "            \"layer0\": {\n",
    "                \"config\": {\n",
    "                    \"filters\": 64,\n",
    "                    \"kernel_size\": 1,\n",
    "                    \"activation\": \"relu\",\n",
    "                    \"regularization\": 0.0,\n",
    "                    \"dropout\": 0.0,\n",
    "                }\n",
    "            },\n",
    "            \"layer1\": {\n",
    "                \"config\": {\n",
    "                    \"filters\": 32,\n",
    "                    \"kernel_size\": 1,\n",
    "                    \"activation\": \"relu\",\n",
    "                    \"regularization\": 0.0,\n",
    "                    \"dropout\": 0.0,\n",
    "                }\n",
    "            },\n",
    "            \"layer2\": {\n",
    "                \"config\": {\n",
    "                    \"pool_size\": 2,\n",
    "                }\n",
    "            },\n",
    "            \"layer3\": {\n",
    "                \"config\": {\n",
    "                    \"neurons\": 32,\n",
    "                    \"activation\": \"relu\",\n",
    "                    \"regularization\": 0.0,\n",
    "                    \"dropout\": 0.0,\n",
    "                }\n",
    "            },\n",
    "            \"layer4\": {\n",
    "                \"config\": {\n",
    "                    \"neurons\": 32,\n",
    "                    \"activation\": \"relu\",\n",
    "                    \"regularization\": 0.0,\n",
    "                }\n",
    "            },\n",
    "        }"
   ]
  },
  {
   "cell_type": "code",
   "execution_count": null,
   "id": "973edbff",
   "metadata": {},
   "outputs": [],
   "source": [
    "predictor1 = HybridUni(sub_seq = 2, steps_past = 10, steps_future = 5, target = normalized_uni_var_data_example)\n",
    "\n",
    "predictor1.create_cnnrnn(\n",
    "                         optimizer= 'adam',\n",
    "                         loss= 'mean_squared_error',\n",
    "                         metrics = 'mean_squared_error', \n",
    "                         conv_block_one = 1,\n",
    "                         conv_block_two = 1,\n",
    "                         rnn_block_one = 1,\n",
    "                         rnn_block_two = 1,\n",
    "                         layer_config = layer_config_cnn_hybrid\n",
    "                        )\n",
    "predictor1.fit_model(\n",
    "                     epochs = 3,\n",
    "                     show_progress= 1,\n",
    "                     validation_split = 0.20,\n",
    "                     board = True\n",
    "                     )"
   ]
  },
  {
   "cell_type": "code",
   "execution_count": null,
   "id": "bf27391d-7a30-4644-bb48-8856a250cf6f",
   "metadata": {},
   "outputs": [],
   "source": [
    "predictor1.show_performance().history"
   ]
  },
  {
   "cell_type": "code",
   "execution_count": null,
   "id": "cd1edd6b-82f7-4b96-aee8-28970232643f",
   "metadata": {},
   "outputs": [],
   "source": [
    "predictor1.predict(normalized_uni_var_data_example[-10:])"
   ]
  },
  {
   "cell_type": "code",
   "execution_count": null,
   "id": "1e586ec6-4ef1-4ecd-8307-7646338dcb75",
   "metadata": {},
   "outputs": [],
   "source": [
    "predictor1.model_blueprint()"
   ]
  },
  {
   "cell_type": "code",
   "execution_count": null,
   "id": "7101762d",
   "metadata": {},
   "outputs": [],
   "source": [
    "predictor1.create_fit_cnnrnn(epochs=1)"
   ]
  },
  {
   "cell_type": "code",
   "execution_count": null,
   "id": "5f13af63-5e71-4f3c-a3fc-31bc4d7f3244",
   "metadata": {},
   "outputs": [],
   "source": [
    "predictor1.show_performance().history"
   ]
  },
  {
   "cell_type": "code",
   "execution_count": null,
   "id": "f51dbd2f",
   "metadata": {},
   "outputs": [],
   "source": [
    "predictor1 = HybridUni(sub_seq = 8, steps_past = 16, steps_future = 8, target = normalized_uni_var_data_example)\n",
    "\n",
    "predictor1.create_cnnlstm(\n",
    "                          optimizer= 'adam',\n",
    "                          loss= 'mean_squared_error',\n",
    "                          metrics = 'mean_squared_error',\n",
    "                          layer_config = layer_config_cnn_hybrid\n",
    "                         )\n",
    "predictor1.fit_model(\n",
    "                     epochs = 7,\n",
    "                     show_progress= 1,\n",
    "                     validation_split = 0.20,\n",
    "                     monitor='val_loss',\n",
    "                     patience=1,\n",
    "                     min_delta = 0,\n",
    "                     verbose = 1\n",
    "                    )"
   ]
  },
  {
   "cell_type": "code",
   "execution_count": null,
   "id": "22544f84-8252-4aa9-a519-0f29c46ab5a7",
   "metadata": {},
   "outputs": [],
   "source": [
    "predictor1.show_performance()"
   ]
  },
  {
   "cell_type": "code",
   "execution_count": null,
   "id": "ab02fe0f-6eda-4dcb-896d-141515ed2c0a",
   "metadata": {},
   "outputs": [],
   "source": [
    "predictor1.predict(normalized_uni_var_data_example[-16:])"
   ]
  },
  {
   "cell_type": "code",
   "execution_count": null,
   "id": "aa6db30d-f5b9-4ae8-9715-1ba2abb6c4e6",
   "metadata": {},
   "outputs": [],
   "source": [
    "predictor1.model_blueprint()"
   ]
  },
  {
   "cell_type": "code",
   "execution_count": null,
   "id": "18e13244",
   "metadata": {},
   "outputs": [],
   "source": [
    "predictor1.create_fit_cnnlstm(epochs=1)"
   ]
  },
  {
   "cell_type": "code",
   "execution_count": null,
   "id": "b3f0ef96",
   "metadata": {},
   "outputs": [],
   "source": [
    "predictor1 = HybridUni(sub_seq = 2, steps_past = 10, steps_future = 5, target = normalized_uni_var_data_example)\n",
    "\n",
    "predictor1.create_cnngru(\n",
    "                         optimizer= 'adam',\n",
    "                         loss= 'mean_squared_error',\n",
    "                         metrics = 'mean_squared_error',\n",
    "                         layer_config = layer_config_cnn_hybrid\n",
    "                        )\n",
    "predictor1.fit_model(\n",
    "                     epochs = 5,\n",
    "                     show_progress= 1,\n",
    "                     validation_split = 0.20\n",
    "                    )"
   ]
  },
  {
   "cell_type": "code",
   "execution_count": null,
   "id": "1d203a36-81aa-4457-ac39-b5ad7f98eaa0",
   "metadata": {},
   "outputs": [],
   "source": [
    "predictor1.show_performance()"
   ]
  },
  {
   "cell_type": "code",
   "execution_count": null,
   "id": "eafba8e2-f66f-44aa-ac6a-f0d2b20c62e2",
   "metadata": {},
   "outputs": [],
   "source": [
    "predictor1.predict(normalized_uni_var_data_example[-10:])"
   ]
  },
  {
   "cell_type": "code",
   "execution_count": null,
   "id": "90c02e65-508f-4a28-ac3c-5c3ad215dd97",
   "metadata": {},
   "outputs": [],
   "source": [
    "predictor1.model_blueprint()"
   ]
  },
  {
   "cell_type": "code",
   "execution_count": null,
   "id": "03cfbcd4",
   "metadata": {},
   "outputs": [],
   "source": [
    "predictor1.create_fit_cnngru(epochs=1)"
   ]
  },
  {
   "cell_type": "code",
   "execution_count": null,
   "id": "7ea9132f-3b10-4525-8112-5bda859978fe",
   "metadata": {},
   "outputs": [],
   "source": [
    "layer_config_bicnn_hybrid = {\n",
    "            \"layer0\": {\n",
    "                \"config\": {\n",
    "                    \"filters\": 64,\n",
    "                    \"kernel_size\": 1,\n",
    "                    \"activation\": \"relu\",\n",
    "                    \"regularization\": 0.0,\n",
    "                    \"dropout\": 0.0,\n",
    "                }\n",
    "            },\n",
    "            \"layer1\": {\n",
    "                \"config\": {\n",
    "                    \"filters\": 32,\n",
    "                    \"kernel_size\": 1,\n",
    "                    \"activation\": \"relu\",\n",
    "                    \"regularization\": 0.0,\n",
    "                    \"dropout\": 0.0,\n",
    "                }\n",
    "            },\n",
    "            \"layer2\": {\n",
    "                \"config\": {\n",
    "                    \"pool_size\": 2,\n",
    "                }\n",
    "            },\n",
    "            \"layer3\": {\n",
    "                \"config\": {\n",
    "                    \"neurons\": 32,\n",
    "                    \"activation\": \"relu\",\n",
    "                    \"regularization\": 0.0,\n",
    "                    \"dropout\": 0.0,\n",
    "                }\n",
    "            },\n",
    "            \"layer4\": {\n",
    "                \"config\": {\n",
    "                    \"neurons\": 32,\n",
    "                    \"activation\": \"relu\",\n",
    "                    \"regularization\": 0.0,\n",
    "                }\n",
    "            },\n",
    "        }"
   ]
  },
  {
   "cell_type": "code",
   "execution_count": null,
   "id": "05d4c353",
   "metadata": {},
   "outputs": [],
   "source": [
    "predictor1 = HybridUni(sub_seq = 2, steps_past = 10, steps_future = 5, target = normalized_uni_var_data_example)\n",
    "\n",
    "predictor1.create_cnnbirnn(\n",
    "                           optimizer= 'adam',\n",
    "                           loss= 'mean_squared_error',\n",
    "                           metrics = 'mean_squared_error',\n",
    "                           layer_config =  layer_config_bicnn_hybrid\n",
    "                          )\n",
    "predictor1.fit_model(\n",
    "                     epochs = 2,\n",
    "                     show_progress= 1,\n",
    "                     validation_split = 0.20\n",
    "                    )"
   ]
  },
  {
   "cell_type": "code",
   "execution_count": null,
   "id": "6b502d9a-bc83-4000-a40f-18eeca0619dc",
   "metadata": {},
   "outputs": [],
   "source": [
    "predictor1.show_performance()"
   ]
  },
  {
   "cell_type": "code",
   "execution_count": null,
   "id": "20688736-22cb-4360-94f4-eb838c03742c",
   "metadata": {},
   "outputs": [],
   "source": [
    "predictor1.predict(normalized_uni_var_data_example[-10:])"
   ]
  },
  {
   "cell_type": "code",
   "execution_count": null,
   "id": "e902e255-ce50-432d-87a6-6e04a6e6c1b6",
   "metadata": {},
   "outputs": [],
   "source": [
    "predictor1.model_blueprint()"
   ]
  },
  {
   "cell_type": "code",
   "execution_count": null,
   "id": "a1984cce",
   "metadata": {},
   "outputs": [],
   "source": [
    "predictor1.create_fit_cnnbirnn(epochs=1)"
   ]
  },
  {
   "cell_type": "code",
   "execution_count": null,
   "id": "f858b5c3",
   "metadata": {},
   "outputs": [],
   "source": [
    "predictor1 = HybridUni(sub_seq = 2, steps_past = 10, steps_future = 5, target = normalized_uni_var_data_example)\n",
    "\n",
    "predictor1.create_cnnbilstm(\n",
    "                            optimizer= 'adam',\n",
    "                            loss= 'mean_squared_error',\n",
    "                            metrics = 'mean_squared_error',\n",
    "                            layer_config = layer_config_bicnn_hybrid\n",
    "                           )\n",
    "predictor1.fit_model(\n",
    "                     epochs = 2,\n",
    "                     show_progress= 1,\n",
    "                     validation_split = 0.20\n",
    "                    )"
   ]
  },
  {
   "cell_type": "code",
   "execution_count": null,
   "id": "7f1a2142-4531-4922-938c-a21fd3dd0682",
   "metadata": {},
   "outputs": [],
   "source": [
    "predictor1.show_performance()"
   ]
  },
  {
   "cell_type": "code",
   "execution_count": null,
   "id": "7aec746c-85a8-45ea-8b91-f3df3bfde406",
   "metadata": {},
   "outputs": [],
   "source": [
    "predictor1.predict(normalized_uni_var_data_example[-10:])"
   ]
  },
  {
   "cell_type": "code",
   "execution_count": null,
   "id": "cee26757-b545-4e12-ba4f-9e9afab3735c",
   "metadata": {},
   "outputs": [],
   "source": [
    "predictor1.model_blueprint()"
   ]
  },
  {
   "cell_type": "code",
   "execution_count": null,
   "id": "985f7e5f",
   "metadata": {},
   "outputs": [],
   "source": [
    "predictor1.create_fit_cnnbilstm(epochs=1)"
   ]
  },
  {
   "cell_type": "code",
   "execution_count": null,
   "id": "b4a7520b",
   "metadata": {},
   "outputs": [],
   "source": [
    "predictor1 = HybridUni(sub_seq = 2, steps_past = 10, steps_future = 5, target = normalized_uni_var_data_example)\n",
    "\n",
    "predictor1.create_cnnbigru(\n",
    "                           optimizer= 'adam',\n",
    "                           loss= 'mean_squared_error',\n",
    "                           metrics = 'mean_squared_error',\n",
    "                           layer_config = layer_config_bicnn_hybrid\n",
    "                          )\n",
    "predictor1.fit_model(\n",
    "                     epochs = 7,\n",
    "                     show_progress= 1,\n",
    "                     validation_split = 0.20,\n",
    "                     monitor='val_loss',\n",
    "                     patience=1,\n",
    "                     min_delta = 0,\n",
    "                     verbose = 1\n",
    "                    )"
   ]
  },
  {
   "cell_type": "code",
   "execution_count": null,
   "id": "04b0ca60-98cf-44ea-a97a-079f23434aae",
   "metadata": {},
   "outputs": [],
   "source": [
    "predictor1.show_performance()"
   ]
  },
  {
   "cell_type": "code",
   "execution_count": null,
   "id": "b3603b45-b391-4fa8-9286-18a750cbae6c",
   "metadata": {},
   "outputs": [],
   "source": [
    "predictor1.predict(normalized_uni_var_data_example[-10:])"
   ]
  },
  {
   "cell_type": "code",
   "execution_count": null,
   "id": "a3465643-2894-42ab-badb-274cffd97854",
   "metadata": {},
   "outputs": [],
   "source": [
    "predictor1.model_blueprint()"
   ]
  },
  {
   "cell_type": "code",
   "execution_count": null,
   "id": "2f4e4653",
   "metadata": {},
   "outputs": [],
   "source": [
    "predictor1.create_fit_cnnbigru(epochs=1)"
   ]
  },
  {
   "cell_type": "code",
   "execution_count": null,
   "id": "2e5566fc",
   "metadata": {},
   "outputs": [],
   "source": [
    "predictor1.freeze(\"test2.keras\")"
   ]
  },
  {
   "cell_type": "code",
   "execution_count": null,
   "id": "fb0f96a2",
   "metadata": {},
   "outputs": [],
   "source": [
    "load = HybridUni(sub_seq = 2, steps_past =  10, steps_future = 5)"
   ]
  },
  {
   "cell_type": "code",
   "execution_count": null,
   "id": "0dd74b74",
   "metadata": {},
   "outputs": [],
   "source": [
    "load.set_model_id('Loaded Model')"
   ]
  },
  {
   "cell_type": "code",
   "execution_count": null,
   "id": "50da5e75",
   "metadata": {},
   "outputs": [],
   "source": [
    "load.retrieve('test2.keras')"
   ]
  },
  {
   "cell_type": "code",
   "execution_count": null,
   "id": "90377080",
   "metadata": {},
   "outputs": [],
   "source": [
    "load.predict(normalized_uni_var_data_example[-10:])"
   ]
  },
  {
   "cell_type": "markdown",
   "id": "6e7cb949",
   "metadata": {},
   "source": [
    "## MultiVarMultiStep"
   ]
  },
  {
   "cell_type": "code",
   "execution_count": null,
   "id": "4ecc907f",
   "metadata": {},
   "outputs": [],
   "source": [
    "from imbrium import PureMulti"
   ]
  },
  {
   "cell_type": "code",
   "execution_count": null,
   "id": "dbbd4b7b-ffa9-4a18-97ad-235952ed68c3",
   "metadata": {},
   "outputs": [],
   "source": [
    "target = np.array(example_data['PT08.S1(CO)']).reshape(-1, 1)"
   ]
  },
  {
   "cell_type": "code",
   "execution_count": null,
   "id": "36133417-be91-4932-8bd2-364f89977fdd",
   "metadata": {},
   "outputs": [],
   "source": [
    "target"
   ]
  },
  {
   "cell_type": "code",
   "execution_count": null,
   "id": "f1530371-692a-4cb9-8591-149f3792258c",
   "metadata": {},
   "outputs": [],
   "source": [
    "features = example_data[['CO(GT)', 'NMHC(GT)', 'C6H6(GT)', 'PT08.S2(NMHC)']]"
   ]
  },
  {
   "cell_type": "code",
   "execution_count": null,
   "id": "7422a391",
   "metadata": {},
   "outputs": [],
   "source": [
    "feature_scaler = MinMaxScaler()\n",
    "target_scaler = MinMaxScaler()\n",
    "\n",
    "# Scale the features and target separately\n",
    "scaled_features = feature_scaler.fit_transform(features)\n",
    "scaled_target = target_scaler.fit_transform(target)"
   ]
  },
  {
   "cell_type": "code",
   "execution_count": null,
   "id": "395a0a63-d292-43ca-8174-ad77df43673b",
   "metadata": {},
   "outputs": [],
   "source": [
    "layer_config_multi =  {\n",
    "            \"layer0\": {\n",
    "                \"config\": {\n",
    "                    \"neurons\": 50,\n",
    "                    \"activation\": \"relu\",\n",
    "                    \"regularization\": 0.0,\n",
    "                    \"dropout\": 0.0,\n",
    "                }\n",
    "            },\n",
    "            \"layer1\": {\n",
    "                \"config\": {\n",
    "                    \"neurons\": 50,\n",
    "                    \"activation\": \"relu\",\n",
    "                    \"regularization\": 0.0,\n",
    "                    \"dropout\": 0.0,\n",
    "                }\n",
    "            },\n",
    "            \"layer2\": {\n",
    "                \"config\": {\"neurons\": 50, \"activation\": \"relu\", \"regularization\": 0.0}\n",
    "            },\n",
    "        }"
   ]
  },
  {
   "cell_type": "code",
   "execution_count": null,
   "id": "74c699c9",
   "metadata": {},
   "outputs": [],
   "source": [
    "predictor1 = PureMulti(steps_past =  5, steps_future = 10, target = scaled_target, features = scaled_features)\n",
    "\n",
    "predictor1.create_mlp(\n",
    "                      optimizer= 'adam',\n",
    "                      loss= 'mean_squared_error',\n",
    "                      metrics = 'mean_squared_error',\n",
    "                      layer_config = layer_config_multi\n",
    "                     )\n",
    "predictor1.fit_model(\n",
    "                     epochs = 7,\n",
    "                     show_progress= 1,\n",
    "                     validation_split = 0.20,\n",
    "                     monitor='val_loss',\n",
    "                     patience=1,\n",
    "                     min_delta = 0,\n",
    "                     verbose = 1,\n",
    "                     board = True\n",
    "                    )"
   ]
  },
  {
   "cell_type": "code",
   "execution_count": null,
   "id": "f8c78526-5044-4964-8d9d-6dc7cae2331c",
   "metadata": {},
   "outputs": [],
   "source": [
    "predictor1.show_performance().history"
   ]
  },
  {
   "cell_type": "code",
   "execution_count": null,
   "id": "619b62c8-3088-4578-94a1-5710ca3d0a43",
   "metadata": {},
   "outputs": [],
   "source": [
    "predictor1.predict(scaled_features[-5:])"
   ]
  },
  {
   "cell_type": "code",
   "execution_count": null,
   "id": "f8bb265b-f0f8-42ff-9bf2-f0d738f50ce5",
   "metadata": {},
   "outputs": [],
   "source": [
    "predictor1.model_blueprint()"
   ]
  },
  {
   "cell_type": "code",
   "execution_count": null,
   "id": "f115a06f-2dee-4518-b42d-c372a6659d52",
   "metadata": {},
   "outputs": [],
   "source": [
    "predictor1.create_fit_mlp(epochs =3)"
   ]
  },
  {
   "cell_type": "code",
   "execution_count": null,
   "id": "f599236d-b315-4787-ac1c-ca3abdf8e5fc",
   "metadata": {},
   "outputs": [],
   "source": [
    "predictor1.predict(scaled_features[-5:])"
   ]
  },
  {
   "cell_type": "code",
   "execution_count": null,
   "id": "6196d250",
   "metadata": {},
   "outputs": [],
   "source": [
    "predictor1.show_performance()"
   ]
  },
  {
   "cell_type": "code",
   "execution_count": null,
   "id": "141ff4f7",
   "metadata": {},
   "outputs": [],
   "source": [
    "predictor1 = PureMulti(steps_past =  5, steps_future = 10, target = scaled_target, features = scaled_features)\n",
    "\n",
    "predictor1.create_rnn(\n",
    "                      optimizer= 'adam',\n",
    "                      loss= 'mean_squared_error',\n",
    "                      metrics = 'mean_squared_error',\n",
    "                      layer_config = layer_config_multi\n",
    "                     )\n",
    "predictor1.fit_model(epochs = 10,\n",
    "                     show_progress= 1,\n",
    "                     validation_split = 0.20\n",
    "                    )"
   ]
  },
  {
   "cell_type": "code",
   "execution_count": null,
   "id": "91ecdad4-a931-49d9-91bd-884bc393ee21",
   "metadata": {},
   "outputs": [],
   "source": [
    "predictor1.show_performance()"
   ]
  },
  {
   "cell_type": "code",
   "execution_count": null,
   "id": "cfc0f127-53df-4632-a044-ccde1a5b1ec9",
   "metadata": {},
   "outputs": [],
   "source": [
    "predictor1.predict(scaled_features[-5:])"
   ]
  },
  {
   "cell_type": "code",
   "execution_count": null,
   "id": "9b022c6f-5531-4dfb-adb6-647b5f9bf222",
   "metadata": {},
   "outputs": [],
   "source": [
    "predictor1.model_blueprint()"
   ]
  },
  {
   "cell_type": "code",
   "execution_count": null,
   "id": "5e86fbc1",
   "metadata": {},
   "outputs": [],
   "source": [
    "predictor1.create_fit_rnn(epochs = 1)"
   ]
  },
  {
   "cell_type": "code",
   "execution_count": null,
   "id": "292dadeb",
   "metadata": {},
   "outputs": [],
   "source": [
    "predictor1 = PureMulti(steps_past =  5, steps_future = 10, target = scaled_target, features = scaled_features)\n",
    "\n",
    "predictor1.create_lstm(\n",
    "                       optimizer= 'adam',\n",
    "                       loss= 'mean_squared_error',\n",
    "                       metrics = 'mean_squared_error',\n",
    "                       layer_config = layer_config_multi\n",
    "                      )\n",
    "predictor1.fit_model(\n",
    "                     epochs = 7,\n",
    "                     show_progress= 1,\n",
    "                     validation_split = 0.20,\n",
    "                     monitor='val_loss',\n",
    "                     patience=1,\n",
    "                     min_delta = 0,\n",
    "                     verbose = 1\n",
    "                    )"
   ]
  },
  {
   "cell_type": "code",
   "execution_count": null,
   "id": "23e769b1-e603-4d45-b001-34134464373c",
   "metadata": {},
   "outputs": [],
   "source": [
    "predictor1.show_performance()"
   ]
  },
  {
   "cell_type": "code",
   "execution_count": null,
   "id": "ce68f66e-d65b-465d-b520-a9cf5cc31d60",
   "metadata": {},
   "outputs": [],
   "source": [
    "predictor1.predict(scaled_features[-5:])"
   ]
  },
  {
   "cell_type": "code",
   "execution_count": null,
   "id": "7464988c-de41-4dc7-9f98-1fee879381b1",
   "metadata": {},
   "outputs": [],
   "source": [
    "predictor1.model_blueprint()"
   ]
  },
  {
   "cell_type": "code",
   "execution_count": null,
   "id": "8b559358",
   "metadata": {},
   "outputs": [],
   "source": [
    "predictor1.create_fit_lstm(epochs = 1)"
   ]
  },
  {
   "cell_type": "code",
   "execution_count": null,
   "id": "223a8c57-1f0d-45e9-8808-5d97a6238dc0",
   "metadata": {},
   "outputs": [],
   "source": [
    "layer_config_multi_cnn = {\n",
    "            \"layer0\": {\n",
    "                \"config\": {\n",
    "                    \"filters\": 64,\n",
    "                    \"kernel_size\": 1,\n",
    "                    \"activation\": \"relu\",\n",
    "                    \"regularization\": 0.0,\n",
    "                    \"dropout\": 0.0,\n",
    "                }\n",
    "            },\n",
    "            \"layer1\": {\n",
    "                \"config\": {\n",
    "                    \"filters\": 32,\n",
    "                    \"kernel_size\": 1,\n",
    "                    \"activation\": \"relu\",\n",
    "                    \"regularization\": 0.0,\n",
    "                    \"dropout\": 0.0,\n",
    "                }\n",
    "            },\n",
    "            \"layer2\": {\n",
    "                \"config\": {\n",
    "                    \"pool_size\": 2,\n",
    "                }\n",
    "            },\n",
    "            \"layer3\": {\n",
    "                \"config\": {\n",
    "                    \"neurons\": 32,\n",
    "                    \"activation\": \"relu\",\n",
    "                    \"regularization\": 0.0,\n",
    "                }\n",
    "            },\n",
    "        }"
   ]
  },
  {
   "cell_type": "code",
   "execution_count": null,
   "id": "2a4d7e24",
   "metadata": {},
   "outputs": [],
   "source": [
    "predictor1 = PureMulti(steps_past =  5, steps_future = 10, target = scaled_target, features = scaled_features)\n",
    "\n",
    "predictor1.create_cnn(\n",
    "                      optimizer= 'adam',\n",
    "                      loss= 'mean_squared_error',\n",
    "                      metrics = 'mean_squared_error',\n",
    "                      layer_config = layer_config_multi_cnn\n",
    "                     )\n",
    "predictor1.fit_model(\n",
    "                     epochs = 2,\n",
    "                     show_progress= 1,\n",
    "                     validation_split = 0.20\n",
    "                    )"
   ]
  },
  {
   "cell_type": "code",
   "execution_count": null,
   "id": "1a58b43e-11a3-4ca0-8b39-c90bed79b0ea",
   "metadata": {},
   "outputs": [],
   "source": [
    "predictor1.show_performance()"
   ]
  },
  {
   "cell_type": "code",
   "execution_count": null,
   "id": "a5bdc48c-4a85-451d-9ddf-c9f52f50f01e",
   "metadata": {},
   "outputs": [],
   "source": [
    "predictor1.predict(scaled_features[-5:])"
   ]
  },
  {
   "cell_type": "code",
   "execution_count": null,
   "id": "8bf49ab6-4bae-48d0-9d54-d0fa2aec4fde",
   "metadata": {},
   "outputs": [],
   "source": [
    "predictor1.model_blueprint()"
   ]
  },
  {
   "cell_type": "code",
   "execution_count": null,
   "id": "d8c4e22e",
   "metadata": {},
   "outputs": [],
   "source": [
    "predictor1.create_fit_cnn(epochs = 1)"
   ]
  },
  {
   "cell_type": "code",
   "execution_count": null,
   "id": "26c29d56",
   "metadata": {},
   "outputs": [],
   "source": [
    "predictor1 = PureMulti(steps_past =  5, steps_future = 10, target = scaled_target, features = scaled_features)\n",
    "\n",
    "predictor1.create_gru(optimizer= 'adam',\n",
    "                      loss= 'mean_squared_error',\n",
    "                      metrics = 'mean_squared_error', \n",
    "                      layer_config = layer_config_multi\n",
    "                     )\n",
    "predictor1.fit_model(epochs = 2,\n",
    "                     show_progress= 1,\n",
    "                     validation_split = 0.20\n",
    "                    )"
   ]
  },
  {
   "cell_type": "code",
   "execution_count": null,
   "id": "5fb008dc-8a46-4531-a540-cd05e877b5db",
   "metadata": {},
   "outputs": [],
   "source": [
    "predictor1.show_performance()"
   ]
  },
  {
   "cell_type": "code",
   "execution_count": null,
   "id": "4a863d41-8e88-4185-b7c1-a2e3506796bd",
   "metadata": {},
   "outputs": [],
   "source": [
    "predictor1.predict(scaled_features[-5:])"
   ]
  },
  {
   "cell_type": "code",
   "execution_count": null,
   "id": "5f16f75d-ff7f-4e0f-9b98-969c974348be",
   "metadata": {},
   "outputs": [],
   "source": [
    "predictor1.model_blueprint()"
   ]
  },
  {
   "cell_type": "code",
   "execution_count": null,
   "id": "9fda0f86",
   "metadata": {},
   "outputs": [],
   "source": [
    "predictor1.create_fit_gru(epochs = 1)"
   ]
  },
  {
   "cell_type": "code",
   "execution_count": null,
   "id": "2ff13e82-8019-4600-8175-59a80b964cd0",
   "metadata": {},
   "outputs": [],
   "source": [
    "layer_config_bi_multi = {\n",
    "            \"layer0\": {\n",
    "                \"config\": {\n",
    "                    \"neurons\": 50,\n",
    "                    \"activation\": \"relu\",\n",
    "                    \"regularization\": 0.0,\n",
    "                    \"dropout\": 0.0,\n",
    "                }\n",
    "            },\n",
    "            \"layer1\": {\n",
    "                \"config\": {\n",
    "                    \"neurons\": 50,\n",
    "                    \"activation\": \"relu\",\n",
    "                    \"regularization\": 0.0,\n",
    "                }\n",
    "            },\n",
    "        }"
   ]
  },
  {
   "cell_type": "code",
   "execution_count": null,
   "id": "dffe2c60",
   "metadata": {},
   "outputs": [],
   "source": [
    "predictor1 = PureMulti(steps_past =  5, steps_future = 10, target = scaled_target, features = scaled_features)\n",
    "\n",
    "predictor1.create_birnn(\n",
    "                        optimizer= 'adam',\n",
    "                        loss= 'mean_squared_error',\n",
    "                        metrics = 'mean_squared_error',\n",
    "                        layer_config = layer_config_bi_multi\n",
    "                       )\n",
    "predictor1.fit_model(\n",
    "                     epochs = 2,\n",
    "                     show_progress= 1,\n",
    "                     validation_split = 0.20\n",
    "                    )"
   ]
  },
  {
   "cell_type": "code",
   "execution_count": null,
   "id": "de7cd6e8-ad03-45aa-88c4-5919cea673bb",
   "metadata": {},
   "outputs": [],
   "source": [
    "predictor1.show_performance()"
   ]
  },
  {
   "cell_type": "code",
   "execution_count": null,
   "id": "ca35ee4b-0390-42c7-93f6-2515176068c3",
   "metadata": {},
   "outputs": [],
   "source": [
    "predictor1.predict(scaled_features[-5:])"
   ]
  },
  {
   "cell_type": "code",
   "execution_count": null,
   "id": "4fbdc3c7-ca7a-446c-bb75-78befbf181ed",
   "metadata": {},
   "outputs": [],
   "source": [
    "predictor1.model_blueprint()"
   ]
  },
  {
   "cell_type": "code",
   "execution_count": null,
   "id": "965a1aa2",
   "metadata": {},
   "outputs": [],
   "source": [
    "predictor1.create_fit_birnn(epochs = 1)"
   ]
  },
  {
   "cell_type": "code",
   "execution_count": null,
   "id": "9ef3dd1d",
   "metadata": {},
   "outputs": [],
   "source": [
    "predictor1 = PureMulti(steps_past =  3, steps_future = 10, target = scaled_target, features = scaled_features)\n",
    "\n",
    "predictor1.create_bilstm(\n",
    "                         optimizer= 'adam',\n",
    "                         loss= 'mean_squared_error',\n",
    "                         metrics = 'mean_squared_error',\n",
    "                         layer_config = layer_config_bi_multi\n",
    "                        )\n",
    "predictor1.fit_model(\n",
    "                     epochs = 2,\n",
    "                     show_progress= 1,\n",
    "                     validation_split = 0.20\n",
    "                    )"
   ]
  },
  {
   "cell_type": "code",
   "execution_count": null,
   "id": "8c1b3627-b667-4cf3-b56f-bcbfa906a81f",
   "metadata": {},
   "outputs": [],
   "source": [
    "predictor1.show_performance()"
   ]
  },
  {
   "cell_type": "code",
   "execution_count": null,
   "id": "ace5d823-70f9-42e3-a533-a284cb856d99",
   "metadata": {},
   "outputs": [],
   "source": [
    "predictor1.predict(scaled_features[-3:])"
   ]
  },
  {
   "cell_type": "code",
   "execution_count": null,
   "id": "d571ce4e-50b7-4f5c-9187-be38cd169da1",
   "metadata": {},
   "outputs": [],
   "source": [
    "predictor1.model_blueprint()"
   ]
  },
  {
   "cell_type": "code",
   "execution_count": null,
   "id": "220a27bf",
   "metadata": {},
   "outputs": [],
   "source": [
    "predictor1.create_fit_bilstm(epochs = 1)"
   ]
  },
  {
   "cell_type": "code",
   "execution_count": null,
   "id": "10a2466d",
   "metadata": {},
   "outputs": [],
   "source": [
    "predictor1 = PureMulti(steps_past =  5, steps_future = 10, target = scaled_target, features = scaled_features)\n",
    "\n",
    "predictor1.create_bigru(\n",
    "                        optimizer= 'adam',\n",
    "                        loss= 'mean_squared_error',\n",
    "                        metrics = 'mean_squared_error',\n",
    "                        layer_config = layer_config_bi_multi\n",
    "                       )\n",
    "predictor1.fit_model(\n",
    "                     epochs = 7,\n",
    "                     show_progress= 1,\n",
    "                     validation_split = 0.20,\n",
    "                     monitor='val_loss',\n",
    "                     patience=1,\n",
    "                     min_delta = 0,\n",
    "                     verbose = 1\n",
    "                    )"
   ]
  },
  {
   "cell_type": "code",
   "execution_count": null,
   "id": "7d833af1-c7da-4023-855d-7b050a79f472",
   "metadata": {},
   "outputs": [],
   "source": [
    "predictor1.show_performance()"
   ]
  },
  {
   "cell_type": "code",
   "execution_count": null,
   "id": "aca57733-4eb1-4d89-9094-de4a51351f3a",
   "metadata": {},
   "outputs": [],
   "source": [
    "predictor1.predict(scaled_features[-5:])"
   ]
  },
  {
   "cell_type": "code",
   "execution_count": null,
   "id": "56a0fa40-9757-44a0-8b5f-313009ff2ea6",
   "metadata": {},
   "outputs": [],
   "source": [
    "predictor1.model_blueprint()"
   ]
  },
  {
   "cell_type": "code",
   "execution_count": null,
   "id": "75b73383",
   "metadata": {},
   "outputs": [],
   "source": [
    "predictor1.create_fit_bigru(epochs = 1)"
   ]
  },
  {
   "cell_type": "code",
   "execution_count": null,
   "id": "c9d3f62d-5cd5-40cf-9fb1-0114d6ac0b92",
   "metadata": {},
   "outputs": [],
   "source": [
    "predictor1.predict(scaled_features[-5:])"
   ]
  },
  {
   "cell_type": "code",
   "execution_count": null,
   "id": "15f9930e",
   "metadata": {},
   "outputs": [],
   "source": [
    "predictor1.freeze(\"test3.keras\")"
   ]
  },
  {
   "cell_type": "code",
   "execution_count": null,
   "id": "68bd4a24",
   "metadata": {},
   "outputs": [],
   "source": [
    "load = PureMulti(steps_past =  5, steps_future = 10)"
   ]
  },
  {
   "cell_type": "code",
   "execution_count": null,
   "id": "e860e0f4",
   "metadata": {},
   "outputs": [],
   "source": [
    "load.set_model_id('Loaded Model')"
   ]
  },
  {
   "cell_type": "code",
   "execution_count": null,
   "id": "13f7273e",
   "metadata": {},
   "outputs": [],
   "source": [
    "load.retrieve('test3.keras')"
   ]
  },
  {
   "cell_type": "code",
   "execution_count": null,
   "id": "b04f95c2",
   "metadata": {},
   "outputs": [],
   "source": [
    "load.predict(scaled_features[-5:])"
   ]
  },
  {
   "cell_type": "code",
   "execution_count": null,
   "id": "0691e553",
   "metadata": {},
   "outputs": [],
   "source": [
    "from imbrium import HybridMulti"
   ]
  },
  {
   "cell_type": "code",
   "execution_count": null,
   "id": "7b14bd96-87c2-4aec-81b0-10fd8b957ab8",
   "metadata": {},
   "outputs": [],
   "source": [
    "multi_hybrid_layer_config = {\n",
    "            \"layer0\": {\n",
    "                \"config\": {\n",
    "                    \"filters\": 64,\n",
    "                    \"kernel_size\": 1,\n",
    "                    \"activation\": \"relu\",\n",
    "                    \"regularization\": 0.0,\n",
    "                    \"dropout\": 0.0,\n",
    "                }\n",
    "            },\n",
    "            \"layer1\": {\n",
    "                \"config\": {\n",
    "                    \"filters\": 32,\n",
    "                    \"kernel_size\": 1,\n",
    "                    \"activation\": \"relu\",\n",
    "                    \"regularization\": 0.0,\n",
    "                    \"dropout\": 0.0,\n",
    "                }\n",
    "            },\n",
    "            \"layer2\": {\n",
    "                \"config\": {\n",
    "                    \"pool_size\": 2,\n",
    "                }\n",
    "            },\n",
    "            \"layer3\": {\n",
    "                \"config\": {\n",
    "                    \"neurons\": 32,\n",
    "                    \"activation\": \"relu\",\n",
    "                    \"regularization\": 0.0,\n",
    "                    \"dropout\": 0.0,\n",
    "                }\n",
    "            },\n",
    "            \"layer4\": {\n",
    "                \"config\": {\n",
    "                    \"neurons\": 32,\n",
    "                    \"activation\": \"relu\",\n",
    "                    \"regularization\": 0.0,\n",
    "                }\n",
    "            },\n",
    "        }"
   ]
  },
  {
   "cell_type": "code",
   "execution_count": null,
   "id": "2a1cc9c4",
   "metadata": {},
   "outputs": [],
   "source": [
    "predictor1 = HybridMulti(sub_seq = 2, steps_past = 10, steps_future = 5,target = scaled_target, features = scaled_features)\n",
    "predictor1.create_cnnrnn(optimizer= 'adam',\n",
    "                         loss= 'mean_squared_error',\n",
    "                         metrics = 'mean_squared_error',\n",
    "                         layer_config = multi_hybrid_layer_config\n",
    "                        )\n",
    "predictor1.fit_model(\n",
    "                     epochs = 3,\n",
    "                     show_progress= 1,\n",
    "                     validation_split = 0.20,\n",
    "                     monitor='val_loss',\n",
    "                     patience=1,\n",
    "                     min_delta = 0,\n",
    "                     verbose = 1,\n",
    "                     board = True\n",
    "                    )"
   ]
  },
  {
   "cell_type": "code",
   "execution_count": null,
   "id": "db92aa7f-f585-4724-b88e-9d43f459a8e3",
   "metadata": {},
   "outputs": [],
   "source": [
    "predictor1.show_performance()"
   ]
  },
  {
   "cell_type": "code",
   "execution_count": null,
   "id": "e259b34a-8abb-4f14-a520-6e09ae7e267e",
   "metadata": {},
   "outputs": [],
   "source": [
    "predictor1.predict(scaled_features[-10:])"
   ]
  },
  {
   "cell_type": "code",
   "execution_count": null,
   "id": "c47219e2-fadf-45a0-8008-6f89a8db49d2",
   "metadata": {},
   "outputs": [],
   "source": [
    "predictor1.model_blueprint()"
   ]
  },
  {
   "cell_type": "code",
   "execution_count": null,
   "id": "1ed8a10d",
   "metadata": {},
   "outputs": [],
   "source": [
    "predictor1.show_performance()"
   ]
  },
  {
   "cell_type": "code",
   "execution_count": null,
   "id": "8d8cb7da",
   "metadata": {},
   "outputs": [],
   "source": [
    "predictor1.create_fit_cnnrnn(epochs=1)"
   ]
  },
  {
   "cell_type": "code",
   "execution_count": null,
   "id": "56a3cf97",
   "metadata": {},
   "outputs": [],
   "source": [
    "predictor1 = HybridMulti(sub_seq = 2, steps_past = 10, steps_future = 5, target = scaled_target, features = scaled_features)\n",
    "\n",
    "predictor1.create_cnnlstm(\n",
    "                          optimizer= 'adam',\n",
    "                          loss= 'mean_squared_error',\n",
    "                          metrics = 'mean_squared_error',\n",
    "                          layer_config = multi_hybrid_layer_config\n",
    "                         )\n",
    "predictor1.fit_model(\n",
    "                     epochs = 2,\n",
    "                     show_progress= 1,\n",
    "                     validation_split = 0.20\n",
    "                    )"
   ]
  },
  {
   "cell_type": "code",
   "execution_count": null,
   "id": "3f658dda-ddb1-4f64-86b1-f18f2fe0ab54",
   "metadata": {},
   "outputs": [],
   "source": [
    "predictor1.show_performance()"
   ]
  },
  {
   "cell_type": "code",
   "execution_count": null,
   "id": "b9cbad8e-693d-49cc-99af-076e93643262",
   "metadata": {},
   "outputs": [],
   "source": [
    "predictor1.predict(scaled_features[-10:])"
   ]
  },
  {
   "cell_type": "code",
   "execution_count": null,
   "id": "3ed9b0ae-a88c-4eb5-959f-1905062abe92",
   "metadata": {},
   "outputs": [],
   "source": [
    "predictor1.model_blueprint()"
   ]
  },
  {
   "cell_type": "code",
   "execution_count": null,
   "id": "77de788b",
   "metadata": {},
   "outputs": [],
   "source": [
    "predictor1.create_fit_cnnlstm(epochs=1)"
   ]
  },
  {
   "cell_type": "code",
   "execution_count": null,
   "id": "a7b6b376",
   "metadata": {},
   "outputs": [],
   "source": [
    "predictor1 = HybridMulti(sub_seq = 2, steps_past = 10, steps_future = 15, target = scaled_target, features = scaled_features)\n",
    "\n",
    "predictor1.create_cnngru(\n",
    "                         optimizer= 'adam',\n",
    "                         loss= 'mean_squared_error',\n",
    "                         metrics = 'mean_squared_error',\n",
    "                         layer_config = multi_hybrid_layer_config\n",
    "                        )\n",
    "predictor1.fit_model(\n",
    "                     epochs = 10,\n",
    "                     show_progress= 1,\n",
    "                     validation_split = 0.20\n",
    "                    )"
   ]
  },
  {
   "cell_type": "code",
   "execution_count": null,
   "id": "f36d8b5c-8eb1-401e-a430-5c27e34d054e",
   "metadata": {},
   "outputs": [],
   "source": [
    "predictor1.show_performance()"
   ]
  },
  {
   "cell_type": "code",
   "execution_count": null,
   "id": "209ab3b9-687a-4e01-a367-4a76cf800a26",
   "metadata": {},
   "outputs": [],
   "source": [
    "predictor1.predict(scaled_features[-10:])"
   ]
  },
  {
   "cell_type": "code",
   "execution_count": null,
   "id": "26da48bd-36e6-41ad-ae41-6ebef64297ad",
   "metadata": {},
   "outputs": [],
   "source": [
    "predictor1.model_blueprint()"
   ]
  },
  {
   "cell_type": "code",
   "execution_count": null,
   "id": "a47f0011",
   "metadata": {},
   "outputs": [],
   "source": [
    "predictor1.create_fit_cnngru(epochs=1)"
   ]
  },
  {
   "cell_type": "code",
   "execution_count": null,
   "id": "f96ab563",
   "metadata": {},
   "outputs": [],
   "source": [
    "predictor1 = HybridMulti(sub_seq = 2, steps_past = 10, steps_future = 5, target = scaled_target, features = scaled_features)\n",
    "\n",
    "predictor1.create_cnnbirnn(optimizer= 'adam',\n",
    "                           loss= 'mean_squared_error',\n",
    "                           metrics = 'mean_squared_error',\n",
    "                           layer_config = multi_hybrid_layer_config)\n",
    "predictor1.fit_model(\n",
    "                     epochs = 2,\n",
    "                     show_progress= 1,\n",
    "                     validation_split = 0.20\n",
    "                    )"
   ]
  },
  {
   "cell_type": "code",
   "execution_count": null,
   "id": "c797a32e-4fbf-4bef-b31a-52f2ef2d093f",
   "metadata": {},
   "outputs": [],
   "source": [
    "predictor1.show_performance()"
   ]
  },
  {
   "cell_type": "code",
   "execution_count": null,
   "id": "e50a9139-9fbc-4782-9364-3e1831c27925",
   "metadata": {},
   "outputs": [],
   "source": [
    "predictor1.predict(scaled_features[-10:])"
   ]
  },
  {
   "cell_type": "code",
   "execution_count": null,
   "id": "c55ffd34-39bf-4a71-95fc-cba8db012954",
   "metadata": {},
   "outputs": [],
   "source": [
    "predictor1.model_blueprint()"
   ]
  },
  {
   "cell_type": "code",
   "execution_count": null,
   "id": "577e765f",
   "metadata": {},
   "outputs": [],
   "source": [
    "predictor1.create_fit_cnnbirnn(epochs=1)"
   ]
  },
  {
   "cell_type": "code",
   "execution_count": null,
   "id": "af047dd8",
   "metadata": {},
   "outputs": [],
   "source": [
    "predictor1 = HybridMulti(sub_seq = 2, steps_past = 10, steps_future = 5, target = scaled_target, features = scaled_features)\n",
    "\n",
    "predictor1.create_cnnbilstm(\n",
    "                            optimizer= 'adam',\n",
    "                            loss= 'mean_squared_error',\n",
    "                            metrics = 'mean_squared_error',\n",
    "                            layer_config = multi_hybrid_layer_config\n",
    "                            )\n",
    "predictor1.fit_model(\n",
    "                     epochs = 2,\n",
    "                     show_progress= 1,\n",
    "                     validation_split = 0.20\n",
    "                    )"
   ]
  },
  {
   "cell_type": "code",
   "execution_count": null,
   "id": "7aa6b203-0bf7-483b-8d3e-1265a44ada68",
   "metadata": {},
   "outputs": [],
   "source": [
    "predictor1.show_performance()"
   ]
  },
  {
   "cell_type": "code",
   "execution_count": null,
   "id": "8b210086-96bb-4475-a2da-b4c188b16e83",
   "metadata": {},
   "outputs": [],
   "source": [
    "predictor1.predict(scaled_features[-10:])"
   ]
  },
  {
   "cell_type": "code",
   "execution_count": null,
   "id": "75b76cfb-d3e4-4163-98a8-9dd213eeee7d",
   "metadata": {},
   "outputs": [],
   "source": [
    "predictor1.model_blueprint()"
   ]
  },
  {
   "cell_type": "code",
   "execution_count": null,
   "id": "5588bcbe",
   "metadata": {},
   "outputs": [],
   "source": [
    "predictor1.create_fit_cnnbilstm(epochs=1)"
   ]
  },
  {
   "cell_type": "code",
   "execution_count": null,
   "id": "1274a3b0",
   "metadata": {},
   "outputs": [],
   "source": [
    "predictor1 = HybridMulti(sub_seq = 2, steps_past = 10, steps_future = 5, target = scaled_target, features = scaled_features)\n",
    "\n",
    "predictor1.create_cnnbigru(optimizer= 'adam',\n",
    "                           loss= 'mean_squared_error',\n",
    "                           metrics = 'mean_squared_error',\n",
    "                           layer_config = multi_hybrid_layer_config\n",
    "                          )\n",
    "predictor1.fit_model(epochs = 7,\n",
    "                     show_progress= 1,\n",
    "                     validation_split = 0.20,\n",
    "                     monitor='val_loss',\n",
    "                     patience=1,\n",
    "                     min_delta = 0,\n",
    "                     verbose = 1\n",
    "                    )"
   ]
  },
  {
   "cell_type": "code",
   "execution_count": null,
   "id": "0d819aa8-4eb7-40d0-ab6a-b33655de83e5",
   "metadata": {},
   "outputs": [],
   "source": [
    "predictor1.show_performance()"
   ]
  },
  {
   "cell_type": "code",
   "execution_count": null,
   "id": "0ac2a6ba-06c6-4234-9980-75872c61b6b4",
   "metadata": {},
   "outputs": [],
   "source": [
    "predictor1.predict(scaled_features[-10:])"
   ]
  },
  {
   "cell_type": "code",
   "execution_count": null,
   "id": "09bf7755-6346-4b7f-b2b4-79ea1ec76c3d",
   "metadata": {},
   "outputs": [],
   "source": [
    "predictor1.model_blueprint()"
   ]
  },
  {
   "cell_type": "code",
   "execution_count": null,
   "id": "c21de320",
   "metadata": {},
   "outputs": [],
   "source": [
    "predictor1.create_fit_cnnbigru(epochs=1)"
   ]
  },
  {
   "cell_type": "code",
   "execution_count": null,
   "id": "14e7f869",
   "metadata": {},
   "outputs": [],
   "source": [
    "predictor1.freeze(\"test4.keras\")"
   ]
  },
  {
   "cell_type": "code",
   "execution_count": null,
   "id": "0f790a79",
   "metadata": {},
   "outputs": [],
   "source": [
    "load = HybridMulti(sub_seq = 2, steps_past =  10, steps_future = 5)"
   ]
  },
  {
   "cell_type": "code",
   "execution_count": null,
   "id": "62352b24",
   "metadata": {},
   "outputs": [],
   "source": [
    "load.set_model_id('Loaded Model')"
   ]
  },
  {
   "cell_type": "code",
   "execution_count": null,
   "id": "a114743b",
   "metadata": {},
   "outputs": [],
   "source": [
    "load.retrieve('test4.keras')"
   ]
  },
  {
   "cell_type": "code",
   "execution_count": null,
   "id": "99572fb4",
   "metadata": {},
   "outputs": [],
   "source": [
    "predictor1.predict(scaled_features[-10:])"
   ]
  }
 ],
 "metadata": {
  "kernelspec": {
   "display_name": "Python 3 (ipykernel)",
   "language": "python",
   "name": "python3"
  },
  "language_info": {
   "codemirror_mode": {
    "name": "ipython",
    "version": 3
   },
   "file_extension": ".py",
   "mimetype": "text/x-python",
   "name": "python",
   "nbconvert_exporter": "python",
   "pygments_lexer": "ipython3",
   "version": "3.8.3"
  }
 },
 "nbformat": 4,
 "nbformat_minor": 5
}
