{
 "cells": [
  {
   "cell_type": "markdown",
   "id": "0c9ee1ce-e910-4e69-a76d-5105316edfef",
   "metadata": {},
   "source": [
    "# `imbrium` use case\n",
    "## Hyper parameter optimization - Bidirectional Long Short-term Neural Network\n",
    "\n",
    "### Multivariate pure forecasting\n",
    "\n",
    "##### Example Steps:\n",
    "\n",
    "- basic data preparation\n",
    "- scale target and feature numpy arrays\n",
    "- create imbrium bidirectional long short-term neural network\n",
    "- use optuna to perform hyper parameter optimzation on shifting window variables"
   ]
  },
  {
   "cell_type": "code",
   "execution_count": 1,
   "id": "c467c285-7bb8-4bd4-bf25-b54169269c01",
   "metadata": {},
   "outputs": [
    {
     "name": "stdout",
     "output_type": "stream",
     "text": [
      "imbrium version: 3.0.0 loaded\n"
     ]
    }
   ],
   "source": [
    "import imbrium\n",
    "import pandas as pd\n",
    "import numpy as np\n",
    "from sklearn.preprocessing import MinMaxScaler\n",
    "import optuna\n",
    "\n",
    "print(f\"imbrium version: {imbrium.__version__} loaded\")"
   ]
  },
  {
   "cell_type": "code",
   "execution_count": 2,
   "id": "fd4fe635-eecb-4790-8ef1-4e4564d65cd4",
   "metadata": {},
   "outputs": [
    {
     "data": {
      "text/html": [
       "<div>\n",
       "<style scoped>\n",
       "    .dataframe tbody tr th:only-of-type {\n",
       "        vertical-align: middle;\n",
       "    }\n",
       "\n",
       "    .dataframe tbody tr th {\n",
       "        vertical-align: top;\n",
       "    }\n",
       "\n",
       "    .dataframe thead th {\n",
       "        text-align: right;\n",
       "    }\n",
       "</style>\n",
       "<table border=\"1\" class=\"dataframe\">\n",
       "  <thead>\n",
       "    <tr style=\"text-align: right;\">\n",
       "      <th></th>\n",
       "      <th>Date</th>\n",
       "      <th>Time</th>\n",
       "      <th>CO(GT)</th>\n",
       "      <th>PT08.S1(CO)</th>\n",
       "      <th>NMHC(GT)</th>\n",
       "      <th>C6H6(GT)</th>\n",
       "      <th>PT08.S2(NMHC)</th>\n",
       "      <th>NOx(GT)</th>\n",
       "      <th>PT08.S3(NOx)</th>\n",
       "      <th>NO2(GT)</th>\n",
       "      <th>PT08.S4(NO2)</th>\n",
       "      <th>PT08.S5(O3)</th>\n",
       "      <th>T</th>\n",
       "      <th>RH</th>\n",
       "      <th>AH</th>\n",
       "      <th>Unnamed: 15</th>\n",
       "      <th>Unnamed: 16</th>\n",
       "    </tr>\n",
       "  </thead>\n",
       "  <tbody>\n",
       "    <tr>\n",
       "      <th>0</th>\n",
       "      <td>10/03/2004</td>\n",
       "      <td>18.00.00</td>\n",
       "      <td>2,6</td>\n",
       "      <td>1360.0</td>\n",
       "      <td>150.0</td>\n",
       "      <td>11,9</td>\n",
       "      <td>1046.0</td>\n",
       "      <td>166.0</td>\n",
       "      <td>1056.0</td>\n",
       "      <td>113.0</td>\n",
       "      <td>1692.0</td>\n",
       "      <td>1268.0</td>\n",
       "      <td>13,6</td>\n",
       "      <td>48,9</td>\n",
       "      <td>0,7578</td>\n",
       "      <td>NaN</td>\n",
       "      <td>NaN</td>\n",
       "    </tr>\n",
       "    <tr>\n",
       "      <th>1</th>\n",
       "      <td>10/03/2004</td>\n",
       "      <td>19.00.00</td>\n",
       "      <td>2</td>\n",
       "      <td>1292.0</td>\n",
       "      <td>112.0</td>\n",
       "      <td>9,4</td>\n",
       "      <td>955.0</td>\n",
       "      <td>103.0</td>\n",
       "      <td>1174.0</td>\n",
       "      <td>92.0</td>\n",
       "      <td>1559.0</td>\n",
       "      <td>972.0</td>\n",
       "      <td>13,3</td>\n",
       "      <td>47,7</td>\n",
       "      <td>0,7255</td>\n",
       "      <td>NaN</td>\n",
       "      <td>NaN</td>\n",
       "    </tr>\n",
       "    <tr>\n",
       "      <th>2</th>\n",
       "      <td>10/03/2004</td>\n",
       "      <td>20.00.00</td>\n",
       "      <td>2,2</td>\n",
       "      <td>1402.0</td>\n",
       "      <td>88.0</td>\n",
       "      <td>9,0</td>\n",
       "      <td>939.0</td>\n",
       "      <td>131.0</td>\n",
       "      <td>1140.0</td>\n",
       "      <td>114.0</td>\n",
       "      <td>1555.0</td>\n",
       "      <td>1074.0</td>\n",
       "      <td>11,9</td>\n",
       "      <td>54,0</td>\n",
       "      <td>0,7502</td>\n",
       "      <td>NaN</td>\n",
       "      <td>NaN</td>\n",
       "    </tr>\n",
       "    <tr>\n",
       "      <th>3</th>\n",
       "      <td>10/03/2004</td>\n",
       "      <td>21.00.00</td>\n",
       "      <td>2,2</td>\n",
       "      <td>1376.0</td>\n",
       "      <td>80.0</td>\n",
       "      <td>9,2</td>\n",
       "      <td>948.0</td>\n",
       "      <td>172.0</td>\n",
       "      <td>1092.0</td>\n",
       "      <td>122.0</td>\n",
       "      <td>1584.0</td>\n",
       "      <td>1203.0</td>\n",
       "      <td>11,0</td>\n",
       "      <td>60,0</td>\n",
       "      <td>0,7867</td>\n",
       "      <td>NaN</td>\n",
       "      <td>NaN</td>\n",
       "    </tr>\n",
       "    <tr>\n",
       "      <th>4</th>\n",
       "      <td>10/03/2004</td>\n",
       "      <td>22.00.00</td>\n",
       "      <td>1,6</td>\n",
       "      <td>1272.0</td>\n",
       "      <td>51.0</td>\n",
       "      <td>6,5</td>\n",
       "      <td>836.0</td>\n",
       "      <td>131.0</td>\n",
       "      <td>1205.0</td>\n",
       "      <td>116.0</td>\n",
       "      <td>1490.0</td>\n",
       "      <td>1110.0</td>\n",
       "      <td>11,2</td>\n",
       "      <td>59,6</td>\n",
       "      <td>0,7888</td>\n",
       "      <td>NaN</td>\n",
       "      <td>NaN</td>\n",
       "    </tr>\n",
       "  </tbody>\n",
       "</table>\n",
       "</div>"
      ],
      "text/plain": [
       "         Date      Time CO(GT)  PT08.S1(CO)  NMHC(GT) C6H6(GT)  PT08.S2(NMHC)  \\\n",
       "0  10/03/2004  18.00.00    2,6       1360.0     150.0     11,9         1046.0   \n",
       "1  10/03/2004  19.00.00      2       1292.0     112.0      9,4          955.0   \n",
       "2  10/03/2004  20.00.00    2,2       1402.0      88.0      9,0          939.0   \n",
       "3  10/03/2004  21.00.00    2,2       1376.0      80.0      9,2          948.0   \n",
       "4  10/03/2004  22.00.00    1,6       1272.0      51.0      6,5          836.0   \n",
       "\n",
       "   NOx(GT)  PT08.S3(NOx)  NO2(GT)  PT08.S4(NO2)  PT08.S5(O3)     T    RH  \\\n",
       "0    166.0        1056.0    113.0        1692.0       1268.0  13,6  48,9   \n",
       "1    103.0        1174.0     92.0        1559.0        972.0  13,3  47,7   \n",
       "2    131.0        1140.0    114.0        1555.0       1074.0  11,9  54,0   \n",
       "3    172.0        1092.0    122.0        1584.0       1203.0  11,0  60,0   \n",
       "4    131.0        1205.0    116.0        1490.0       1110.0  11,2  59,6   \n",
       "\n",
       "       AH  Unnamed: 15  Unnamed: 16  \n",
       "0  0,7578          NaN          NaN  \n",
       "1  0,7255          NaN          NaN  \n",
       "2  0,7502          NaN          NaN  \n",
       "3  0,7867          NaN          NaN  \n",
       "4  0,7888          NaN          NaN  "
      ]
     },
     "execution_count": 2,
     "metadata": {},
     "output_type": "execute_result"
    }
   ],
   "source": [
    "example_data = pd.read_csv('example_dataset/AirQualityUCI.csv', delimiter=';')\n",
    "example_data.head()"
   ]
  },
  {
   "cell_type": "code",
   "execution_count": 3,
   "id": "c1f8852b-f265-466d-9010-d055c6eb2d71",
   "metadata": {},
   "outputs": [],
   "source": [
    "example_data = example_data[['CO(GT)', 'PT08.S1(CO)', 'NMHC(GT)', 'C6H6(GT)', 'PT08.S2(NMHC)']]"
   ]
  },
  {
   "cell_type": "code",
   "execution_count": 4,
   "id": "cd2b1f1f-2395-43f0-b23e-a045355e960c",
   "metadata": {},
   "outputs": [
    {
     "data": {
      "text/plain": [
       "CO(GT)           114\n",
       "PT08.S1(CO)      114\n",
       "NMHC(GT)         114\n",
       "C6H6(GT)         114\n",
       "PT08.S2(NMHC)    114\n",
       "dtype: int64"
      ]
     },
     "execution_count": 4,
     "metadata": {},
     "output_type": "execute_result"
    }
   ],
   "source": [
    "example_data.isna().sum()"
   ]
  },
  {
   "cell_type": "code",
   "execution_count": 5,
   "id": "10a22c29-96d9-4252-95eb-5ae8f03c8254",
   "metadata": {},
   "outputs": [],
   "source": [
    "example_data = example_data.dropna()"
   ]
  },
  {
   "cell_type": "code",
   "execution_count": 6,
   "id": "a681e0b3-08ef-4c9f-a35c-d8bd9fd177fc",
   "metadata": {},
   "outputs": [
    {
     "data": {
      "text/plain": [
       "CO(GT)           9357\n",
       "PT08.S1(CO)      9357\n",
       "NMHC(GT)         9357\n",
       "C6H6(GT)         9357\n",
       "PT08.S2(NMHC)    9357\n",
       "dtype: int64"
      ]
     },
     "execution_count": 6,
     "metadata": {},
     "output_type": "execute_result"
    }
   ],
   "source": [
    "example_data.notna().sum()"
   ]
  },
  {
   "cell_type": "code",
   "execution_count": 7,
   "id": "a869772a-836a-4bb8-92b7-d36200db5796",
   "metadata": {},
   "outputs": [],
   "source": [
    "example_data = example_data.replace(\",\", \".\", regex = True).astype(\"float\")"
   ]
  },
  {
   "cell_type": "code",
   "execution_count": 8,
   "id": "e0e268c2-3ff6-4899-928e-ab4c3566a211",
   "metadata": {},
   "outputs": [],
   "source": [
    "target = np.array(example_data['PT08.S1(CO)']).reshape(-1, 1)"
   ]
  },
  {
   "cell_type": "code",
   "execution_count": 9,
   "id": "f1433c6d-14a8-46a3-850b-7215a7a96bdb",
   "metadata": {},
   "outputs": [],
   "source": [
    "features = example_data[['CO(GT)', 'NMHC(GT)', 'C6H6(GT)', 'PT08.S2(NMHC)']]"
   ]
  },
  {
   "cell_type": "code",
   "execution_count": 10,
   "id": "36d52d66-632c-4d19-b246-40e5e5092226",
   "metadata": {},
   "outputs": [],
   "source": [
    "feature_scaler = MinMaxScaler()\n",
    "target_scaler = MinMaxScaler()\n",
    "\n",
    "scaled_features = feature_scaler.fit_transform(features)\n",
    "scaled_target = target_scaler.fit_transform(target)"
   ]
  },
  {
   "cell_type": "code",
   "execution_count": 11,
   "id": "8f3d8426-ca38-4d01-9bdc-a9304488e2b4",
   "metadata": {},
   "outputs": [],
   "source": [
    "custom_layer_config = {\n",
    "            \"layer0\": {\n",
    "                \"config\": {\n",
    "                    \"neurons\": 200,\n",
    "                    \"activation\": \"relu\",\n",
    "                    \"regularization\": 0.002,\n",
    "                    \"dropout\": 0.2,\n",
    "                }\n",
    "            },\n",
    "            \"layer1\": {\n",
    "                \"config\": {\n",
    "                    \"neurons\": 100,\n",
    "                    \"activation\": \"relu\",\n",
    "                    \"regularization\": 0.002,\n",
    "                    \"dropout\": 0.2,\n",
    "                }\n",
    "            },\n",
    "            \"layer2\": {\n",
    "                \"config\": {\n",
    "                    \"neurons\": 50,\n",
    "                    \"activation\": \"relu\",\n",
    "                    \"regularization\": 0.002,\n",
    "                    \"dropout\": 0.2,\n",
    "                }\n",
    "            },\n",
    "            \"layer3\": {\n",
    "                \"config\": {\n",
    "                    \"neurons\": 50,\n",
    "                    \"activation\": \"relu\",\n",
    "                    \"regularization\": 0.002,\n",
    "                    \"dropout\": 0.002\n",
    "                }\n",
    "            },\n",
    "            \"layer4\": {\n",
    "                \"config\": {\n",
    "                    \"neurons\": 25,\n",
    "                    \"activation\": \"relu\",\n",
    "                    \"regularization\": 0.002,\n",
    "                }\n",
    "            },\n",
    "        }"
   ]
  },
  {
   "cell_type": "code",
   "execution_count": 12,
   "id": "6ed0741d-6ebb-448b-a12f-679616527e07",
   "metadata": {},
   "outputs": [],
   "source": [
    "from imbrium import PureMulti"
   ]
  },
  {
   "cell_type": "code",
   "execution_count": 13,
   "id": "871ccac6-d4dc-4b38-b56b-e33e9b21dd28",
   "metadata": {},
   "outputs": [
    {
     "name": "stderr",
     "output_type": "stream",
     "text": [
      "[I 2024-05-24 01:18:10,457] A new study created in memory with name: no-name-1affb4f0-95ce-455a-8aaa-ac13b84e77c2\n"
     ]
    },
    {
     "name": "stdout",
     "output_type": "stream",
     "text": [
      "WARNING:tensorflow:From C:\\Users\\Max\\Documents\\Research\\ImbriumTestingDemo\\ImbriumTesting-Demo\\env\\lib\\site-packages\\keras\\src\\backend\\common\\global_state.py:82: The name tf.reset_default_graph is deprecated. Please use tf.compat.v1.reset_default_graph instead.\n",
      "\n",
      "Epoch 1/10\n",
      "\u001b[1m187/187\u001b[0m \u001b[32m━━━━━━━━━━━━━━━━━━━━\u001b[0m\u001b[37m\u001b[0m \u001b[1m18s\u001b[0m 48ms/step - loss: 1.3250 - mean_squared_error: 0.1224 - val_loss: 0.1162 - val_mean_squared_error: 0.0285\n",
      "Epoch 2/10\n",
      "\u001b[1m187/187\u001b[0m \u001b[32m━━━━━━━━━━━━━━━━━━━━\u001b[0m\u001b[37m\u001b[0m \u001b[1m8s\u001b[0m 41ms/step - loss: 0.0883 - mean_squared_error: 0.0193 - val_loss: 0.0657 - val_mean_squared_error: 0.0292\n",
      "Epoch 3/10\n",
      "\u001b[1m187/187\u001b[0m \u001b[32m━━━━━━━━━━━━━━━━━━━━\u001b[0m\u001b[37m\u001b[0m \u001b[1m8s\u001b[0m 42ms/step - loss: 0.0511 - mean_squared_error: 0.0192 - val_loss: 0.0561 - val_mean_squared_error: 0.0349\n",
      "Epoch 4/10\n",
      "\u001b[1m187/187\u001b[0m \u001b[32m━━━━━━━━━━━━━━━━━━━━\u001b[0m\u001b[37m\u001b[0m \u001b[1m8s\u001b[0m 45ms/step - loss: 0.0402 - mean_squared_error: 0.0208 - val_loss: 0.0487 - val_mean_squared_error: 0.0345\n",
      "Epoch 5/10\n",
      "\u001b[1m187/187\u001b[0m \u001b[32m━━━━━━━━━━━━━━━━━━━━\u001b[0m\u001b[37m\u001b[0m \u001b[1m9s\u001b[0m 50ms/step - loss: 0.0351 - mean_squared_error: 0.0216 - val_loss: 0.0440 - val_mean_squared_error: 0.0338\n",
      "Epoch 6/10\n",
      "\u001b[1m187/187\u001b[0m \u001b[32m━━━━━━━━━━━━━━━━━━━━\u001b[0m\u001b[37m\u001b[0m \u001b[1m9s\u001b[0m 49ms/step - loss: 0.1264 - mean_squared_error: 0.1157 - val_loss: 0.0744 - val_mean_squared_error: 0.0402\n",
      "Epoch 7/10\n",
      "\u001b[1m187/187\u001b[0m \u001b[32m━━━━━━━━━━━━━━━━━━━━\u001b[0m\u001b[37m\u001b[0m \u001b[1m9s\u001b[0m 50ms/step - loss: 0.0506 - mean_squared_error: 0.0213 - val_loss: 0.0566 - val_mean_squared_error: 0.0350\n",
      "Epoch 8/10\n",
      "\u001b[1m187/187\u001b[0m \u001b[32m━━━━━━━━━━━━━━━━━━━━\u001b[0m\u001b[37m\u001b[0m \u001b[1m10s\u001b[0m 55ms/step - loss: 0.0404 - mean_squared_error: 0.0199 - val_loss: 0.0532 - val_mean_squared_error: 0.0353\n",
      "Epoch 8: early stopping\n"
     ]
    },
    {
     "name": "stderr",
     "output_type": "stream",
     "text": [
      "[I 2024-05-24 01:19:33,012] Trial 0 finished with value: 0.0169202983379364 and parameters: {'steps_past': 12, 'steps_future': 6}. Best is trial 0 with value: 0.0169202983379364.\n"
     ]
    },
    {
     "name": "stdout",
     "output_type": "stream",
     "text": [
      "Epoch 1/10\n",
      "\u001b[1m187/187\u001b[0m \u001b[32m━━━━━━━━━━━━━━━━━━━━\u001b[0m\u001b[37m\u001b[0m \u001b[1m25s\u001b[0m 81ms/step - loss: 1.4008 - mean_squared_error: 0.1716 - val_loss: 0.1995 - val_mean_squared_error: 0.0325\n",
      "Epoch 2/10\n",
      "\u001b[1m187/187\u001b[0m \u001b[32m━━━━━━━━━━━━━━━━━━━━\u001b[0m\u001b[37m\u001b[0m \u001b[1m13s\u001b[0m 70ms/step - loss: 0.1627 - mean_squared_error: 0.0207 - val_loss: 0.1252 - val_mean_squared_error: 0.0330\n",
      "Epoch 3/10\n",
      "\u001b[1m187/187\u001b[0m \u001b[32m━━━━━━━━━━━━━━━━━━━━\u001b[0m\u001b[37m\u001b[0m \u001b[1m13s\u001b[0m 71ms/step - loss: 0.1035 - mean_squared_error: 0.0210 - val_loss: 0.0926 - val_mean_squared_error: 0.0332\n",
      "Epoch 4/10\n",
      "\u001b[1m187/187\u001b[0m \u001b[32m━━━━━━━━━━━━━━━━━━━━\u001b[0m\u001b[37m\u001b[0m \u001b[1m13s\u001b[0m 70ms/step - loss: 0.0745 - mean_squared_error: 0.0204 - val_loss: 0.0741 - val_mean_squared_error: 0.0333\n",
      "Epoch 5/10\n",
      "\u001b[1m187/187\u001b[0m \u001b[32m━━━━━━━━━━━━━━━━━━━━\u001b[0m\u001b[37m\u001b[0m \u001b[1m12s\u001b[0m 66ms/step - loss: 0.0580 - mean_squared_error: 0.0204 - val_loss: 0.0621 - val_mean_squared_error: 0.0329\n",
      "Epoch 6/10\n",
      "\u001b[1m187/187\u001b[0m \u001b[32m━━━━━━━━━━━━━━━━━━━━\u001b[0m\u001b[37m\u001b[0m \u001b[1m12s\u001b[0m 62ms/step - loss: 0.0473 - mean_squared_error: 0.0200 - val_loss: 0.0537 - val_mean_squared_error: 0.0320\n",
      "Epoch 7/10\n",
      "\u001b[1m187/187\u001b[0m \u001b[32m━━━━━━━━━━━━━━━━━━━━\u001b[0m\u001b[37m\u001b[0m \u001b[1m12s\u001b[0m 62ms/step - loss: 0.0493 - mean_squared_error: 0.0280 - val_loss: 0.0619 - val_mean_squared_error: 0.0348\n",
      "Epoch 8/10\n",
      "\u001b[1m187/187\u001b[0m \u001b[32m━━━━━━━━━━━━━━━━━━━━\u001b[0m\u001b[37m\u001b[0m \u001b[1m11s\u001b[0m 58ms/step - loss: 0.0438 - mean_squared_error: 0.0188 - val_loss: 0.0563 - val_mean_squared_error: 0.0357\n",
      "Epoch 9/10\n",
      "\u001b[1m187/187\u001b[0m \u001b[32m━━━━━━━━━━━━━━━━━━━━\u001b[0m\u001b[37m\u001b[0m \u001b[1m11s\u001b[0m 56ms/step - loss: 0.0382 - mean_squared_error: 0.0187 - val_loss: 0.0536 - val_mean_squared_error: 0.0368\n",
      "Epoch 10/10\n",
      "\u001b[1m187/187\u001b[0m \u001b[32m━━━━━━━━━━━━━━━━━━━━\u001b[0m\u001b[37m\u001b[0m \u001b[1m10s\u001b[0m 53ms/step - loss: 0.0347 - mean_squared_error: 0.0185 - val_loss: 0.0517 - val_mean_squared_error: 0.0375\n"
     ]
    },
    {
     "name": "stderr",
     "output_type": "stream",
     "text": [
      "[I 2024-05-24 01:21:45,020] Trial 1 finished with value: 0.01678040809929371 and parameters: {'steps_past': 13, 'steps_future': 9}. Best is trial 1 with value: 0.01678040809929371.\n"
     ]
    },
    {
     "name": "stdout",
     "output_type": "stream",
     "text": [
      "Epoch 1/10\n",
      "\u001b[1m187/187\u001b[0m \u001b[32m━━━━━━━━━━━━━━━━━━━━\u001b[0m\u001b[37m\u001b[0m \u001b[1m29s\u001b[0m 105ms/step - loss: 1.3573 - mean_squared_error: 0.1238 - val_loss: 0.1416 - val_mean_squared_error: 0.0395\n",
      "Epoch 2/10\n",
      "\u001b[1m187/187\u001b[0m \u001b[32m━━━━━━━━━━━━━━━━━━━━\u001b[0m\u001b[37m\u001b[0m \u001b[1m18s\u001b[0m 98ms/step - loss: 0.1037 - mean_squared_error: 0.0232 - val_loss: 0.0823 - val_mean_squared_error: 0.0401\n",
      "Epoch 3/10\n",
      "\u001b[1m187/187\u001b[0m \u001b[32m━━━━━━━━━━━━━━━━━━━━\u001b[0m\u001b[37m\u001b[0m \u001b[1m18s\u001b[0m 97ms/step - loss: 0.0606 - mean_squared_error: 0.0238 - val_loss: 0.0600 - val_mean_squared_error: 0.0360\n",
      "Epoch 4/10\n",
      "\u001b[1m187/187\u001b[0m \u001b[32m━━━━━━━━━━━━━━━━━━━━\u001b[0m\u001b[37m\u001b[0m \u001b[1m18s\u001b[0m 98ms/step - loss: 0.7277 - mean_squared_error: 0.6993 - val_loss: 0.2611 - val_mean_squared_error: 0.0591\n",
      "Epoch 5/10\n",
      "\u001b[1m187/187\u001b[0m \u001b[32m━━━━━━━━━━━━━━━━━━━━\u001b[0m\u001b[37m\u001b[0m \u001b[1m19s\u001b[0m 99ms/step - loss: 0.2161 - mean_squared_error: 0.0253 - val_loss: 0.2084 - val_mean_squared_error: 0.0396\n",
      "Epoch 6/10\n",
      "\u001b[1m187/187\u001b[0m \u001b[32m━━━━━━━━━━━━━━━━━━━━\u001b[0m\u001b[37m\u001b[0m \u001b[1m18s\u001b[0m 98ms/step - loss: 0.1835 - mean_squared_error: 0.0190 - val_loss: 0.1938 - val_mean_squared_error: 0.0400\n",
      "Epoch 6: early stopping\n"
     ]
    },
    {
     "name": "stderr",
     "output_type": "stream",
     "text": [
      "[I 2024-05-24 01:23:46,759] Trial 2 finished with value: 0.01756777986884117 and parameters: {'steps_past': 25, 'steps_future': 7}. Best is trial 1 with value: 0.01678040809929371.\n"
     ]
    },
    {
     "name": "stdout",
     "output_type": "stream",
     "text": [
      "Epoch 1/10\n",
      "\u001b[1m187/187\u001b[0m \u001b[32m━━━━━━━━━━━━━━━━━━━━\u001b[0m\u001b[37m\u001b[0m \u001b[1m22s\u001b[0m 69ms/step - loss: 1.3230 - mean_squared_error: 0.1327 - val_loss: 0.1024 - val_mean_squared_error: 0.0359\n",
      "Epoch 2/10\n",
      "\u001b[1m187/187\u001b[0m \u001b[32m━━━━━━━━━━━━━━━━━━━━\u001b[0m\u001b[37m\u001b[0m \u001b[1m12s\u001b[0m 65ms/step - loss: 0.0745 - mean_squared_error: 0.0230 - val_loss: 0.0796 - val_mean_squared_error: 0.0509\n",
      "Epoch 3/10\n",
      "\u001b[1m187/187\u001b[0m \u001b[32m━━━━━━━━━━━━━━━━━━━━\u001b[0m\u001b[37m\u001b[0m \u001b[1m13s\u001b[0m 70ms/step - loss: 0.0487 - mean_squared_error: 0.0239 - val_loss: 0.0562 - val_mean_squared_error: 0.0385\n",
      "Epoch 4/10\n",
      "\u001b[1m187/187\u001b[0m \u001b[32m━━━━━━━━━━━━━━━━━━━━\u001b[0m\u001b[37m\u001b[0m \u001b[1m13s\u001b[0m 69ms/step - loss: 0.0389 - mean_squared_error: 0.0219 - val_loss: 0.0442 - val_mean_squared_error: 0.0308\n",
      "Epoch 5/10\n",
      "\u001b[1m187/187\u001b[0m \u001b[32m━━━━━━━━━━━━━━━━━━━━\u001b[0m\u001b[37m\u001b[0m \u001b[1m13s\u001b[0m 71ms/step - loss: 0.0307 - mean_squared_error: 0.0185 - val_loss: 0.0777 - val_mean_squared_error: 0.0663\n",
      "Epoch 6/10\n",
      "\u001b[1m187/187\u001b[0m \u001b[32m━━━━━━━━━━━━━━━━━━━━\u001b[0m\u001b[37m\u001b[0m \u001b[1m14s\u001b[0m 72ms/step - loss: 0.0508 - mean_squared_error: 0.0368 - val_loss: 0.0587 - val_mean_squared_error: 0.0372\n",
      "Epoch 7/10\n",
      "\u001b[1m187/187\u001b[0m \u001b[32m━━━━━━━━━━━━━━━━━━━━\u001b[0m\u001b[37m\u001b[0m \u001b[1m14s\u001b[0m 75ms/step - loss: 0.0403 - mean_squared_error: 0.0208 - val_loss: 0.0536 - val_mean_squared_error: 0.0384\n",
      "Epoch 7: early stopping\n"
     ]
    },
    {
     "name": "stderr",
     "output_type": "stream",
     "text": [
      "[I 2024-05-24 01:25:28,806] Trial 3 finished with value: 0.017661530524492264 and parameters: {'steps_past': 15, 'steps_future': 9}. Best is trial 1 with value: 0.01678040809929371.\n"
     ]
    },
    {
     "name": "stdout",
     "output_type": "stream",
     "text": [
      "Epoch 1/10\n",
      "\u001b[1m187/187\u001b[0m \u001b[32m━━━━━━━━━━━━━━━━━━━━\u001b[0m\u001b[37m\u001b[0m \u001b[1m22s\u001b[0m 64ms/step - loss: 1.3311 - mean_squared_error: 0.1256 - val_loss: 0.1327 - val_mean_squared_error: 0.0364\n",
      "Epoch 2/10\n",
      "\u001b[1m187/187\u001b[0m \u001b[32m━━━━━━━━━━━━━━━━━━━━\u001b[0m\u001b[37m\u001b[0m \u001b[1m11s\u001b[0m 57ms/step - loss: 0.0979 - mean_squared_error: 0.0218 - val_loss: 0.0779 - val_mean_squared_error: 0.0384\n",
      "Epoch 3/10\n",
      "\u001b[1m187/187\u001b[0m \u001b[32m━━━━━━━━━━━━━━━━━━━━\u001b[0m\u001b[37m\u001b[0m \u001b[1m11s\u001b[0m 58ms/step - loss: 0.0570 - mean_squared_error: 0.0225 - val_loss: 0.0571 - val_mean_squared_error: 0.0347\n",
      "Epoch 4/10\n",
      "\u001b[1m187/187\u001b[0m \u001b[32m━━━━━━━━━━━━━━━━━━━━\u001b[0m\u001b[37m\u001b[0m \u001b[1m11s\u001b[0m 58ms/step - loss: 0.0417 - mean_squared_error: 0.0214 - val_loss: 0.0480 - val_mean_squared_error: 0.0334\n",
      "Epoch 5/10\n",
      "\u001b[1m187/187\u001b[0m \u001b[32m━━━━━━━━━━━━━━━━━━━━\u001b[0m\u001b[37m\u001b[0m \u001b[1m11s\u001b[0m 60ms/step - loss: 6.0274 - mean_squared_error: 6.0115 - val_loss: 0.0639 - val_mean_squared_error: 0.0411\n",
      "Epoch 6/10\n",
      "\u001b[1m187/187\u001b[0m \u001b[32m━━━━━━━━━━━━━━━━━━━━\u001b[0m\u001b[37m\u001b[0m \u001b[1m11s\u001b[0m 59ms/step - loss: 0.0405 - mean_squared_error: 0.0204 - val_loss: 0.0515 - val_mean_squared_error: 0.0351\n",
      "Epoch 7/10\n",
      "\u001b[1m187/187\u001b[0m \u001b[32m━━━━━━━━━━━━━━━━━━━━\u001b[0m\u001b[37m\u001b[0m \u001b[1m11s\u001b[0m 58ms/step - loss: 0.0368 - mean_squared_error: 0.0209 - val_loss: 0.0489 - val_mean_squared_error: 0.0348\n",
      "Epoch 7: early stopping\n"
     ]
    },
    {
     "name": "stderr",
     "output_type": "stream",
     "text": [
      "[I 2024-05-24 01:26:57,873] Trial 4 finished with value: 0.01698741689324379 and parameters: {'steps_past': 11, 'steps_future': 7}. Best is trial 1 with value: 0.01678040809929371.\n"
     ]
    }
   ],
   "source": [
    "def objective(trial):\n",
    "\n",
    "    predictor_instance = PureMulti(target = scaled_target, features = scaled_features)\n",
    "\n",
    "    steps_past = trial.suggest_int('steps_past', 5, 30)\n",
    "    steps_future = trial.suggest_int('steps_future', 5, 10)\n",
    "    \n",
    "    \n",
    "    metric_value = predictor_instance.create_fit_bilstm(\n",
    "        steps_past =  steps_past,\n",
    "        steps_future = steps_future,\n",
    "        loss='mean_squared_error',\n",
    "        metrics='mean_squared_error',\n",
    "        bilstm_block_one = 3,\n",
    "        lstm_block_one = 2,\n",
    "        layer_config = custom_layer_config, \n",
    "        epochs=10,\n",
    "        show_progress=1,\n",
    "        board=False,\n",
    "        monitor='val_loss',\n",
    "        patience=3,\n",
    "        min_delta=0,\n",
    "        verbose=1\n",
    "    )\n",
    "\n",
    "\n",
    "    return metric_value\n",
    "\n",
    "study = optuna.create_study(direction='minimize')  \n",
    "study.optimize(objective, n_trials=5) "
   ]
  },
  {
   "cell_type": "code",
   "execution_count": 14,
   "id": "99e8cdd8-dd2e-40fb-8d7a-7012a1b57fd1",
   "metadata": {},
   "outputs": [
    {
     "data": {
      "text/plain": [
       "{'steps_past': 13, 'steps_future': 9}"
      ]
     },
     "execution_count": 14,
     "metadata": {},
     "output_type": "execute_result"
    }
   ],
   "source": [
    "best_params = study.best_params\n",
    "best_params"
   ]
  },
  {
   "cell_type": "code",
   "execution_count": 15,
   "id": "3b14f511-6103-4b23-b760-f8123e13af8f",
   "metadata": {},
   "outputs": [
    {
     "name": "stdout",
     "output_type": "stream",
     "text": [
      "Epoch 1/5\n",
      "\u001b[1m187/187\u001b[0m \u001b[32m━━━━━━━━━━━━━━━━━━━━\u001b[0m\u001b[37m\u001b[0m \u001b[1m23s\u001b[0m 71ms/step - loss: 1.3235 - mean_squared_error: 0.1442 - val_loss: 0.0924 - val_mean_squared_error: 0.0285\n",
      "Epoch 2/5\n",
      "\u001b[1m187/187\u001b[0m \u001b[32m━━━━━━━━━━━━━━━━━━━━\u001b[0m\u001b[37m\u001b[0m \u001b[1m12s\u001b[0m 66ms/step - loss: 0.0699 - mean_squared_error: 0.0201 - val_loss: 0.0629 - val_mean_squared_error: 0.0365\n",
      "Epoch 3/5\n",
      "\u001b[1m187/187\u001b[0m \u001b[32m━━━━━━━━━━━━━━━━━━━━\u001b[0m\u001b[37m\u001b[0m \u001b[1m13s\u001b[0m 68ms/step - loss: 0.0450 - mean_squared_error: 0.0215 - val_loss: 0.0551 - val_mean_squared_error: 0.0390\n",
      "Epoch 4/5\n",
      "\u001b[1m187/187\u001b[0m \u001b[32m━━━━━━━━━━━━━━━━━━━━\u001b[0m\u001b[37m\u001b[0m \u001b[1m12s\u001b[0m 66ms/step - loss: 0.0363 - mean_squared_error: 0.0217 - val_loss: 0.0451 - val_mean_squared_error: 0.0340\n",
      "Epoch 5/5\n",
      "\u001b[1m187/187\u001b[0m \u001b[32m━━━━━━━━━━━━━━━━━━━━\u001b[0m\u001b[37m\u001b[0m \u001b[1m12s\u001b[0m 65ms/step - loss: 0.0317 - mean_squared_error: 0.0214 - val_loss: 0.0441 - val_mean_squared_error: 0.0361\n"
     ]
    },
    {
     "data": {
      "text/plain": [
       "0.016952170059084892"
      ]
     },
     "execution_count": 15,
     "metadata": {},
     "output_type": "execute_result"
    }
   ],
   "source": [
    "predictor_instance = PureMulti(target = scaled_target, features = scaled_features)\n",
    "\n",
    "predictor_instance.create_fit_bilstm(\n",
    "        steps_past =  best_params[\"steps_past\"],\n",
    "        steps_future = best_params[\"steps_future\"],\n",
    "        loss='mean_squared_error',\n",
    "        metrics='mean_squared_error',\n",
    "        bilstm_block_one = 3,\n",
    "        lstm_block_one = 2,\n",
    "        layer_config = custom_layer_config, \n",
    "        epochs=5,\n",
    "        show_progress=1,\n",
    "        board=False,\n",
    "        monitor='val_loss',\n",
    "        patience=3,\n",
    "        min_delta=0,\n",
    "        verbose=1\n",
    "    )"
   ]
  },
  {
   "cell_type": "code",
   "execution_count": 16,
   "id": "f3e4e855-18c1-48b7-ad6c-3ae8367503d0",
   "metadata": {},
   "outputs": [
    {
     "name": "stdout",
     "output_type": "stream",
     "text": [
      "\u001b[1m59/59\u001b[0m \u001b[32m━━━━━━━━━━━━━━━━━━━━\u001b[0m\u001b[37m\u001b[0m \u001b[1m1s\u001b[0m 22ms/step - loss: 0.0331 - mean_squared_error: 0.0252\n"
     ]
    }
   ],
   "source": [
    "predictor_instance.evaluate_model()\n",
    "metric_value = predictor_instance.show_evaluation()[1]"
   ]
  },
  {
   "cell_type": "code",
   "execution_count": 17,
   "id": "2ba92095-2c15-4c1f-879c-9986319cd301",
   "metadata": {},
   "outputs": [
    {
     "data": {
      "text/plain": [
       "0.023533688858151436"
      ]
     },
     "execution_count": 17,
     "metadata": {},
     "output_type": "execute_result"
    }
   ],
   "source": [
    "metric_value"
   ]
  }
 ],
 "metadata": {
  "kernelspec": {
   "display_name": "Python 3 (ipykernel)",
   "language": "python",
   "name": "python3"
  },
  "language_info": {
   "codemirror_mode": {
    "name": "ipython",
    "version": 3
   },
   "file_extension": ".py",
   "mimetype": "text/x-python",
   "name": "python",
   "nbconvert_exporter": "python",
   "pygments_lexer": "ipython3",
   "version": "3.10.8"
  }
 },
 "nbformat": 4,
 "nbformat_minor": 5
}
