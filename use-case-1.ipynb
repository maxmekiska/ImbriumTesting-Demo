{
 "cells": [
  {
   "cell_type": "markdown",
   "id": "0c9ee1ce-e910-4e69-a76d-5105316edfef",
   "metadata": {},
   "source": [
    "# `imbrium` use case\n",
    "## Hyper parameter optimization - Bidirectional Long Short-term Neural Network\n",
    "\n",
    "### Multivariate pure forecasting\n",
    "\n",
    "##### Example Steps:\n",
    "\n",
    "- basic data preparation\n",
    "- scale target and feature numpy arrays\n",
    "- create imbrium bidirectional long short-term neural network\n",
    "- use optuna to perform hyper parameter optimzation on shifting window variables"
   ]
  },
  {
   "cell_type": "code",
   "execution_count": null,
   "id": "c467c285-7bb8-4bd4-bf25-b54169269c01",
   "metadata": {},
   "outputs": [],
   "source": [
    "import imbrium\n",
    "import pandas as pd\n",
    "import numpy as np\n",
    "from sklearn.preprocessing import MinMaxScaler\n",
    "import optuna\n",
    "\n",
    "print(f\"imbrium version: {imbrium.__version__} loaded\")"
   ]
  },
  {
   "cell_type": "code",
   "execution_count": null,
   "id": "fd4fe635-eecb-4790-8ef1-4e4564d65cd4",
   "metadata": {},
   "outputs": [],
   "source": [
    "example_data = pd.read_csv('example_dataset/AirQualityUCI.csv', delimiter=';')\n",
    "example_data.head()"
   ]
  },
  {
   "cell_type": "code",
   "execution_count": null,
   "id": "c1f8852b-f265-466d-9010-d055c6eb2d71",
   "metadata": {},
   "outputs": [],
   "source": [
    "example_data = example_data[['CO(GT)', 'PT08.S1(CO)', 'NMHC(GT)', 'C6H6(GT)', 'PT08.S2(NMHC)']]"
   ]
  },
  {
   "cell_type": "code",
   "execution_count": null,
   "id": "cd2b1f1f-2395-43f0-b23e-a045355e960c",
   "metadata": {},
   "outputs": [],
   "source": [
    "example_data.isna().sum()"
   ]
  },
  {
   "cell_type": "code",
   "execution_count": null,
   "id": "10a22c29-96d9-4252-95eb-5ae8f03c8254",
   "metadata": {},
   "outputs": [],
   "source": [
    "example_data = example_data.dropna()"
   ]
  },
  {
   "cell_type": "code",
   "execution_count": null,
   "id": "a681e0b3-08ef-4c9f-a35c-d8bd9fd177fc",
   "metadata": {},
   "outputs": [],
   "source": [
    "example_data.notna().sum()"
   ]
  },
  {
   "cell_type": "code",
   "execution_count": null,
   "id": "a869772a-836a-4bb8-92b7-d36200db5796",
   "metadata": {},
   "outputs": [],
   "source": [
    "example_data = example_data.replace(\",\", \".\", regex = True).astype(\"float\")"
   ]
  },
  {
   "cell_type": "code",
   "execution_count": null,
   "id": "e0e268c2-3ff6-4899-928e-ab4c3566a211",
   "metadata": {},
   "outputs": [],
   "source": [
    "target = np.array(example_data['PT08.S1(CO)']).reshape(-1, 1)"
   ]
  },
  {
   "cell_type": "code",
   "execution_count": null,
   "id": "f1433c6d-14a8-46a3-850b-7215a7a96bdb",
   "metadata": {},
   "outputs": [],
   "source": [
    "features = example_data[['CO(GT)', 'NMHC(GT)', 'C6H6(GT)', 'PT08.S2(NMHC)']]"
   ]
  },
  {
   "cell_type": "code",
   "execution_count": null,
   "id": "36d52d66-632c-4d19-b246-40e5e5092226",
   "metadata": {},
   "outputs": [],
   "source": [
    "feature_scaler = MinMaxScaler()\n",
    "target_scaler = MinMaxScaler()\n",
    "\n",
    "scaled_features = feature_scaler.fit_transform(features)\n",
    "scaled_target = target_scaler.fit_transform(target)"
   ]
  },
  {
   "cell_type": "code",
   "execution_count": null,
   "id": "8f3d8426-ca38-4d01-9bdc-a9304488e2b4",
   "metadata": {},
   "outputs": [],
   "source": [
    "custom_layer_config = {\n",
    "            \"layer0\": {\n",
    "                \"config\": {\n",
    "                    \"neurons\": 200,\n",
    "                    \"activation\": \"relu\",\n",
    "                    \"regularization\": 0.002,\n",
    "                    \"dropout\": 0.2,\n",
    "                }\n",
    "            },\n",
    "            \"layer1\": {\n",
    "                \"config\": {\n",
    "                    \"neurons\": 100,\n",
    "                    \"activation\": \"relu\",\n",
    "                    \"regularization\": 0.002,\n",
    "                    \"dropout\": 0.2,\n",
    "                }\n",
    "            },\n",
    "            \"layer2\": {\n",
    "                \"config\": {\n",
    "                    \"neurons\": 50,\n",
    "                    \"activation\": \"relu\",\n",
    "                    \"regularization\": 0.002,\n",
    "                    \"dropout\": 0.2,\n",
    "                }\n",
    "            },\n",
    "            \"layer3\": {\n",
    "                \"config\": {\n",
    "                    \"neurons\": 50,\n",
    "                    \"activation\": \"relu\",\n",
    "                    \"regularization\": 0.002,\n",
    "                    \"dropout\": 0.002\n",
    "                }\n",
    "            },\n",
    "            \"layer4\": {\n",
    "                \"config\": {\n",
    "                    \"neurons\": 25,\n",
    "                    \"activation\": \"relu\",\n",
    "                    \"regularization\": 0.002,\n",
    "                }\n",
    "            },\n",
    "        }"
   ]
  },
  {
   "cell_type": "code",
   "execution_count": null,
   "id": "6ed0741d-6ebb-448b-a12f-679616527e07",
   "metadata": {},
   "outputs": [],
   "source": [
    "from imbrium import PureMulti"
   ]
  },
  {
   "cell_type": "code",
   "execution_count": null,
   "id": "871ccac6-d4dc-4b38-b56b-e33e9b21dd28",
   "metadata": {},
   "outputs": [],
   "source": [
    "predictor_instance = PureMulti(target = scaled_target, features = scaled_features)\n",
    "\n",
    "\n",
    "def objective(trial):\n",
    "\n",
    "    steps_past = trial.suggest_int('steps_past', 5, 30)\n",
    "    steps_future = trial.suggest_int('steps_future', 5, 10)\n",
    "    \n",
    "    \n",
    "    metric_value = predictor_instance.create_fit_bilstm(\n",
    "        steps_past =  steps_past,\n",
    "        steps_future = steps_future,\n",
    "        loss='mean_squared_error',\n",
    "        metrics='mean_squared_error',\n",
    "        bilstm_block_one = 3,\n",
    "        lstm_block_one = 2,\n",
    "        layer_config = custom_layer_config, \n",
    "        epochs=10,\n",
    "        show_progress=1,\n",
    "        validation_split=0.20,\n",
    "        board=False,\n",
    "        monitor='val_loss',\n",
    "        patience=3,\n",
    "        min_delta=0,\n",
    "        verbose=1\n",
    "    )\n",
    "\n",
    "    return metric_value\n",
    "\n",
    "study = optuna.create_study(direction='minimize')  \n",
    "study.optimize(objective, n_trials=20) "
   ]
  }
 ],
 "metadata": {
  "kernelspec": {
   "display_name": "Python 3 (ipykernel)",
   "language": "python",
   "name": "python3"
  },
  "language_info": {
   "codemirror_mode": {
    "name": "ipython",
    "version": 3
   },
   "file_extension": ".py",
   "mimetype": "text/x-python",
   "name": "python",
   "nbconvert_exporter": "python",
   "pygments_lexer": "ipython3",
   "version": "3.8.3"
  }
 },
 "nbformat": 4,
 "nbformat_minor": 5
}
