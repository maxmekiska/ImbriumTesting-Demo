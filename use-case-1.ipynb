{
 "cells": [
  {
   "cell_type": "markdown",
   "id": "0c9ee1ce-e910-4e69-a76d-5105316edfef",
   "metadata": {},
   "source": [
    "# `imbrium` use case\n",
    "## Hyper parameter optimization - Bidirectional Long Short-term Neural Network\n",
    "\n",
    "### Multivariate pure forecasting\n",
    "\n",
    "##### Example Steps:\n",
    "\n",
    "- basic data preparation\n",
    "- scale target and feature numpy arrays\n",
    "- create imbrium bidirectional long short-term neural network\n",
    "- use optuna to perform hyper parameter optimzation on shifting window variables"
   ]
  },
  {
   "cell_type": "code",
   "execution_count": 1,
   "id": "c467c285-7bb8-4bd4-bf25-b54169269c01",
   "metadata": {},
   "outputs": [
    {
     "name": "stdout",
     "output_type": "stream",
     "text": [
      "imbrium version: 3.0.0 loaded\n"
     ]
    }
   ],
   "source": [
    "import imbrium\n",
    "import pandas as pd\n",
    "import numpy as np\n",
    "from sklearn.preprocessing import MinMaxScaler\n",
    "import optuna\n",
    "\n",
    "print(f\"imbrium version: {imbrium.__version__} loaded\")"
   ]
  },
  {
   "cell_type": "code",
   "execution_count": 2,
   "id": "fd4fe635-eecb-4790-8ef1-4e4564d65cd4",
   "metadata": {},
   "outputs": [
    {
     "data": {
      "text/html": [
       "<div>\n",
       "<style scoped>\n",
       "    .dataframe tbody tr th:only-of-type {\n",
       "        vertical-align: middle;\n",
       "    }\n",
       "\n",
       "    .dataframe tbody tr th {\n",
       "        vertical-align: top;\n",
       "    }\n",
       "\n",
       "    .dataframe thead th {\n",
       "        text-align: right;\n",
       "    }\n",
       "</style>\n",
       "<table border=\"1\" class=\"dataframe\">\n",
       "  <thead>\n",
       "    <tr style=\"text-align: right;\">\n",
       "      <th></th>\n",
       "      <th>Date</th>\n",
       "      <th>Time</th>\n",
       "      <th>CO(GT)</th>\n",
       "      <th>PT08.S1(CO)</th>\n",
       "      <th>NMHC(GT)</th>\n",
       "      <th>C6H6(GT)</th>\n",
       "      <th>PT08.S2(NMHC)</th>\n",
       "      <th>NOx(GT)</th>\n",
       "      <th>PT08.S3(NOx)</th>\n",
       "      <th>NO2(GT)</th>\n",
       "      <th>PT08.S4(NO2)</th>\n",
       "      <th>PT08.S5(O3)</th>\n",
       "      <th>T</th>\n",
       "      <th>RH</th>\n",
       "      <th>AH</th>\n",
       "      <th>Unnamed: 15</th>\n",
       "      <th>Unnamed: 16</th>\n",
       "    </tr>\n",
       "  </thead>\n",
       "  <tbody>\n",
       "    <tr>\n",
       "      <th>0</th>\n",
       "      <td>10/03/2004</td>\n",
       "      <td>18.00.00</td>\n",
       "      <td>2,6</td>\n",
       "      <td>1360.0</td>\n",
       "      <td>150.0</td>\n",
       "      <td>11,9</td>\n",
       "      <td>1046.0</td>\n",
       "      <td>166.0</td>\n",
       "      <td>1056.0</td>\n",
       "      <td>113.0</td>\n",
       "      <td>1692.0</td>\n",
       "      <td>1268.0</td>\n",
       "      <td>13,6</td>\n",
       "      <td>48,9</td>\n",
       "      <td>0,7578</td>\n",
       "      <td>NaN</td>\n",
       "      <td>NaN</td>\n",
       "    </tr>\n",
       "    <tr>\n",
       "      <th>1</th>\n",
       "      <td>10/03/2004</td>\n",
       "      <td>19.00.00</td>\n",
       "      <td>2</td>\n",
       "      <td>1292.0</td>\n",
       "      <td>112.0</td>\n",
       "      <td>9,4</td>\n",
       "      <td>955.0</td>\n",
       "      <td>103.0</td>\n",
       "      <td>1174.0</td>\n",
       "      <td>92.0</td>\n",
       "      <td>1559.0</td>\n",
       "      <td>972.0</td>\n",
       "      <td>13,3</td>\n",
       "      <td>47,7</td>\n",
       "      <td>0,7255</td>\n",
       "      <td>NaN</td>\n",
       "      <td>NaN</td>\n",
       "    </tr>\n",
       "    <tr>\n",
       "      <th>2</th>\n",
       "      <td>10/03/2004</td>\n",
       "      <td>20.00.00</td>\n",
       "      <td>2,2</td>\n",
       "      <td>1402.0</td>\n",
       "      <td>88.0</td>\n",
       "      <td>9,0</td>\n",
       "      <td>939.0</td>\n",
       "      <td>131.0</td>\n",
       "      <td>1140.0</td>\n",
       "      <td>114.0</td>\n",
       "      <td>1555.0</td>\n",
       "      <td>1074.0</td>\n",
       "      <td>11,9</td>\n",
       "      <td>54,0</td>\n",
       "      <td>0,7502</td>\n",
       "      <td>NaN</td>\n",
       "      <td>NaN</td>\n",
       "    </tr>\n",
       "    <tr>\n",
       "      <th>3</th>\n",
       "      <td>10/03/2004</td>\n",
       "      <td>21.00.00</td>\n",
       "      <td>2,2</td>\n",
       "      <td>1376.0</td>\n",
       "      <td>80.0</td>\n",
       "      <td>9,2</td>\n",
       "      <td>948.0</td>\n",
       "      <td>172.0</td>\n",
       "      <td>1092.0</td>\n",
       "      <td>122.0</td>\n",
       "      <td>1584.0</td>\n",
       "      <td>1203.0</td>\n",
       "      <td>11,0</td>\n",
       "      <td>60,0</td>\n",
       "      <td>0,7867</td>\n",
       "      <td>NaN</td>\n",
       "      <td>NaN</td>\n",
       "    </tr>\n",
       "    <tr>\n",
       "      <th>4</th>\n",
       "      <td>10/03/2004</td>\n",
       "      <td>22.00.00</td>\n",
       "      <td>1,6</td>\n",
       "      <td>1272.0</td>\n",
       "      <td>51.0</td>\n",
       "      <td>6,5</td>\n",
       "      <td>836.0</td>\n",
       "      <td>131.0</td>\n",
       "      <td>1205.0</td>\n",
       "      <td>116.0</td>\n",
       "      <td>1490.0</td>\n",
       "      <td>1110.0</td>\n",
       "      <td>11,2</td>\n",
       "      <td>59,6</td>\n",
       "      <td>0,7888</td>\n",
       "      <td>NaN</td>\n",
       "      <td>NaN</td>\n",
       "    </tr>\n",
       "  </tbody>\n",
       "</table>\n",
       "</div>"
      ],
      "text/plain": [
       "         Date      Time CO(GT)  PT08.S1(CO)  NMHC(GT) C6H6(GT)  PT08.S2(NMHC)  \\\n",
       "0  10/03/2004  18.00.00    2,6       1360.0     150.0     11,9         1046.0   \n",
       "1  10/03/2004  19.00.00      2       1292.0     112.0      9,4          955.0   \n",
       "2  10/03/2004  20.00.00    2,2       1402.0      88.0      9,0          939.0   \n",
       "3  10/03/2004  21.00.00    2,2       1376.0      80.0      9,2          948.0   \n",
       "4  10/03/2004  22.00.00    1,6       1272.0      51.0      6,5          836.0   \n",
       "\n",
       "   NOx(GT)  PT08.S3(NOx)  NO2(GT)  PT08.S4(NO2)  PT08.S5(O3)     T    RH  \\\n",
       "0    166.0        1056.0    113.0        1692.0       1268.0  13,6  48,9   \n",
       "1    103.0        1174.0     92.0        1559.0        972.0  13,3  47,7   \n",
       "2    131.0        1140.0    114.0        1555.0       1074.0  11,9  54,0   \n",
       "3    172.0        1092.0    122.0        1584.0       1203.0  11,0  60,0   \n",
       "4    131.0        1205.0    116.0        1490.0       1110.0  11,2  59,6   \n",
       "\n",
       "       AH  Unnamed: 15  Unnamed: 16  \n",
       "0  0,7578          NaN          NaN  \n",
       "1  0,7255          NaN          NaN  \n",
       "2  0,7502          NaN          NaN  \n",
       "3  0,7867          NaN          NaN  \n",
       "4  0,7888          NaN          NaN  "
      ]
     },
     "execution_count": 2,
     "metadata": {},
     "output_type": "execute_result"
    }
   ],
   "source": [
    "example_data = pd.read_csv('example_dataset/AirQualityUCI.csv', delimiter=';')\n",
    "example_data.head()"
   ]
  },
  {
   "cell_type": "code",
   "execution_count": 3,
   "id": "c1f8852b-f265-466d-9010-d055c6eb2d71",
   "metadata": {},
   "outputs": [],
   "source": [
    "example_data = example_data[['CO(GT)', 'PT08.S1(CO)', 'NMHC(GT)', 'C6H6(GT)', 'PT08.S2(NMHC)']]"
   ]
  },
  {
   "cell_type": "code",
   "execution_count": 4,
   "id": "cd2b1f1f-2395-43f0-b23e-a045355e960c",
   "metadata": {},
   "outputs": [
    {
     "data": {
      "text/plain": [
       "CO(GT)           114\n",
       "PT08.S1(CO)      114\n",
       "NMHC(GT)         114\n",
       "C6H6(GT)         114\n",
       "PT08.S2(NMHC)    114\n",
       "dtype: int64"
      ]
     },
     "execution_count": 4,
     "metadata": {},
     "output_type": "execute_result"
    }
   ],
   "source": [
    "example_data.isna().sum()"
   ]
  },
  {
   "cell_type": "code",
   "execution_count": 5,
   "id": "10a22c29-96d9-4252-95eb-5ae8f03c8254",
   "metadata": {},
   "outputs": [],
   "source": [
    "example_data = example_data.dropna()"
   ]
  },
  {
   "cell_type": "code",
   "execution_count": 6,
   "id": "a681e0b3-08ef-4c9f-a35c-d8bd9fd177fc",
   "metadata": {},
   "outputs": [
    {
     "data": {
      "text/plain": [
       "CO(GT)           9357\n",
       "PT08.S1(CO)      9357\n",
       "NMHC(GT)         9357\n",
       "C6H6(GT)         9357\n",
       "PT08.S2(NMHC)    9357\n",
       "dtype: int64"
      ]
     },
     "execution_count": 6,
     "metadata": {},
     "output_type": "execute_result"
    }
   ],
   "source": [
    "example_data.notna().sum()"
   ]
  },
  {
   "cell_type": "code",
   "execution_count": 7,
   "id": "a869772a-836a-4bb8-92b7-d36200db5796",
   "metadata": {},
   "outputs": [],
   "source": [
    "example_data = example_data.replace(\",\", \".\", regex = True).astype(\"float\")"
   ]
  },
  {
   "cell_type": "code",
   "execution_count": 8,
   "id": "e0e268c2-3ff6-4899-928e-ab4c3566a211",
   "metadata": {},
   "outputs": [],
   "source": [
    "target = np.array(example_data['PT08.S1(CO)']).reshape(-1, 1)"
   ]
  },
  {
   "cell_type": "code",
   "execution_count": 9,
   "id": "f1433c6d-14a8-46a3-850b-7215a7a96bdb",
   "metadata": {},
   "outputs": [],
   "source": [
    "features = example_data[['CO(GT)', 'NMHC(GT)', 'C6H6(GT)', 'PT08.S2(NMHC)']]"
   ]
  },
  {
   "cell_type": "code",
   "execution_count": 10,
   "id": "36d52d66-632c-4d19-b246-40e5e5092226",
   "metadata": {},
   "outputs": [],
   "source": [
    "feature_scaler = MinMaxScaler()\n",
    "target_scaler = MinMaxScaler()\n",
    "\n",
    "scaled_features = feature_scaler.fit_transform(features)\n",
    "scaled_target = target_scaler.fit_transform(target)"
   ]
  },
  {
   "cell_type": "code",
   "execution_count": 11,
   "id": "8f3d8426-ca38-4d01-9bdc-a9304488e2b4",
   "metadata": {},
   "outputs": [],
   "source": [
    "custom_layer_config = {\n",
    "            \"layer0\": {\n",
    "                \"config\": {\n",
    "                    \"neurons\": 200,\n",
    "                    \"activation\": \"relu\",\n",
    "                    \"regularization\": 0.002,\n",
    "                    \"dropout\": 0.2,\n",
    "                }\n",
    "            },\n",
    "            \"layer1\": {\n",
    "                \"config\": {\n",
    "                    \"neurons\": 100,\n",
    "                    \"activation\": \"relu\",\n",
    "                    \"regularization\": 0.002,\n",
    "                    \"dropout\": 0.2,\n",
    "                }\n",
    "            },\n",
    "            \"layer2\": {\n",
    "                \"config\": {\n",
    "                    \"neurons\": 50,\n",
    "                    \"activation\": \"relu\",\n",
    "                    \"regularization\": 0.002,\n",
    "                    \"dropout\": 0.2,\n",
    "                }\n",
    "            },\n",
    "            \"layer3\": {\n",
    "                \"config\": {\n",
    "                    \"neurons\": 50,\n",
    "                    \"activation\": \"relu\",\n",
    "                    \"regularization\": 0.002,\n",
    "                    \"dropout\": 0.002\n",
    "                }\n",
    "            },\n",
    "            \"layer4\": {\n",
    "                \"config\": {\n",
    "                    \"neurons\": 25,\n",
    "                    \"activation\": \"relu\",\n",
    "                    \"regularization\": 0.002,\n",
    "                }\n",
    "            },\n",
    "        }"
   ]
  },
  {
   "cell_type": "code",
   "execution_count": 12,
   "id": "6ed0741d-6ebb-448b-a12f-679616527e07",
   "metadata": {},
   "outputs": [],
   "source": [
    "from imbrium import PureMulti"
   ]
  },
  {
   "cell_type": "code",
   "execution_count": 14,
   "id": "871ccac6-d4dc-4b38-b56b-e33e9b21dd28",
   "metadata": {},
   "outputs": [
    {
     "name": "stderr",
     "output_type": "stream",
     "text": [
      "[I 2024-05-12 20:31:46,416] A new study created in memory with name: no-name-94051a33-ed25-456a-9fa3-aa633c59231c\n"
     ]
    },
    {
     "name": "stdout",
     "output_type": "stream",
     "text": [
      "Epoch 1/10\n",
      "\u001b[1m187/187\u001b[0m \u001b[32m━━━━━━━━━━━━━━━━━━━━\u001b[0m\u001b[37m\u001b[0m \u001b[1m38s\u001b[0m 122ms/step - loss: 1.3698 - mean_squared_error: 0.1766 - val_loss: 0.1085 - val_mean_squared_error: 0.0325\n",
      "Epoch 2/10\n",
      "\u001b[1m187/187\u001b[0m \u001b[32m━━━━━━━━━━━━━━━━━━━━\u001b[0m\u001b[37m\u001b[0m \u001b[1m21s\u001b[0m 110ms/step - loss: 0.0805 - mean_squared_error: 0.0212 - val_loss: 0.0718 - val_mean_squared_error: 0.0409\n",
      "Epoch 3/10\n",
      "\u001b[1m187/187\u001b[0m \u001b[32m━━━━━━━━━━━━━━━━━━━━\u001b[0m\u001b[37m\u001b[0m \u001b[1m21s\u001b[0m 111ms/step - loss: 0.0503 - mean_squared_error: 0.0232 - val_loss: 0.0569 - val_mean_squared_error: 0.0389\n",
      "Epoch 4/10\n",
      "\u001b[1m187/187\u001b[0m \u001b[32m━━━━━━━━━━━━━━━━━━━━\u001b[0m\u001b[37m\u001b[0m \u001b[1m21s\u001b[0m 112ms/step - loss: 7.2312 - mean_squared_error: 7.1808 - val_loss: 0.2335 - val_mean_squared_error: 0.0395\n",
      "Epoch 5/10\n",
      "\u001b[1m187/187\u001b[0m \u001b[32m━━━━━━━━━━━━━━━━━━━━\u001b[0m\u001b[37m\u001b[0m \u001b[1m23s\u001b[0m 122ms/step - loss: 0.2070 - mean_squared_error: 0.0195 - val_loss: 0.2113 - val_mean_squared_error: 0.0375\n",
      "Epoch 6/10\n",
      "\u001b[1m187/187\u001b[0m \u001b[32m━━━━━━━━━━━━━━━━━━━━\u001b[0m\u001b[37m\u001b[0m \u001b[1m26s\u001b[0m 140ms/step - loss: 0.1891 - mean_squared_error: 0.0182 - val_loss: 0.2004 - val_mean_squared_error: 0.0369\n",
      "Epoch 6: early stopping\n",
      "\u001b[1m59/59\u001b[0m \u001b[32m━━━━━━━━━━━━━━━━━━━━\u001b[0m\u001b[37m\u001b[0m \u001b[1m3s\u001b[0m 50ms/step - loss: 0.1897 - mean_squared_error: 0.0263\n"
     ]
    },
    {
     "name": "stderr",
     "output_type": "stream",
     "text": [
      "[I 2024-05-12 20:34:20,337] Trial 0 finished with value: 0.18559874594211578 and parameters: {'steps_past': 21, 'steps_future': 10}. Best is trial 0 with value: 0.18559874594211578.\n"
     ]
    },
    {
     "name": "stdout",
     "output_type": "stream",
     "text": [
      "Epoch 1/10\n",
      "\u001b[1m187/187\u001b[0m \u001b[32m━━━━━━━━━━━━━━━━━━━━\u001b[0m\u001b[37m\u001b[0m \u001b[1m50s\u001b[0m 152ms/step - loss: 1.3966 - mean_squared_error: 0.1347 - val_loss: 0.1725 - val_mean_squared_error: 0.0321\n",
      "Epoch 2/10\n",
      "\u001b[1m187/187\u001b[0m \u001b[32m━━━━━━━━━━━━━━━━━━━━\u001b[0m\u001b[37m\u001b[0m \u001b[1m25s\u001b[0m 136ms/step - loss: 0.1340 - mean_squared_error: 0.0208 - val_loss: 0.0963 - val_mean_squared_error: 0.0334\n",
      "Epoch 3/10\n",
      "\u001b[1m187/187\u001b[0m \u001b[32m━━━━━━━━━━━━━━━━━━━━\u001b[0m\u001b[37m\u001b[0m \u001b[1m25s\u001b[0m 133ms/step - loss: 0.0740 - mean_squared_error: 0.0198 - val_loss: 0.0741 - val_mean_squared_error: 0.0383\n",
      "Epoch 4/10\n",
      "\u001b[1m187/187\u001b[0m \u001b[32m━━━━━━━━━━━━━━━━━━━━\u001b[0m\u001b[37m\u001b[0m \u001b[1m21s\u001b[0m 112ms/step - loss: 2407.8601 - mean_squared_error: 2407.8171 - val_loss: 0.2293 - val_mean_squared_error: 0.0466\n",
      "Epoch 5/10\n",
      "\u001b[1m187/187\u001b[0m \u001b[32m━━━━━━━━━━━━━━━━━━━━\u001b[0m\u001b[37m\u001b[0m \u001b[1m20s\u001b[0m 107ms/step - loss: 0.2100 - mean_squared_error: 0.0185 - val_loss: 0.2041 - val_mean_squared_error: 0.0336\n",
      "Epoch 6/10\n",
      "\u001b[1m187/187\u001b[0m \u001b[32m━━━━━━━━━━━━━━━━━━━━\u001b[0m\u001b[37m\u001b[0m \u001b[1m23s\u001b[0m 122ms/step - loss: 0.1844 - mean_squared_error: 0.0182 - val_loss: 0.1867 - val_mean_squared_error: 0.0314\n",
      "Epoch 6: early stopping\n",
      "\u001b[1m59/59\u001b[0m \u001b[32m━━━━━━━━━━━━━━━━━━━━\u001b[0m\u001b[37m\u001b[0m \u001b[1m2s\u001b[0m 40ms/step - loss: 0.1772 - mean_squared_error: 0.0219\n"
     ]
    },
    {
     "name": "stderr",
     "output_type": "stream",
     "text": [
      "[I 2024-05-12 20:37:08,851] Trial 1 finished with value: 0.1740313321352005 and parameters: {'steps_past': 20, 'steps_future': 7}. Best is trial 1 with value: 0.1740313321352005.\n"
     ]
    },
    {
     "name": "stdout",
     "output_type": "stream",
     "text": [
      "Epoch 1/10\n",
      "\u001b[1m187/187\u001b[0m \u001b[32m━━━━━━━━━━━━━━━━━━━━\u001b[0m\u001b[37m\u001b[0m \u001b[1m59s\u001b[0m 203ms/step - loss: 1.5412 - mean_squared_error: 0.1736 - val_loss: 0.3200 - val_mean_squared_error: 0.0290\n",
      "Epoch 2/10\n",
      "\u001b[1m187/187\u001b[0m \u001b[32m━━━━━━━━━━━━━━━━━━━━\u001b[0m\u001b[37m\u001b[0m \u001b[1m32s\u001b[0m 172ms/step - loss: 0.2708 - mean_squared_error: 0.0200 - val_loss: 0.2014 - val_mean_squared_error: 0.0335\n",
      "Epoch 3/10\n",
      "\u001b[1m187/187\u001b[0m \u001b[32m━━━━━━━━━━━━━━━━━━━━\u001b[0m\u001b[37m\u001b[0m \u001b[1m33s\u001b[0m 175ms/step - loss: 0.1724 - mean_squared_error: 0.0203 - val_loss: 0.1534 - val_mean_squared_error: 0.0399\n",
      "Epoch 4/10\n",
      "\u001b[1m187/187\u001b[0m \u001b[32m━━━━━━━━━━━━━━━━━━━━\u001b[0m\u001b[37m\u001b[0m \u001b[1m30s\u001b[0m 159ms/step - loss: 0.1266 - mean_squared_error: 0.0222 - val_loss: 0.1162 - val_mean_squared_error: 0.0354\n",
      "Epoch 5/10\n",
      "\u001b[1m187/187\u001b[0m \u001b[32m━━━━━━━━━━━━━━━━━━━━\u001b[0m\u001b[37m\u001b[0m \u001b[1m31s\u001b[0m 165ms/step - loss: 0.0968 - mean_squared_error: 0.0216 - val_loss: 0.0906 - val_mean_squared_error: 0.0307\n",
      "Epoch 6/10\n",
      "\u001b[1m187/187\u001b[0m \u001b[32m━━━━━━━━━━━━━━━━━━━━\u001b[0m\u001b[37m\u001b[0m \u001b[1m33s\u001b[0m 178ms/step - loss: 34459276.0000 - mean_squared_error: 34459276.0000 - val_loss: 5726.2119 - val_mean_squared_error: 5725.6367\n",
      "Epoch 7/10\n",
      "\u001b[1m187/187\u001b[0m \u001b[32m━━━━━━━━━━━━━━━━━━━━\u001b[0m\u001b[37m\u001b[0m \u001b[1m34s\u001b[0m 184ms/step - loss: 9668.6914 - mean_squared_error: 9668.1006 - val_loss: 2277.8315 - val_mean_squared_error: 2277.2236\n",
      "Epoch 8/10\n",
      "\u001b[1m187/187\u001b[0m \u001b[32m━━━━━━━━━━━━━━━━━━━━\u001b[0m\u001b[37m\u001b[0m \u001b[1m36s\u001b[0m 194ms/step - loss: 537.9539 - mean_squared_error: 537.3433 - val_loss: 4.0184 - val_mean_squared_error: 3.4010\n",
      "Epoch 8: early stopping\n",
      "\u001b[1m59/59\u001b[0m \u001b[32m━━━━━━━━━━━━━━━━━━━━\u001b[0m\u001b[37m\u001b[0m \u001b[1m4s\u001b[0m 60ms/step - loss: 3.6588 - mean_squared_error: 3.0413\n"
     ]
    },
    {
     "name": "stderr",
     "output_type": "stream",
     "text": [
      "[I 2024-05-12 20:42:02,031] Trial 2 finished with value: 3.6487197875976562 and parameters: {'steps_past': 29, 'steps_future': 7}. Best is trial 1 with value: 0.1740313321352005.\n"
     ]
    },
    {
     "name": "stdout",
     "output_type": "stream",
     "text": [
      "Epoch 1/10\n",
      "\u001b[1m187/187\u001b[0m \u001b[32m━━━━━━━━━━━━━━━━━━━━\u001b[0m\u001b[37m\u001b[0m \u001b[1m47s\u001b[0m 129ms/step - loss: 1.3337 - mean_squared_error: 0.1584 - val_loss: 0.1136 - val_mean_squared_error: 0.0493\n",
      "Epoch 2/10\n",
      "\u001b[1m187/187\u001b[0m \u001b[32m━━━━━━━━━━━━━━━━━━━━\u001b[0m\u001b[37m\u001b[0m \u001b[1m19s\u001b[0m 104ms/step - loss: 0.0759 - mean_squared_error: 0.0258 - val_loss: 0.0655 - val_mean_squared_error: 0.0377\n",
      "Epoch 3/10\n",
      "\u001b[1m187/187\u001b[0m \u001b[32m━━━━━━━━━━━━━━━━━━━━\u001b[0m\u001b[37m\u001b[0m \u001b[1m19s\u001b[0m 101ms/step - loss: 0.0477 - mean_squared_error: 0.0232 - val_loss: 0.0516 - val_mean_squared_error: 0.0345\n",
      "Epoch 4/10\n",
      "\u001b[1m187/187\u001b[0m \u001b[32m━━━━━━━━━━━━━━━━━━━━\u001b[0m\u001b[37m\u001b[0m \u001b[1m20s\u001b[0m 107ms/step - loss: 0.0373 - mean_squared_error: 0.0213 - val_loss: 0.0504 - val_mean_squared_error: 0.0378\n",
      "Epoch 5/10\n",
      "\u001b[1m187/187\u001b[0m \u001b[32m━━━━━━━━━━━━━━━━━━━━\u001b[0m\u001b[37m\u001b[0m \u001b[1m20s\u001b[0m 108ms/step - loss: 0.0332 - mean_squared_error: 0.0219 - val_loss: 0.0458 - val_mean_squared_error: 0.0372\n",
      "Epoch 6/10\n",
      "\u001b[1m187/187\u001b[0m \u001b[32m━━━━━━━━━━━━━━━━━━━━\u001b[0m\u001b[37m\u001b[0m \u001b[1m20s\u001b[0m 105ms/step - loss: 0.0298 - mean_squared_error: 0.0217 - val_loss: 0.0332 - val_mean_squared_error: 0.0264\n",
      "Epoch 7/10\n",
      "\u001b[1m187/187\u001b[0m \u001b[32m━━━━━━━━━━━━━━━━━━━━\u001b[0m\u001b[37m\u001b[0m \u001b[1m18s\u001b[0m 98ms/step - loss: 1.1319 - mean_squared_error: 1.1072 - val_loss: 0.0717 - val_mean_squared_error: 0.0386\n",
      "Epoch 8/10\n",
      "\u001b[1m187/187\u001b[0m \u001b[32m━━━━━━━━━━━━━━━━━━━━\u001b[0m\u001b[37m\u001b[0m \u001b[1m18s\u001b[0m 98ms/step - loss: 0.0531 - mean_squared_error: 0.0214 - val_loss: 0.0680 - val_mean_squared_error: 0.0394\n",
      "Epoch 9/10\n",
      "\u001b[1m187/187\u001b[0m \u001b[32m━━━━━━━━━━━━━━━━━━━━\u001b[0m\u001b[37m\u001b[0m \u001b[1m19s\u001b[0m 99ms/step - loss: 0.0475 - mean_squared_error: 0.0196 - val_loss: 0.0658 - val_mean_squared_error: 0.0397\n",
      "Epoch 9: early stopping\n",
      "\u001b[1m59/59\u001b[0m \u001b[32m━━━━━━━━━━━━━━━━━━━━\u001b[0m\u001b[37m\u001b[0m \u001b[1m2s\u001b[0m 29ms/step - loss: 0.0537 - mean_squared_error: 0.0276\n"
     ]
    },
    {
     "name": "stderr",
     "output_type": "stream",
     "text": [
      "[I 2024-05-12 20:45:25,592] Trial 3 finished with value: 0.049423303455114365 and parameters: {'steps_past': 19, 'steps_future': 9}. Best is trial 3 with value: 0.049423303455114365.\n"
     ]
    },
    {
     "name": "stdout",
     "output_type": "stream",
     "text": [
      "Epoch 1/10\n",
      "\u001b[1m187/187\u001b[0m \u001b[32m━━━━━━━━━━━━━━━━━━━━\u001b[0m\u001b[37m\u001b[0m \u001b[1m43s\u001b[0m 150ms/step - loss: 1.4428 - mean_squared_error: 0.1278 - val_loss: 0.2236 - val_mean_squared_error: 0.0366\n",
      "Epoch 2/10\n",
      "\u001b[1m187/187\u001b[0m \u001b[32m━━━━━━━━━━━━━━━━━━━━\u001b[0m\u001b[37m\u001b[0m \u001b[1m24s\u001b[0m 128ms/step - loss: 0.1747 - mean_squared_error: 0.0216 - val_loss: 0.1250 - val_mean_squared_error: 0.0373\n",
      "Epoch 3/10\n",
      "\u001b[1m187/187\u001b[0m \u001b[32m━━━━━━━━━━━━━━━━━━━━\u001b[0m\u001b[37m\u001b[0m \u001b[1m24s\u001b[0m 128ms/step - loss: 0.0987 - mean_squared_error: 0.0221 - val_loss: 0.0862 - val_mean_squared_error: 0.0357\n",
      "Epoch 4/10\n",
      "\u001b[1m187/187\u001b[0m \u001b[32m━━━━━━━━━━━━━━━━━━━━\u001b[0m\u001b[37m\u001b[0m \u001b[1m26s\u001b[0m 141ms/step - loss: 54177.4258 - mean_squared_error: 54177.3711 - val_loss: 0.3624 - val_mean_squared_error: 0.0551\n",
      "Epoch 5/10\n",
      "\u001b[1m187/187\u001b[0m \u001b[32m━━━━━━━━━━━━━━━━━━━━\u001b[0m\u001b[37m\u001b[0m \u001b[1m24s\u001b[0m 127ms/step - loss: 0.3478 - mean_squared_error: 0.0440 - val_loss: 0.3585 - val_mean_squared_error: 0.0553\n",
      "Epoch 6/10\n",
      "\u001b[1m187/187\u001b[0m \u001b[32m━━━━━━━━━━━━━━━━━━━━\u001b[0m\u001b[37m\u001b[0m \u001b[1m25s\u001b[0m 135ms/step - loss: 0.3416 - mean_squared_error: 0.0411 - val_loss: 0.3387 - val_mean_squared_error: 0.0425\n",
      "Epoch 6: early stopping\n",
      "\u001b[1m59/59\u001b[0m \u001b[32m━━━━━━━━━━━━━━━━━━━━\u001b[0m\u001b[37m\u001b[0m \u001b[1m2s\u001b[0m 40ms/step - loss: 0.3282 - mean_squared_error: 0.0319\n"
     ]
    },
    {
     "name": "stderr",
     "output_type": "stream",
     "text": [
      "[I 2024-05-12 20:48:15,426] Trial 4 finished with value: 0.3265719711780548 and parameters: {'steps_past': 25, 'steps_future': 6}. Best is trial 3 with value: 0.049423303455114365.\n"
     ]
    }
   ],
   "source": [
    "predictor_instance = PureMulti(target = scaled_target, features = scaled_features)\n",
    "\n",
    "\n",
    "def objective(trial):\n",
    "\n",
    "    steps_past = trial.suggest_int('steps_past', 5, 30)\n",
    "    steps_future = trial.suggest_int('steps_future', 5, 10)\n",
    "    \n",
    "    \n",
    "    predictor_instance.create_fit_bilstm(\n",
    "        steps_past =  steps_past,\n",
    "        steps_future = steps_future,\n",
    "        loss='mean_squared_error',\n",
    "        metrics='mean_squared_error',\n",
    "        bilstm_block_one = 3,\n",
    "        lstm_block_one = 2,\n",
    "        layer_config = custom_layer_config, \n",
    "        epochs=10,\n",
    "        show_progress=1,\n",
    "        validation_split=0.20,\n",
    "        board=False,\n",
    "        monitor='val_loss',\n",
    "        patience=3,\n",
    "        min_delta=0,\n",
    "        verbose=1\n",
    "    )\n",
    "\n",
    "    predictor_instance.evaluate_model()\n",
    "    metric_value = predictor_instance.show_evaluation()[0]\n",
    "\n",
    "    return metric_value\n",
    "\n",
    "study = optuna.create_study(direction='minimize')  \n",
    "study.optimize(objective, n_trials=5) "
   ]
  }
 ],
 "metadata": {
  "kernelspec": {
   "display_name": "Python 3 (ipykernel)",
   "language": "python",
   "name": "python3"
  },
  "language_info": {
   "codemirror_mode": {
    "name": "ipython",
    "version": 3
   },
   "file_extension": ".py",
   "mimetype": "text/x-python",
   "name": "python",
   "nbconvert_exporter": "python",
   "pygments_lexer": "ipython3",
   "version": "3.10.8"
  }
 },
 "nbformat": 4,
 "nbformat_minor": 5
}
